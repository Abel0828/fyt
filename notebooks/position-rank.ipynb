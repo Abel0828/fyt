{
 "cells": [
  {
   "cell_type": "code",
   "execution_count": 1,
   "metadata": {},
   "outputs": [],
   "source": [
    "import numpy as np\n",
    "import pandas as pd\n",
    "import math\n",
    "\n",
    "import matplotlib.pyplot as plt\n",
    "from tqdm import tqdm_notebook as tqdm\n",
    "from sklearn.preprocessing import StandardScaler"
   ]
  },
  {
   "cell_type": "code",
   "execution_count": 3,
   "metadata": {},
   "outputs": [],
   "source": [
    "irr_idx=df[(df['qiren']=='旗人')|(df['fangkeben_only']==1) |\n",
    "           (df['xing'].isnull() & df['ming'].isnull() & \n",
    "            df[ 'zihao'].isnull())].index.tolist()\n",
    "malformed_idx=df[(df['year'].isin(['銀庫', '蒙古',7.0])) | \n",
    "                 (df['pinji_numeric']=='州') | df['year'].isnull() |\n",
    "                df['qiren'].isnull() | (df['xuhao']=='麗')].index.tolist()\n",
    "to_remove=set(irr_idx)|set(malformed_idx)"
   ]
  },
  {
   "cell_type": "code",
   "execution_count": 4,
   "metadata": {},
   "outputs": [],
   "source": [
    "df.drop(to_remove, inplace=True)\n",
    "df['year']=df['year'].astype(float)\n",
    "df['pinji_numeric']=df['pinji_numeric'].astype(float)\n",
    "df['xuhao']=df['xuhao'].astype(int)\n",
    "df.drop(df[df['xuhao']>=20000].index.tolist(), inplace=True)"
   ]
  },
  {
   "cell_type": "code",
   "execution_count": 5,
   "metadata": {},
   "outputs": [
    {
     "name": "stdout",
     "output_type": "stream",
     "text": [
      "nan converted into 10.0\n",
      "正八品 converted into 8.0\n",
      "正七品 converted into 7.0\n",
      "從九品 converted into 9.5\n",
      "正六品 converted into 6.0\n",
      "從五品 converted into 5.5\n",
      "正五品 converted into 5.0\n",
      "從七品 converted into 7.5\n",
      "未入流 converted into 10.0\n",
      "從六品 converted into 6.5\n",
      "正二品 converted into 2.0\n",
      "從四品 converted into 4.5\n",
      "正九品 converted into 9.0\n",
      "正四品 converted into 4.0\n",
      "從三品 converted into 3.5\n",
      "八品 converted into 8.0\n",
      "正三品 converted into 3.0\n",
      "從一品 converted into 1.5\n",
      "正一品 converted into 1.0\n",
      "從二品 converted into 2.5\n",
      "從八品 converted into 8.5\n",
      "從一品(應為正四品) converted into 4.0\n",
      "三品 converted into 3.0\n",
      "九品 converted into 9.0\n",
      "四品 converted into 4.0\n",
      "不入流 converted into 10.0\n",
      "六品 converted into 6.0\n",
      "一品 converted into 1.0\n",
      "二品 converted into 2.0\n",
      "七品 converted into 7.0\n",
      "五品 converted into 5.0\n"
     ]
    }
   ],
   "source": [
    "def str2float(s):\n",
    "    if s in [np.nan, '不入流', '未入流']:\n",
    "        return 10.0\n",
    "    if s=='從一品(應為正四品)':\n",
    "        return 4.0\n",
    "    dic=dict(zip(['一', '二','三','四','五', '六','七','八','九'], np.arange(1,10)))\n",
    "    base = dic[s[-2]]\n",
    "    base+=0.5*('從' in s)\n",
    "    return float(base)\n",
    "for i in df['pinji_detailed'].unique():\n",
    "    print(i, 'converted into', str2float(i))"
   ]
  },
  {
   "cell_type": "code",
   "execution_count": 6,
   "metadata": {},
   "outputs": [],
   "source": [
    "df['pinji_detailed_numeric']=df['pinji_detailed'].apply(str2float)"
   ]
  },
  {
   "cell_type": "code",
   "execution_count": 88,
   "metadata": {
    "scrolled": false
   },
   "outputs": [
    {
     "name": "stdout",
     "output_type": "stream",
     "text": [
      "total number of people 1824624\n",
      "\n",
      "number of unique diqu （地区） 34\n",
      "Top 20: [('京師', 277411), ('直隸', 137009), ('山東', 117227), ('四川', 108514), ('廣東', 100973), ('河南', 96405), ('江西', 94022), ('浙江', 93826), ('山西', 83787), ('湖北', 75208), ('江南', 73057), ('福建', 72888), ('湖南', 71482), ('雲南', 70277), ('廣西', 70100), ('陝西', 67441), ('安徽', 60790), ('貴州', 50984), ('甘肅', 45787), ('江蘇', 32316)]\n",
      "\n",
      "number of unique guanzhi（官职) 25738\n",
      "Top 20: [('典史', 218672), ('知縣', 197723), ('訓導', 139029), ('復設訓導', 127792), ('復設教諭', 117965), ('主事', 77227), ('教諭', 75397), ('學正', 38830), ('吏目', 36705), ('教授', 34693), ('知州', 30936), ('縣丞', 30325), ('經厯', 22609), ('知府', 22031), ('翰林院編修', 19527), ('郎中', 14866), ('員外郎', 12710), ('翰林院庶吉士', 10744), ('司獄', 9470), ('經歷', 8398)]\n",
      "\n",
      "number of unique jigou_1 （机构一） 1089\n",
      "Top 20: [('翰林院衙門', 41080), ('刑部衙門', 30615), ('順天府', 28839), ('戶部衙門', 25653), ('兗州府', 24549), ('總漕部院衙門', 19932), ('廣州府', 19043), ('兵部衙門', 16523), ('按察司衙門', 15704), ('西安府', 14864), ('開封府', 14473), ('保定府', 14095), ('濟南府', 13810), ('成都府', 13013), ('都察院衙門', 12536), ('天津府', 12479), ('工部衙門', 12297), ('太醫院衙門', 12294), ('正定府', 12104), ('吉安府', 11986)]\n",
      "\n",
      "number of unique (jigou_1, guanzhi) pair （机构一+官职） 37082\n",
      "Top 20: [(('刑部衙門', '主事'), 19359), (('翰林院衙門', '翰林院編修'), 19181), (('戶部衙門', '主事'), 15054), (('翰林院衙門', '翰林院庶吉士'), 10721), (('工部衙門', '主事'), 7904), (('吏部衙門', '主事'), 7430), (('總漕部院衙門', '領運千總'), 7226), (('度支部衙門', '主事'), 6754), (('兵部衙門', '主事'), 5807), (('禮部衙門', '主事'), 5430), (('法部衙門', '主事'), 5088), (('欽天監衙門', '博士'), 4485), (('刑部衙門', '郎中'), 4141), (('刑部衙門', '員外郎'), 3629), (('兗州府', '執事官'), 3592), (('太醫院衙門', '醫士'), 3549), (('內閣', '中書'), 3470), (('總漕部院衙門', '掌印守備'), 3436), (('順天府', '典史'), 3271), (('兵部衙門', '差官'), 3198)]\n",
      "\n",
      "number of unique (jigou_1, jigou_2, guanzhi) tuple （机构一+机构二+官职） 35865\n",
      "Top 20: [(('翰林院衙門', '翰林院編修', '翰林院編修'), 18884), (('刑部衙門', '額外司員', '主事'), 16557), (('戶部衙門', '額外司員', '主事'), 11339), (('翰林院衙門', '翰林院庶吉士', '翰林院庶吉士'), 10668), (('工部衙門', '額外司員', '主事'), 6842), (('度支部衙門', '額外司員', '主事'), 6401), (('吏部衙門', '額外司員', '主事'), 6290), (('兵部衙門', '額外司員', '主事'), 5166), (('禮部衙門', '額外司員', '主事'), 4714), (('法部衙門', '額外司員', '主事'), 4682), (('兗州府', '曲阜縣', '執事官'), 3592), (('太醫院衙門', '醫士', '醫士'), 3520), (('兵部衙門', '兵部差官', '差官'), 3198), (('翰林院衙門', '翰林院檢討', '翰林院檢討'), 2976), (('欽天監衙門', '時憲科', '博士'), 2930), (('按察司衙門', nan, '司獄'), 2843), (('陸軍部衙門', '候補主事', '候補主事'), 2588), (('內閣', '漢票簽中書舍人', '中書'), 2434), (('總漕部院衙門', '江南衛所', '領運千總'), 2400), (('太醫院衙門', '九品吏目', '九品吏目'), 2242)]\n",
      "\n"
     ]
    },
    {
     "data": {
      "text/plain": [
       "[<matplotlib.lines.Line2D at 0x188405b8cf8>]"
      ]
     },
     "execution_count": 88,
     "metadata": {},
     "output_type": "execute_result"
    },
    {
     "data": {
      "image/png": "[encoded data removed]",
      "text/plain": [
       "<Figure size 432x288 with 1 Axes>"
      ]
     },
     "metadata": {
      "needs_background": "light"
     },
     "output_type": "display_data"
    }
   ],
   "source": [
    "def plot_distri(arr, name):\n",
    "    long_flag=False\n",
    "    if len(arr.shape)==1:\n",
    "        print('number of unique {}'.format(name), arr.unique().shape[0])\n",
    "    else:\n",
    "        \n",
    "        print('number of unique {}'.format(name), arr.groupby(list(arr.columns)).ngroups)\n",
    "        long_flag=True\n",
    "    item_count={}\n",
    "    for item in arr.values:\n",
    "\n",
    "        if long_flag:\n",
    "            it = tuple(item)\n",
    "        else: \n",
    "            it=item\n",
    "        \n",
    "        if it not in item_count:\n",
    "            item_count[it]=1\n",
    "        else:\n",
    "            item_count[it]+=1\n",
    "    sorted_two_tuples=sorted(list(item_count.items()), key=lambda x:-x[1])\n",
    "    print('Top 20:', sorted_two_tuples[:20])\n",
    "    print()\n",
    "    return sorted_two_tuples\n",
    "#     plt.plot(sorted(item_count.values(),reverse=True))\n",
    "print('total number of people', df.shape[0], end='\\n\\n')\n",
    "\n",
    "plot_distri(df['diqu'], 'diqu （地区）')\n",
    "plot_distri(df['guanzhi'],'guanzhi（官职)')\n",
    "plot_distri(df['jigou_1'], 'jigou_1 （机构一）')\n",
    "sorted_two_tuples=plot_distri(df[['jigou_1', 'guanzhi']], '(jigou_1, guanzhi) pair （机构一+官职）')\n",
    "sorted_two_tuples2=plot_distri(df[['jigou_1', 'jigou_2','guanzhi']], '(jigou_1, jigou_2, guanzhi) tuple （机构一+机构二+官职）')\n",
    "plt.plot(pd.DataFrame(sorted_two_tuples)[1][:100])\n",
    "# print(df.groupby(['guanzhi', '', '']))"
   ]
  },
  {
   "cell_type": "markdown",
   "metadata": {},
   "source": [
    "## the 5000th position has more than 60 records -> the defnition for position is suitable"
   ]
  },
  {
   "cell_type": "code",
   "execution_count": 89,
   "metadata": {
    "scrolled": false
   },
   "outputs": [
    {
     "data": {
      "text/plain": [
       "[<matplotlib.lines.Line2D at 0x1884c0025f8>]"
      ]
     },
     "execution_count": 89,
     "metadata": {},
     "output_type": "execute_result"
    },
    {
     "data": {
      "image/png": "[encoded data removed]",
      "text/plain": [
       "<Figure size 1080x720 with 1 Axes>"
      ]
     },
     "metadata": {
      "needs_background": "light"
     },
     "output_type": "display_data"
    }
   ],
   "source": [
    "plt.figure(figsize=(15,10))\n",
    "plt.plot(pd.DataFrame(sorted_two_tuples)[1])\n",
    "plt.plot(pd.DataFrame(sorted_two_tuples2)[1])\n"
   ]
  },
  {
   "cell_type": "markdown",
   "metadata": {},
   "source": [
    "## Micro Measurement: in unit of shortest segment with length 1"
   ]
  },
  {
   "cell_type": "code",
   "execution_count": 83,
   "metadata": {},
   "outputs": [
    {
     "data": {
      "application/vnd.jupyter.widget-view+json": {
       "model_id": "6838e4a2288d4251bc6911c2e74da3aa",
       "version_major": 2,
       "version_minor": 0
      },
      "text/plain": [
       "HBox(children=(IntProgress(value=0, max=214224), HTML(value='')))"
      ]
     },
     "metadata": {},
     "output_type": "display_data"
    },
    {
     "name": "stdout",
     "output_type": "stream",
     "text": [
      "\n"
     ]
    }
   ],
   "source": [
    "ppry=df[['unique_id', 'jigou_1', 'guanzhi', 'pinji_detailed_numeric', 'year']] #person_position_rank_year\n",
    "pos_score={} #{pos->[promotions, count]}\n",
    "duplicate_count=0\n",
    "for id_, subtable in tqdm(ppry.groupby('unique_id')):\n",
    "    \n",
    "    pre_year=None\n",
    "    pre_pinji=None\n",
    "    pre_pos=None\n",
    "    for index, row in subtable.sort_values('year').iterrows():\n",
    "#         print(row)\n",
    "        if not pre_year:\n",
    "            pre_year=row['year']\n",
    "            pre_pinji=row['pinji_detailed_numeric']\n",
    "            pre_pos=(row['jigou_1'], row['guanzhi'])\n",
    "        else:\n",
    "            promotion=row['pinji_detailed_numeric']-pre_pinji\n",
    "            time=row['year']-pre_year\n",
    "            if time==0:\n",
    "                duplicate_count+=1\n",
    "                #update tracking variables\n",
    "                pre_year=row['year']\n",
    "                pre_pinji=row['pinji_detailed_numeric']\n",
    "                continue\n",
    "            \n",
    "            # update pos_score for pre_pose\n",
    "            if pre_pos in pos_score:\n",
    "                pos_score[pre_pos][0]+=(promotion/time)\n",
    "                pos_score[pre_pos][1]+=1\n",
    "            else:\n",
    "                pos_score[pre_pos]=[promotion/time, 1]\n",
    "                \n",
    "            #update tracking variables\n",
    "            pre_year=row['year']\n",
    "            pre_pinji=row['pinji_detailed_numeric']\n",
    "            pre_pos=(row['jigou_1'], row['guanzhi'])"
   ]
  },
  {
   "cell_type": "code",
   "execution_count": 84,
   "metadata": {},
   "outputs": [
    {
     "name": "stdout",
     "output_type": "stream",
     "text": [
      "16573\n"
     ]
    }
   ],
   "source": [
    "print(duplicate_count)"
   ]
  },
  {
   "cell_type": "code",
   "execution_count": 85,
   "metadata": {},
   "outputs": [
    {
     "name": "stdout",
     "output_type": "stream",
     "text": [
      "[(('按察司衙門', '廣東等處提刑按察使司按察使統轄全省驛傳事務'), [3.55300422705314, 112]),\n",
      " (('翰林院衙門', '翰林院侍講'), [1.3191198060759048, 151]),\n",
      " (('都察院衙門', '經厯'), [1.1329479768786126, 173]),\n",
      " (('總漕部院衙門', '掌印守備'), [1.0471874742139051, 2916]),\n",
      " ((nan, '巡撫兼理提督統轄全省等處地方軍務節製各鎮'), [0.9087034649791005, 106]),\n",
      " (('郵傳部衙門', '候補主事'), [0.8270676691729323, 133]),\n",
      " (('順天府', '順天府府尹'), [0.7645527228327228, 125]),\n",
      " (('翰林院衙門', '翰林院修撰'), [0.6845631995932572, 605]),\n",
      " ((nan, '督標中軍副將'), [0.6577659888004715, 145]),\n",
      " (('兗州府', '七品執事官'), [0.6577446014396161, 682]),\n",
      " (('兗州府', '五品執事官'), [0.6471074380165289, 484]),\n",
      " (('都察院衙門', '都事'), [0.578532641126626, 133]),\n",
      " (('南陽府', '鎮守河南南陽等處地方總兵官'), [0.575, 104]),\n",
      " (('大名府', '漳河縣丞'), [0.5742574257425742, 101]),\n",
      " (('兗州府', '執事官'), [0.5630585664413892, 3443]),\n",
      " (('兗州府', '伴官'), [0.5347645029828395, 184]),\n",
      " (('奉天府', '府丞提督學政'), [0.5293888442891845, 121]),\n",
      " (('兗州府', '九品執事官'), [0.5257731958762887, 776]),\n",
      " (('兗州府', '八品執事官'), [0.5231939163498099, 789]),\n",
      " (('順天府', '順天府府丞'), [0.508536075036075, 130]),\n",
      " ((nan, '撫標中軍參將兼管左營事務'), [0.49198943824285396, 409]),\n",
      " (('鹽務衙門', '两浙嘉興鬆江鹽運分司運判'), [0.47837483617300125, 109]),\n",
      " (('蘇州府', '管粮通判'), [0.45098039215686275, 102]),\n",
      " (('重慶府', '縣丞駐白市馹'), [0.44477513227513227, 112]),\n",
      " (('翰林院衙門', '翰林院檢討'), [0.4279533926863249, 2709]),\n",
      " (('內閣衙門', '中書'), [0.391853217157732, 1757]),\n",
      " (('都勻府', '縣丞駐劄方村'), [0.3718964076858814, 120]),\n",
      " (('蒲州府', '縣丞'), [0.37023809523809526, 144]),\n",
      " (('南昌府', '州同移駐渣津'), [0.3614302364302365, 121]),\n",
      " (('臨江府', '知府'), [0.35772357723577236, 123])]\n"
     ]
    }
   ],
   "source": [
    "pos_score_micro=pos_score\n",
    "pos_normscore={}\n",
    "curoff_occurences=100\n",
    "for key, value in pos_score_micro.items():\n",
    "    if value[1]<curoff_occurences: # MUST do this filteration to remove noise: remove occurences < 5\n",
    "        continue\n",
    "    pos_normscore[key]=[value[0]/value[1], value[1]]\n",
    "pos_ranking_micro=sorted(list(pos_normscore.items()), key=lambda x: -x[1][0])\n",
    "from pprint import pprint\n",
    "pprint(pos_ranking_micro[:30])"
   ]
  },
  {
   "cell_type": "markdown",
   "metadata": {},
   "source": [
    "Note: a minor problem remains unsolved: duplicate record a specific person in a specific year"
   ]
  },
  {
   "cell_type": "markdown",
   "metadata": {},
   "source": [
    "## Local Measurement: in unit of a person"
   ]
  },
  {
   "cell_type": "code",
   "execution_count": 90,
   "metadata": {},
   "outputs": [
    {
     "data": {
      "application/vnd.jupyter.widget-view+json": {
       "model_id": "f1fb6db384f04c7fa00a6f6b8106c978",
       "version_major": 2,
       "version_minor": 0
      },
      "text/plain": [
       "HBox(children=(IntProgress(value=0, max=214224), HTML(value='')))"
      ]
     },
     "metadata": {},
     "output_type": "display_data"
    }
   ],
   "source": [
    "import random\n",
    "\n",
    "pos_score={} #{pos->[promotions, count]}\n",
    "duplicate_count2=0\n",
    "for id_, subtable in tqdm(ppry.groupby('unique_id')):\n",
    "    # sample a subset to reduce size\n",
    "#     if random.uniform(0, 1)>0.1:\n",
    "#         continue\n",
    "        \n",
    "        \n",
    "    st=list(subtable.sort_values('year').T.to_dict().values())\n",
    "    length=len(st)\n",
    "    for idx, row1 in enumerate(st):\n",
    "        if idx>=length-1:\n",
    "            break\n",
    "            \n",
    "        #start calculating for a specific position in one person's career\n",
    "        pos=(row1['jigou_1'], row1['guanzhi'])\n",
    "        score=0\n",
    "        count=0\n",
    "        cur_pinji=row1['pinji_detailed_numeric']\n",
    "        cur_year=row1['year']\n",
    "        for row2 in st[idx+1:]:\n",
    "            promotion=row2['pinji_detailed_numeric']-cur_pinji\n",
    "            time=row2['year']-cur_year\n",
    "            if time==0:\n",
    "                continue\n",
    "            score+=promotion/time\n",
    "            count+=1\n",
    "            \n",
    "        if count==0:\n",
    "            duplicate_count2+=1\n",
    "            continue\n",
    "        # update pos_score\n",
    "        if pos in pos_score:\n",
    "            pos_score[pos][0]+=(score/count)\n",
    "            pos_score[pos][1]+=1\n",
    "        else:\n",
    "            pos_score[pos]=[score/count, 1]\n",
    "                "
   ]
  },
  {
   "cell_type": "code",
   "execution_count": 91,
   "metadata": {},
   "outputs": [
    {
     "name": "stdout",
     "output_type": "stream",
     "text": [
      "[(('按察司衙門', '廣東等處提刑按察使司按察使統轄全省驛傳事務'), [1.5946362778839382, 113]),\n",
      " (('順天府', '順天府府尹'), [0.7174831007742267, 128]),\n",
      " (('欽天監衙門', '欽天監監正'), [0.5831052061667533, 163]),\n",
      " (('民政部衙門', '郎中'), [0.4928052852462227, 201]),\n",
      " (('郵傳部衙門', '候補主事'), [0.4791600913250996, 132]),\n",
      " (('都察院衙門', '都事'), [0.47494610025086864, 144]),\n",
      " (('按察司衙門', '題分守冀甯道轄太汾潞澤遼沁平七府州兼管水利事務'), [0.4551757033459097, 104]),\n",
      " (('奉天府', '府丞提督學政'), [0.45345669812953876, 126]),\n",
      " (('都察院衙門', '經厯'), [0.3923895545710953, 182]),\n",
      " (('按察司衙門', '鹽法道庫大使'), [0.35670615273334316, 272]),\n",
      " (('翰林院衙門', '翰林院侍講'), [0.3462819956203563, 155]),\n",
      " (('順天府', '順天府府丞'), [0.338249639534295, 141]),\n",
      " (('總漕部院衙門', '掌印守備'), [0.3108123530679416, 2966]),\n",
      " (('兗州府', '伴官'), [0.29330425875690314, 183]),\n",
      " (('興化府', '知府'), [0.2910720111374807, 109]),\n",
      " (('兗州府', '五品執事官'), [0.2826738560951924, 481]),\n",
      " (('鄖陽府', '鎮守湖北鄖陽等處地方總兵官'), [0.2624719049817595, 119]),\n",
      " (('農工商部衙門', '郎中'), [0.2598148689810711, 243]),\n",
      " (('外務部衙門', '七品小京官'), [0.259084527439821, 309]),\n",
      " (('兗州府', '七品執事官'), [0.2531578240872958, 693]),\n",
      " (('鎮源直隸廳', '同知'), [0.2507321350961858, 100]),\n",
      " (('郵傳部衙門', '員外郎'), [0.24051198327350864, 131]),\n",
      " (('國子監衙門', '典簿'), [0.2389057172311719, 142]),\n",
      " (('開封府', '鹽捕同知駐朱仙鎮'), [0.22340367543925388, 151]),\n",
      " (('饒州府', '知府'), [0.2221310032393751, 114]),\n",
      " (('都勻府', '知府'), [0.21781162143675223, 134]),\n",
      " (('天津府', '請旨分巡直隸天津河間等處地方兼管河務兵備道'), [0.21755257245771267, 122]),\n",
      " (('外務部衙門', '郎中'), [0.21492679723378927, 252]),\n",
      " (('農工商部衙門', '候補主事'), [0.21412049638654196, 197]),\n",
      " (('翰林院衙門', '翰林院修撰'), [0.20676129889384584, 602])]\n"
     ]
    }
   ],
   "source": [
    "pos_score_local=pos_score\n",
    "pos_normscore={}\n",
    "curoff_occurences=100\n",
    "for key, value in pos_score_local.items():\n",
    "    if value[1]<curoff_occurences: # MUST do this filteration to remove noise: remove occurences < 5\n",
    "        continue\n",
    "    pos_normscore[key]=[value[0]/value[1], value[1]]\n",
    "pos_ranking_local=sorted(list(pos_normscore.items()), key=lambda x: -x[1][0])\n",
    "from pprint import pprint\n",
    "pprint(pos_ranking_local[:30])"
   ]
  },
  {
   "cell_type": "code",
   "execution_count": null,
   "metadata": {},
   "outputs": [],
   "source": []
  }
 ],
 "metadata": {
  "kernelspec": {
   "display_name": "Python 3",
   "language": "python",
   "name": "python3"
  },
  "language_info": {
   "codemirror_mode": {
    "name": "ipython",
    "version": 3
   },
   "file_extension": ".py",
   "mimetype": "text/x-python",
   "name": "python",
   "nbconvert_exporter": "python",
   "pygments_lexer": "ipython3",
   "version": "3.5.4"
  }
 },
 "nbformat": 4,
 "nbformat_minor": 2
}
