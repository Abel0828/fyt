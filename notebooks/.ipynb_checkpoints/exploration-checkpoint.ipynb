{
 "cells": [
  {
   "cell_type": "code",
   "execution_count": 1,
   "metadata": {},
   "outputs": [],
   "source": [
    "import numpy as np\n",
    "import pandas as pd\n",
    "import math"
   ]
  },
  {
   "cell_type": "code",
   "execution_count": 2,
   "metadata": {},
   "outputs": [],
   "source": [
    "import matplotlib.pyplot as plt\n",
    "from tqdm import tqdm_notebook as tqdm\n",
    "from sklearn.preprocessing import StandardScaler"
   ]
  },
  {
   "cell_type": "code",
   "execution_count": 3,
   "metadata": {},
   "outputs": [
    {
     "name": "stderr",
     "output_type": "stream",
     "text": [
      "e:\\hkust\\learning\\fyp\\venv_fyt\\lib\\site-packages\\IPython\\core\\interactiveshell.py:3018: DtypeWarning: Columns (0,1,2,3,4,5,6,7,8,9,10,11,14,15,16,25,27,29,30,31,32,33,35,36,37,43,44,45,46,47,48,49,50,51,54,55,56,57,58,60,63,66,68,71,73,74,84,89,90,91,92) have mixed types. Specify dtype option on import or set low_memory=False.\n",
      "  interactivity=interactivity, compiler=compiler, result=result)\n"
     ]
    }
   ],
   "source": [
    "# subset_col=['year','diqu','jigou_1','jigou_2', 'jigou_3', 'guanzhi','chushen_1','pinji_numeric', 'xitong']\n",
    "df=pd.read_csv('../data/Jinshenlu.txt',sep='\\t',\n",
    "#                usecols=subset_col, \n",
    "              error_bad_lines=False)\n",
    "# df.sample(frac=0.01).to_csv('../data/Jinshenlu_sample.csv', encoding='utf-8')"
   ]
  },
  {
   "cell_type": "markdown",
   "metadata": {},
   "source": [
    "## Curate the database: filter out the malformed for the moment.\n",
    "1. Calculate the portion of malformed and some basic stats\n",
    "2. remove malformed and irrelevant(fangkeben_only=0 qiren=0 exclude people without names)"
   ]
  },
  {
   "cell_type": "markdown",
   "metadata": {},
   "source": [
    "Count how much are machu civilians"
   ]
  },
  {
   "cell_type": "code",
   "execution_count": 13,
   "metadata": {
    "scrolled": true
   },
   "outputs": [
    {
     "name": "stdout",
     "output_type": "stream",
     "text": [
      "0.21570111636069703\n",
      "0.04625493778798516\n",
      "0.09660182127684154\n"
     ]
    }
   ],
   "source": [
    "def convt(s):\n",
    "    f=None\n",
    "    try:\n",
    "        f=float(s)\n",
    "    except:\n",
    "        pass\n",
    "    return f\n",
    "print((df['qiren']=='旗人').sum()/df.shape[0])\n",
    "print((df['fangkeben_only']==1).sum()/df.shape[0])\n",
    "print((df['xuhao'].apply(convt)>=20000).sum()/df.shape[0])"
   ]
  },
  {
   "cell_type": "code",
   "execution_count": 7,
   "metadata": {
    "scrolled": true
   },
   "outputs": [
    {
     "name": "stdout",
     "output_type": "stream",
     "text": [
      "no surname 782335\n",
      "no last name 194191\n",
      "no zihao 2727832\n",
      "no name at all 193626\n"
     ]
    }
   ],
   "source": [
    "print('no surname',df['xing'].isnull().sum())\n",
    "print('no last name', df['ming'].isnull().sum())\n",
    "print('no zihao', df['zihao'].isnull().sum())\n",
    "print('no name at all', (df['xing'].isnull() & df['ming'].isnull() & df[ 'zihao'].isnull()).sum())"
   ]
  },
  {
   "cell_type": "markdown",
   "metadata": {},
   "source": [
    "Now remove all the irrelevant/malformed\n",
    "xuhao >20k discarded"
   ]
  },
  {
   "cell_type": "code",
   "execution_count": 4,
   "metadata": {},
   "outputs": [],
   "source": [
    "irr_idx=df[(df['qiren']=='旗人')|(df['fangkeben_only']==1) |\n",
    "           (df['xing'].isnull() & df['ming'].isnull() & \n",
    "            df[ 'zihao'].isnull())].index.tolist()\n",
    "malformed_idx=df[(df['year'].isin(['銀庫', '蒙古',7.0])) | \n",
    "                 (df['pinji_numeric']=='州') | df['year'].isnull() |\n",
    "                df['qiren'].isnull() | (df['xuhao']=='麗')].index.tolist()\n",
    "to_remove=set(irr_idx)|set(malformed_idx)"
   ]
  },
  {
   "cell_type": "code",
   "execution_count": 15,
   "metadata": {},
   "outputs": [
    {
     "name": "stdout",
     "output_type": "stream",
     "text": [
      "918912\n"
     ]
    }
   ],
   "source": [
    "print(len(to_remove))"
   ]
  },
  {
   "cell_type": "code",
   "execution_count": 5,
   "metadata": {},
   "outputs": [],
   "source": [
    "df.drop(to_remove, inplace=True)\n",
    "df['year']=df['year'].astype(float)\n",
    "df['pinji_numeric']=df['pinji_numeric'].astype(float)\n",
    "df['xuhao']=df['xuhao'].astype(int)"
   ]
  },
  {
   "cell_type": "code",
   "execution_count": 13,
   "metadata": {},
   "outputs": [],
   "source": [
    "df.drop(df[df['xuhao']>=20000].index.tolist(), inplace=True)"
   ]
  },
  {
   "cell_type": "code",
   "execution_count": 23,
   "metadata": {},
   "outputs": [
    {
     "data": {
      "text/plain": [
       "2058889"
      ]
     },
     "execution_count": 23,
     "metadata": {},
     "output_type": "execute_result"
    }
   ],
   "source": [
    "print('pinji_detailed_numeric is more complete:',df['pinjin_detailed_numeric'].notnull().sum())\n",
    "print('pinji_numeric has missing values', df['pinji_numeric'].notnull().sum())"
   ]
  },
  {
   "cell_type": "markdown",
   "metadata": {},
   "source": [
    "## Up to this point every record has \"year\" and \"品级\"（not pinji_numeric）"
   ]
  },
  {
   "cell_type": "markdown",
   "metadata": {},
   "source": [
    "Weird: 1880-1882 no records?"
   ]
  },
  {
   "cell_type": "code",
   "execution_count": 14,
   "metadata": {
    "scrolled": false
   },
   "outputs": [
    {
     "data": {
      "text/plain": [
       "Text(0,0.5,'#Records')"
      ]
     },
     "execution_count": 14,
     "metadata": {},
     "output_type": "execute_result"
    },
    {
     "data": {
      "image/png": "[encoded data removed]",
      "text/plain": [
       "<Figure size 1080x576 with 1 Axes>"
      ]
     },
     "metadata": {
      "needs_background": "light"
     },
     "output_type": "display_data"
    }
   ],
   "source": [
    "plt.figure(figsize=(15,8))\n",
    "counts_ends=plt.hist(df['year'].dropna(), bins=np.arange(1760,1913))\n",
    "plt.xlabel('year')\n",
    "plt.ylabel('#Records')"
   ]
  },
  {
   "cell_type": "markdown",
   "metadata": {},
   "source": [
    "Is that the real distribution of Qing civil servant's rankings?"
   ]
  },
  {
   "cell_type": "code",
   "execution_count": 18,
   "metadata": {},
   "outputs": [
    {
     "data": {
      "text/plain": [
       "Text(0,0.5,'#records')"
      ]
     },
     "execution_count": 18,
     "metadata": {},
     "output_type": "execute_result"
    },
    {
     "data": {
      "image/png": "[encoded data removed]",
      "text/plain": [
       "<Figure size 576x360 with 1 Axes>"
      ]
     },
     "metadata": {
      "needs_background": "light"
     },
     "output_type": "display_data"
    }
   ],
   "source": [
    "plt.figure(figsize=(8,5))\n",
    "plt.hist(df['pinji_numeric'].dropna().astype(float), bins=9, align='right')\n",
    "plt.xticks(np.arange(10))\n",
    "plt.xlabel('position ranking')\n",
    "plt.ylabel('#records')"
   ]
  },
  {
   "cell_type": "markdown",
   "metadata": {},
   "source": [
    "## 13% records have unmatched rankings"
   ]
  },
  {
   "cell_type": "code",
   "execution_count": 16,
   "metadata": {},
   "outputs": [
    {
     "name": "stdout",
     "output_type": "stream",
     "text": [
      "nan converted into 10.0\n",
      "正八品 converted into 8.0\n",
      "正七品 converted into 7.0\n",
      "從九品 converted into 9.5\n",
      "正六品 converted into 6.0\n",
      "從五品 converted into 5.5\n",
      "正五品 converted into 5.0\n",
      "從七品 converted into 7.5\n",
      "未入流 converted into 10.0\n",
      "從六品 converted into 6.5\n",
      "正二品 converted into 2.0\n",
      "從四品 converted into 4.5\n",
      "正九品 converted into 9.0\n",
      "正四品 converted into 4.0\n",
      "從三品 converted into 3.5\n",
      "八品 converted into 8.0\n",
      "正三品 converted into 3.0\n",
      "從一品 converted into 1.5\n",
      "正一品 converted into 1.0\n",
      "從二品 converted into 2.5\n",
      "從八品 converted into 8.5\n",
      "從一品(應為正四品) converted into 4.0\n",
      "三品 converted into 3.0\n",
      "九品 converted into 9.0\n",
      "四品 converted into 4.0\n",
      "不入流 converted into 10.0\n",
      "六品 converted into 6.0\n",
      "一品 converted into 1.0\n",
      "二品 converted into 2.0\n",
      "七品 converted into 7.0\n",
      "五品 converted into 5.0\n"
     ]
    }
   ],
   "source": [
    "def str2float(s):\n",
    "    if s in [np.nan, '不入流', '未入流']:\n",
    "        return 10.0\n",
    "    if s=='從一品(應為正四品)':\n",
    "        return 4.0\n",
    "    dic=dict(zip(['一', '二','三','四','五', '六','七','八','九'], np.arange(1,10)))\n",
    "    base = dic[s[-2]]\n",
    "    base+=0.5*('從' in s)\n",
    "    return float(base)\n",
    "for i in df['pinji_detailed'].unique():\n",
    "    print(i, 'converted into', str2float(i))"
   ]
  },
  {
   "cell_type": "code",
   "execution_count": 17,
   "metadata": {},
   "outputs": [],
   "source": [
    "df['pinji_detailed_numeric']=df['pinji_detailed'].apply(str2float)"
   ]
  },
  {
   "cell_type": "code",
   "execution_count": 23,
   "metadata": {},
   "outputs": [
    {
     "name": "stdout",
     "output_type": "stream",
     "text": [
      "253959\n"
     ]
    }
   ],
   "source": [
    "unmatch_count=0\n",
    "\n",
    "for (orig, gen) in df[['pinji_numeric', 'pinji_detailed_numeric']].values:\n",
    "    if math.isnan(orig):\n",
    "        continue\n",
    "    else:\n",
    "        unmatch_count+=int(orig)!=int(gen)\n",
    "print(unmatch_count)"
   ]
  },
  {
   "cell_type": "markdown",
   "metadata": {},
   "source": [
    "Draw the diff distribution"
   ]
  },
  {
   "cell_type": "code",
   "execution_count": 25,
   "metadata": {},
   "outputs": [],
   "source": [
    "diffs=[]\n",
    "for (orig, gen) in df[['pinji_numeric', 'pinji_detailed_numeric']].values:\n",
    "    if math.isnan(orig):\n",
    "        continue\n",
    "    else:\n",
    "        if orig==0:\n",
    "            orig=10\n",
    "        diffs.append(gen - orig)"
   ]
  },
  {
   "cell_type": "code",
   "execution_count": 26,
   "metadata": {},
   "outputs": [
    {
     "data": {
      "text/plain": [
       "(array([1.124068e+06, 6.146500e+05, 0.000000e+00, 0.000000e+00,\n",
       "        3.750000e+02, 0.000000e+00, 4.853000e+03, 0.000000e+00,\n",
       "        9.963000e+03, 0.000000e+00, 2.315000e+03, 0.000000e+00,\n",
       "        1.003000e+03, 0.000000e+00, 6.840000e+02, 0.000000e+00,\n",
       "        2.687000e+03, 0.000000e+00, 1.410000e+02, 0.000000e+00]),\n",
       " array([ 0. ,  0.5,  1. ,  1.5,  2. ,  2.5,  3. ,  3.5,  4. ,  4.5,  5. ,\n",
       "         5.5,  6. ,  6.5,  7. ,  7.5,  8. ,  8.5,  9. ,  9.5, 10. ]),\n",
       " <a list of 20 Patch objects>)"
      ]
     },
     "execution_count": 26,
     "metadata": {},
     "output_type": "execute_result"
    },
    {
     "data": {
      "image/png": "[encoded data removed]",
      "text/plain": [
       "<Figure size 432x288 with 1 Axes>"
      ]
     },
     "metadata": {
      "needs_background": "light"
     },
     "output_type": "display_data"
    }
   ],
   "source": [
    "plt.hist(diffs, bins=np.arange(0,10.5,0.5), align='left')"
   ]
  },
  {
   "cell_type": "code",
   "execution_count": 27,
   "metadata": {},
   "outputs": [
    {
     "data": {
      "text/plain": [
       "0    22021\n",
       "dtype: int64"
      ]
     },
     "execution_count": 27,
     "metadata": {},
     "output_type": "execute_result"
    }
   ],
   "source": [
    "pd.DataFrame(data=diffs).apply(lambda x: x> 0.6).sum()"
   ]
  },
  {
   "cell_type": "markdown",
   "metadata": {},
   "source": [
    "### So there are 1% incorrect pinji_numeric"
   ]
  },
  {
   "cell_type": "code",
   "execution_count": 28,
   "metadata": {},
   "outputs": [
    {
     "data": {
      "text/plain": [
       "array([1.0, 2.0, 3.0, nan, 4.0, 5.0, 6, 7, '3', '4', '2', '5', '6', '7'],\n",
       "      dtype=object)"
      ]
     },
     "execution_count": 28,
     "metadata": {},
     "output_type": "execute_result"
    }
   ],
   "source": [
    "df['jicheng_hao'].unique()"
   ]
  },
  {
   "cell_type": "code",
   "execution_count": 29,
   "metadata": {},
   "outputs": [
    {
     "name": "stdout",
     "output_type": "stream",
     "text": [
      "256819\n",
      "(2058889, 98)\n"
     ]
    }
   ],
   "source": [
    "print(len(df['unique_id'].unique()))\n",
    "print(df.shape)"
   ]
  },
  {
   "cell_type": "code",
   "execution_count": 30,
   "metadata": {
    "scrolled": false
   },
   "outputs": [
    {
     "data": {
      "image/png": "[encoded data removed]",
      "text/plain": [
       "<Figure size 1080x576 with 1 Axes>"
      ]
     },
     "metadata": {
      "needs_background": "light"
     },
     "output_type": "display_data"
    }
   ],
   "source": [
    "plt.figure(figsize=(15,8))\n",
    "_=plt.hist(df['unique_id'].value_counts(), bins=np.arange(0,300))"
   ]
  },
  {
   "cell_type": "code",
   "execution_count": 31,
   "metadata": {
    "scrolled": false
   },
   "outputs": [
    {
     "data": {
      "image/png": "[encoded data removed]",
      "text/plain": [
       "<Figure size 1080x576 with 1 Axes>"
      ]
     },
     "metadata": {
      "needs_background": "light"
     },
     "output_type": "display_data"
    }
   ],
   "source": [
    "plt.figure(figsize=(15,8))\n",
    "_=plt.hist(df[['unique_id', 'linked_record_count']].drop_duplicates()['linked_record_count'].dropna(), bins=np.arange(0,300))\n",
    "# plt.hist(df['linked_record_count'].dropna(), )"
   ]
  },
  {
   "cell_type": "markdown",
   "metadata": {},
   "source": [
    "Examine rankings in detail"
   ]
  },
  {
   "cell_type": "code",
   "execution_count": 78,
   "metadata": {},
   "outputs": [
    {
     "data": {
      "application/vnd.jupyter.widget-view+json": {
       "model_id": "86d7acd218ff4dd5889b8b7492edbac2",
       "version_major": 2,
       "version_minor": 0
      },
      "text/plain": [
       "HBox(children=(IntProgress(value=0, max=256818), HTML(value='')))"
      ]
     },
     "metadata": {},
     "output_type": "display_data"
    },
    {
     "name": "stdout",
     "output_type": "stream",
     "text": [
      "\n"
     ]
    }
   ],
   "source": [
    "min_arr=[]\n",
    "for id_, subtable in tqdm(df[['unique_id','pinji_detailed_numeric']].groupby('unique_id')):\n",
    "#     if subtable['pinjin_detailed_numeric'].isnull().all():\n",
    "#         continue\n",
    "    key=subtable['pinji_detailed_numeric'].max()\n",
    "    arr=subtable['pinji_detailed_numeric'].dropna().values\n",
    "    min_arr.append((key, arr))\n",
    "sorted_min_arr=sorted(min_arr, key=lambda x:x[0])"
   ]
  },
  {
   "cell_type": "code",
   "execution_count": 79,
   "metadata": {
    "scrolled": true
   },
   "outputs": [
    {
     "data": {
      "application/vnd.jupyter.widget-view+json": {
       "model_id": "de4c9f62e6b84827a90b9b38950ad57b",
       "version_major": 2,
       "version_minor": 0
      },
      "text/plain": [
       "HBox(children=(IntProgress(value=1, bar_style='info', max=1), HTML(value='')))"
      ]
     },
     "metadata": {},
     "output_type": "display_data"
    },
    {
     "name": "stdout",
     "output_type": "stream",
     "text": [
      "\n"
     ]
    }
   ],
   "source": [
    "points=[]\n",
    "colors=[]\n",
    "for i, (start,rankings) in tqdm(enumerate(sorted_min_arr)):\n",
    "    for ranking in rankings:\n",
    "        points.append([ranking, i])\n",
    "        colors.append(start)\n",
    "#     for itp in np.arange(rankings.min(), rankings.max(), 0.2):\n",
    "#         points.append([itp, i])\n",
    "points=np.array(points)"
   ]
  },
  {
   "cell_type": "code",
   "execution_count": 80,
   "metadata": {
    "scrolled": false
   },
   "outputs": [
    {
     "data": {
      "image/png": "[encoded data removed]",
      "text/plain": [
       "<Figure size 1080x1080 with 2 Axes>"
      ]
     },
     "metadata": {},
     "output_type": "display_data"
    }
   ],
   "source": [
    "plt.style.use('seaborn-whitegrid')\n",
    "plt.figure(figsize=(15,15))\n",
    "plt.scatter(points[:,0],points[:,1],s=0.01, c=colors, cmap='rainbow')\n",
    "plt.colorbar(label='Ranking')\n",
    "plt.xlabel('Ranking')\n",
    "_=plt.xticks(np.arange(1, 10.1,0.5))"
   ]
  },
  {
   "cell_type": "code",
   "execution_count": 14,
   "metadata": {},
   "outputs": [
    {
     "data": {
      "application/vnd.jupyter.widget-view+json": {
       "model_id": "f9d83a7828b6476bb9e630a5e9e57d22",
       "version_major": 2,
       "version_minor": 0
      },
      "text/plain": [
       "HBox(children=(IntProgress(value=0, max=256818), HTML(value='')))"
      ]
     },
     "metadata": {},
     "output_type": "display_data"
    },
    {
     "name": "stdout",
     "output_type": "stream",
     "text": [
      "\n"
     ]
    }
   ],
   "source": [
    "count=0\n",
    "for id_, subtable in tqdm(df[['unique_id','pinji_detailed_numeric']].groupby('unique_id')):\n",
    "    if subtable['pinji_detailed_numeric'].notnull().any():\n",
    "        count+=1\n",
    "    else:\n",
    "        print(id_)\n"
   ]
  },
  {
   "cell_type": "code",
   "execution_count": 15,
   "metadata": {},
   "outputs": [
    {
     "name": "stdout",
     "output_type": "stream",
     "text": [
      "256818\n",
      "256819\n",
      "0.9999961062070952\n"
     ]
    }
   ],
   "source": [
    "print(count)\n",
    "print(df['unique_id'].unique().shape[0])\n",
    "print(count/df['unique_id'].unique().shape[0])"
   ]
  },
  {
   "cell_type": "code",
   "execution_count": 50,
   "metadata": {},
   "outputs": [
    {
     "data": {
      "text/plain": [
       "Text(0,0.5,'#People')"
      ]
     },
     "execution_count": 50,
     "metadata": {},
     "output_type": "execute_result"
    },
    {
     "data": {
      "image/png": "[encoded data removed]",
      "text/plain": [
       "<Figure size 1080x576 with 1 Axes>"
      ]
     },
     "metadata": {},
     "output_type": "display_data"
    }
   ],
   "source": [
    "plt.figure(figsize=(15, 8))\n",
    "plt.hist(df['pinjin_detailed_numeric'], align='left', bins=np.arange(1,10.4,0.5))\n",
    "plt.xticks(np.arange(1,10.4,0.5))\n",
    "plt.xlabel(\"Ranking\")\n",
    "plt.ylabel('#People')"
   ]
  },
  {
   "cell_type": "markdown",
   "metadata": {},
   "source": [
    "## make heatmap"
   ]
  },
  {
   "cell_type": "code",
   "execution_count": 33,
   "metadata": {},
   "outputs": [],
   "source": [
    "tmp=df[['unique_id','pinji_detailed_numeric']].groupby('unique_id').agg([np.min, np.max]).reset_index()"
   ]
  },
  {
   "cell_type": "code",
   "execution_count": 58,
   "metadata": {
    "scrolled": true
   },
   "outputs": [],
   "source": [
    "mat=tmp.pinji_detailed_numeric.groupby(['amin', 'amax']).agg(len).reset_index().rename(index=str,columns={0:'count'})"
   ]
  },
  {
   "cell_type": "code",
   "execution_count": 69,
   "metadata": {},
   "outputs": [
    {
     "data": {
      "text/html": [
       "<div>\n",
       "<style scoped>\n",
       "    .dataframe tbody tr th:only-of-type {\n",
       "        vertical-align: middle;\n",
       "    }\n",
       "\n",
       "    .dataframe tbody tr th {\n",
       "        vertical-align: top;\n",
       "    }\n",
       "\n",
       "    .dataframe thead th {\n",
       "        text-align: right;\n",
       "    }\n",
       "</style>\n",
       "<table border=\"1\" class=\"dataframe\">\n",
       "  <thead>\n",
       "    <tr style=\"text-align: right;\">\n",
       "      <th></th>\n",
       "      <th>10.0</th>\n",
       "      <th>9.5</th>\n",
       "      <th>9.0</th>\n",
       "      <th>8.5</th>\n",
       "      <th>8.0</th>\n",
       "      <th>7.5</th>\n",
       "      <th>7.0</th>\n",
       "      <th>6.5</th>\n",
       "      <th>6.0</th>\n",
       "      <th>5.5</th>\n",
       "      <th>5.0</th>\n",
       "      <th>4.5</th>\n",
       "      <th>4.0</th>\n",
       "      <th>3.5</th>\n",
       "      <th>3.0</th>\n",
       "      <th>2.5</th>\n",
       "      <th>2.0</th>\n",
       "      <th>1.5</th>\n",
       "      <th>1.0</th>\n",
       "    </tr>\n",
       "  </thead>\n",
       "  <tbody>\n",
       "    <tr>\n",
       "      <th>1.0</th>\n",
       "      <td>19.0</td>\n",
       "      <td>0.0</td>\n",
       "      <td>0.0</td>\n",
       "      <td>0.0</td>\n",
       "      <td>0.0</td>\n",
       "      <td>1.0</td>\n",
       "      <td>7.0</td>\n",
       "      <td>0.0</td>\n",
       "      <td>2.0</td>\n",
       "      <td>1.0</td>\n",
       "      <td>1.0</td>\n",
       "      <td>1.0</td>\n",
       "      <td>1.0</td>\n",
       "      <td>0.0</td>\n",
       "      <td>0.0</td>\n",
       "      <td>0.0</td>\n",
       "      <td>2.0</td>\n",
       "      <td>2.0</td>\n",
       "      <td>0.0</td>\n",
       "    </tr>\n",
       "    <tr>\n",
       "      <th>1.5</th>\n",
       "      <td>643.0</td>\n",
       "      <td>0.0</td>\n",
       "      <td>0.0</td>\n",
       "      <td>0.0</td>\n",
       "      <td>7.0</td>\n",
       "      <td>3.0</td>\n",
       "      <td>129.0</td>\n",
       "      <td>2.0</td>\n",
       "      <td>24.0</td>\n",
       "      <td>31.0</td>\n",
       "      <td>23.0</td>\n",
       "      <td>14.0</td>\n",
       "      <td>18.0</td>\n",
       "      <td>12.0</td>\n",
       "      <td>24.0</td>\n",
       "      <td>16.0</td>\n",
       "      <td>213.0</td>\n",
       "      <td>0.0</td>\n",
       "      <td>0.0</td>\n",
       "    </tr>\n",
       "    <tr>\n",
       "      <th>2.0</th>\n",
       "      <td>643.0</td>\n",
       "      <td>1.0</td>\n",
       "      <td>0.0</td>\n",
       "      <td>0.0</td>\n",
       "      <td>0.0</td>\n",
       "      <td>7.0</td>\n",
       "      <td>49.0</td>\n",
       "      <td>3.0</td>\n",
       "      <td>20.0</td>\n",
       "      <td>17.0</td>\n",
       "      <td>17.0</td>\n",
       "      <td>20.0</td>\n",
       "      <td>37.0</td>\n",
       "      <td>19.0</td>\n",
       "      <td>50.0</td>\n",
       "      <td>34.0</td>\n",
       "      <td>0.0</td>\n",
       "      <td>0.0</td>\n",
       "      <td>0.0</td>\n",
       "    </tr>\n",
       "    <tr>\n",
       "      <th>2.5</th>\n",
       "      <td>55.0</td>\n",
       "      <td>0.0</td>\n",
       "      <td>0.0</td>\n",
       "      <td>2.0</td>\n",
       "      <td>0.0</td>\n",
       "      <td>0.0</td>\n",
       "      <td>4.0</td>\n",
       "      <td>0.0</td>\n",
       "      <td>0.0</td>\n",
       "      <td>0.0</td>\n",
       "      <td>0.0</td>\n",
       "      <td>2.0</td>\n",
       "      <td>2.0</td>\n",
       "      <td>0.0</td>\n",
       "      <td>9.0</td>\n",
       "      <td>0.0</td>\n",
       "      <td>0.0</td>\n",
       "      <td>0.0</td>\n",
       "      <td>0.0</td>\n",
       "    </tr>\n",
       "    <tr>\n",
       "      <th>3.0</th>\n",
       "      <td>643.0</td>\n",
       "      <td>1.0</td>\n",
       "      <td>0.0</td>\n",
       "      <td>0.0</td>\n",
       "      <td>4.0</td>\n",
       "      <td>4.0</td>\n",
       "      <td>63.0</td>\n",
       "      <td>1.0</td>\n",
       "      <td>35.0</td>\n",
       "      <td>21.0</td>\n",
       "      <td>25.0</td>\n",
       "      <td>29.0</td>\n",
       "      <td>63.0</td>\n",
       "      <td>18.0</td>\n",
       "      <td>0.0</td>\n",
       "      <td>0.0</td>\n",
       "      <td>0.0</td>\n",
       "      <td>0.0</td>\n",
       "      <td>0.0</td>\n",
       "    </tr>\n",
       "    <tr>\n",
       "      <th>3.5</th>\n",
       "      <td>680.0</td>\n",
       "      <td>2.0</td>\n",
       "      <td>0.0</td>\n",
       "      <td>0.0</td>\n",
       "      <td>2.0</td>\n",
       "      <td>1.0</td>\n",
       "      <td>14.0</td>\n",
       "      <td>0.0</td>\n",
       "      <td>10.0</td>\n",
       "      <td>9.0</td>\n",
       "      <td>6.0</td>\n",
       "      <td>9.0</td>\n",
       "      <td>17.0</td>\n",
       "      <td>0.0</td>\n",
       "      <td>0.0</td>\n",
       "      <td>0.0</td>\n",
       "      <td>0.0</td>\n",
       "      <td>0.0</td>\n",
       "      <td>0.0</td>\n",
       "    </tr>\n",
       "    <tr>\n",
       "      <th>4.0</th>\n",
       "      <td>743.0</td>\n",
       "      <td>11.0</td>\n",
       "      <td>4.0</td>\n",
       "      <td>0.0</td>\n",
       "      <td>19.0</td>\n",
       "      <td>27.0</td>\n",
       "      <td>258.0</td>\n",
       "      <td>9.0</td>\n",
       "      <td>145.0</td>\n",
       "      <td>81.0</td>\n",
       "      <td>99.0</td>\n",
       "      <td>91.0</td>\n",
       "      <td>0.0</td>\n",
       "      <td>0.0</td>\n",
       "      <td>0.0</td>\n",
       "      <td>0.0</td>\n",
       "      <td>0.0</td>\n",
       "      <td>0.0</td>\n",
       "      <td>0.0</td>\n",
       "    </tr>\n",
       "    <tr>\n",
       "      <th>4.5</th>\n",
       "      <td>288.0</td>\n",
       "      <td>16.0</td>\n",
       "      <td>1.0</td>\n",
       "      <td>1.0</td>\n",
       "      <td>40.0</td>\n",
       "      <td>43.0</td>\n",
       "      <td>602.0</td>\n",
       "      <td>7.0</td>\n",
       "      <td>364.0</td>\n",
       "      <td>227.0</td>\n",
       "      <td>224.0</td>\n",
       "      <td>0.0</td>\n",
       "      <td>0.0</td>\n",
       "      <td>0.0</td>\n",
       "      <td>0.0</td>\n",
       "      <td>0.0</td>\n",
       "      <td>0.0</td>\n",
       "      <td>0.0</td>\n",
       "      <td>0.0</td>\n",
       "    </tr>\n",
       "    <tr>\n",
       "      <th>5.0</th>\n",
       "      <td>1160.0</td>\n",
       "      <td>31.0</td>\n",
       "      <td>14.0</td>\n",
       "      <td>7.0</td>\n",
       "      <td>128.0</td>\n",
       "      <td>169.0</td>\n",
       "      <td>848.0</td>\n",
       "      <td>62.0</td>\n",
       "      <td>564.0</td>\n",
       "      <td>287.0</td>\n",
       "      <td>0.0</td>\n",
       "      <td>0.0</td>\n",
       "      <td>0.0</td>\n",
       "      <td>0.0</td>\n",
       "      <td>0.0</td>\n",
       "      <td>0.0</td>\n",
       "      <td>0.0</td>\n",
       "      <td>0.0</td>\n",
       "      <td>0.0</td>\n",
       "    </tr>\n",
       "    <tr>\n",
       "      <th>5.5</th>\n",
       "      <td>407.0</td>\n",
       "      <td>40.0</td>\n",
       "      <td>5.0</td>\n",
       "      <td>2.0</td>\n",
       "      <td>99.0</td>\n",
       "      <td>103.0</td>\n",
       "      <td>1361.0</td>\n",
       "      <td>109.0</td>\n",
       "      <td>585.0</td>\n",
       "      <td>0.0</td>\n",
       "      <td>0.0</td>\n",
       "      <td>0.0</td>\n",
       "      <td>0.0</td>\n",
       "      <td>0.0</td>\n",
       "      <td>0.0</td>\n",
       "      <td>0.0</td>\n",
       "      <td>0.0</td>\n",
       "      <td>0.0</td>\n",
       "      <td>0.0</td>\n",
       "    </tr>\n",
       "    <tr>\n",
       "      <th>6.0</th>\n",
       "      <td>858.0</td>\n",
       "      <td>95.0</td>\n",
       "      <td>33.0</td>\n",
       "      <td>7.0</td>\n",
       "      <td>579.0</td>\n",
       "      <td>135.0</td>\n",
       "      <td>1132.0</td>\n",
       "      <td>93.0</td>\n",
       "      <td>0.0</td>\n",
       "      <td>0.0</td>\n",
       "      <td>0.0</td>\n",
       "      <td>0.0</td>\n",
       "      <td>0.0</td>\n",
       "      <td>0.0</td>\n",
       "      <td>0.0</td>\n",
       "      <td>0.0</td>\n",
       "      <td>0.0</td>\n",
       "      <td>0.0</td>\n",
       "      <td>0.0</td>\n",
       "    </tr>\n",
       "    <tr>\n",
       "      <th>6.5</th>\n",
       "      <td>677.0</td>\n",
       "      <td>23.0</td>\n",
       "      <td>17.0</td>\n",
       "      <td>0.0</td>\n",
       "      <td>59.0</td>\n",
       "      <td>54.0</td>\n",
       "      <td>97.0</td>\n",
       "      <td>0.0</td>\n",
       "      <td>0.0</td>\n",
       "      <td>0.0</td>\n",
       "      <td>0.0</td>\n",
       "      <td>0.0</td>\n",
       "      <td>0.0</td>\n",
       "      <td>0.0</td>\n",
       "      <td>0.0</td>\n",
       "      <td>0.0</td>\n",
       "      <td>0.0</td>\n",
       "      <td>0.0</td>\n",
       "      <td>0.0</td>\n",
       "    </tr>\n",
       "    <tr>\n",
       "      <th>7.0</th>\n",
       "      <td>2681.0</td>\n",
       "      <td>291.0</td>\n",
       "      <td>58.0</td>\n",
       "      <td>874.0</td>\n",
       "      <td>2223.0</td>\n",
       "      <td>177.0</td>\n",
       "      <td>0.0</td>\n",
       "      <td>0.0</td>\n",
       "      <td>0.0</td>\n",
       "      <td>0.0</td>\n",
       "      <td>0.0</td>\n",
       "      <td>0.0</td>\n",
       "      <td>0.0</td>\n",
       "      <td>0.0</td>\n",
       "      <td>0.0</td>\n",
       "      <td>0.0</td>\n",
       "      <td>0.0</td>\n",
       "      <td>0.0</td>\n",
       "      <td>0.0</td>\n",
       "    </tr>\n",
       "    <tr>\n",
       "      <th>7.5</th>\n",
       "      <td>304.0</td>\n",
       "      <td>25.0</td>\n",
       "      <td>31.0</td>\n",
       "      <td>20.0</td>\n",
       "      <td>142.0</td>\n",
       "      <td>0.0</td>\n",
       "      <td>0.0</td>\n",
       "      <td>0.0</td>\n",
       "      <td>0.0</td>\n",
       "      <td>0.0</td>\n",
       "      <td>0.0</td>\n",
       "      <td>0.0</td>\n",
       "      <td>0.0</td>\n",
       "      <td>0.0</td>\n",
       "      <td>0.0</td>\n",
       "      <td>0.0</td>\n",
       "      <td>0.0</td>\n",
       "      <td>0.0</td>\n",
       "      <td>0.0</td>\n",
       "    </tr>\n",
       "    <tr>\n",
       "      <th>8.0</th>\n",
       "      <td>1281.0</td>\n",
       "      <td>488.0</td>\n",
       "      <td>316.0</td>\n",
       "      <td>2345.0</td>\n",
       "      <td>0.0</td>\n",
       "      <td>0.0</td>\n",
       "      <td>0.0</td>\n",
       "      <td>0.0</td>\n",
       "      <td>0.0</td>\n",
       "      <td>0.0</td>\n",
       "      <td>0.0</td>\n",
       "      <td>0.0</td>\n",
       "      <td>0.0</td>\n",
       "      <td>0.0</td>\n",
       "      <td>0.0</td>\n",
       "      <td>0.0</td>\n",
       "      <td>0.0</td>\n",
       "      <td>0.0</td>\n",
       "      <td>0.0</td>\n",
       "    </tr>\n",
       "    <tr>\n",
       "      <th>8.5</th>\n",
       "      <td>103.0</td>\n",
       "      <td>23.0</td>\n",
       "      <td>34.0</td>\n",
       "      <td>0.0</td>\n",
       "      <td>0.0</td>\n",
       "      <td>0.0</td>\n",
       "      <td>0.0</td>\n",
       "      <td>0.0</td>\n",
       "      <td>0.0</td>\n",
       "      <td>0.0</td>\n",
       "      <td>0.0</td>\n",
       "      <td>0.0</td>\n",
       "      <td>0.0</td>\n",
       "      <td>0.0</td>\n",
       "      <td>0.0</td>\n",
       "      <td>0.0</td>\n",
       "      <td>0.0</td>\n",
       "      <td>0.0</td>\n",
       "      <td>0.0</td>\n",
       "    </tr>\n",
       "    <tr>\n",
       "      <th>9.0</th>\n",
       "      <td>347.0</td>\n",
       "      <td>166.0</td>\n",
       "      <td>0.0</td>\n",
       "      <td>0.0</td>\n",
       "      <td>0.0</td>\n",
       "      <td>0.0</td>\n",
       "      <td>0.0</td>\n",
       "      <td>0.0</td>\n",
       "      <td>0.0</td>\n",
       "      <td>0.0</td>\n",
       "      <td>0.0</td>\n",
       "      <td>0.0</td>\n",
       "      <td>0.0</td>\n",
       "      <td>0.0</td>\n",
       "      <td>0.0</td>\n",
       "      <td>0.0</td>\n",
       "      <td>0.0</td>\n",
       "      <td>0.0</td>\n",
       "      <td>0.0</td>\n",
       "    </tr>\n",
       "    <tr>\n",
       "      <th>9.5</th>\n",
       "      <td>1940.0</td>\n",
       "      <td>0.0</td>\n",
       "      <td>0.0</td>\n",
       "      <td>0.0</td>\n",
       "      <td>0.0</td>\n",
       "      <td>0.0</td>\n",
       "      <td>0.0</td>\n",
       "      <td>0.0</td>\n",
       "      <td>0.0</td>\n",
       "      <td>0.0</td>\n",
       "      <td>0.0</td>\n",
       "      <td>0.0</td>\n",
       "      <td>0.0</td>\n",
       "      <td>0.0</td>\n",
       "      <td>0.0</td>\n",
       "      <td>0.0</td>\n",
       "      <td>0.0</td>\n",
       "      <td>0.0</td>\n",
       "      <td>0.0</td>\n",
       "    </tr>\n",
       "    <tr>\n",
       "      <th>10.0</th>\n",
       "      <td>0.0</td>\n",
       "      <td>0.0</td>\n",
       "      <td>0.0</td>\n",
       "      <td>0.0</td>\n",
       "      <td>0.0</td>\n",
       "      <td>0.0</td>\n",
       "      <td>0.0</td>\n",
       "      <td>0.0</td>\n",
       "      <td>0.0</td>\n",
       "      <td>0.0</td>\n",
       "      <td>0.0</td>\n",
       "      <td>0.0</td>\n",
       "      <td>0.0</td>\n",
       "      <td>0.0</td>\n",
       "      <td>0.0</td>\n",
       "      <td>0.0</td>\n",
       "      <td>0.0</td>\n",
       "      <td>0.0</td>\n",
       "      <td>0.0</td>\n",
       "    </tr>\n",
       "  </tbody>\n",
       "</table>\n",
       "</div>"
      ],
      "text/plain": [
       "        10.0   9.5    9.0     8.5     8.0    7.5     7.0    6.5    6.0   \\\n",
       "1.0     19.0    0.0    0.0     0.0     0.0    1.0     7.0    0.0    2.0   \n",
       "1.5    643.0    0.0    0.0     0.0     7.0    3.0   129.0    2.0   24.0   \n",
       "2.0    643.0    1.0    0.0     0.0     0.0    7.0    49.0    3.0   20.0   \n",
       "2.5     55.0    0.0    0.0     2.0     0.0    0.0     4.0    0.0    0.0   \n",
       "3.0    643.0    1.0    0.0     0.0     4.0    4.0    63.0    1.0   35.0   \n",
       "3.5    680.0    2.0    0.0     0.0     2.0    1.0    14.0    0.0   10.0   \n",
       "4.0    743.0   11.0    4.0     0.0    19.0   27.0   258.0    9.0  145.0   \n",
       "4.5    288.0   16.0    1.0     1.0    40.0   43.0   602.0    7.0  364.0   \n",
       "5.0   1160.0   31.0   14.0     7.0   128.0  169.0   848.0   62.0  564.0   \n",
       "5.5    407.0   40.0    5.0     2.0    99.0  103.0  1361.0  109.0  585.0   \n",
       "6.0    858.0   95.0   33.0     7.0   579.0  135.0  1132.0   93.0    0.0   \n",
       "6.5    677.0   23.0   17.0     0.0    59.0   54.0    97.0    0.0    0.0   \n",
       "7.0   2681.0  291.0   58.0   874.0  2223.0  177.0     0.0    0.0    0.0   \n",
       "7.5    304.0   25.0   31.0    20.0   142.0    0.0     0.0    0.0    0.0   \n",
       "8.0   1281.0  488.0  316.0  2345.0     0.0    0.0     0.0    0.0    0.0   \n",
       "8.5    103.0   23.0   34.0     0.0     0.0    0.0     0.0    0.0    0.0   \n",
       "9.0    347.0  166.0    0.0     0.0     0.0    0.0     0.0    0.0    0.0   \n",
       "9.5   1940.0    0.0    0.0     0.0     0.0    0.0     0.0    0.0    0.0   \n",
       "10.0     0.0    0.0    0.0     0.0     0.0    0.0     0.0    0.0    0.0   \n",
       "\n",
       "       5.5    5.0   4.5   4.0   3.5   3.0   2.5    2.0   1.5   1.0   \n",
       "1.0     1.0    1.0   1.0   1.0   0.0   0.0   0.0    2.0   2.0   0.0  \n",
       "1.5    31.0   23.0  14.0  18.0  12.0  24.0  16.0  213.0   0.0   0.0  \n",
       "2.0    17.0   17.0  20.0  37.0  19.0  50.0  34.0    0.0   0.0   0.0  \n",
       "2.5     0.0    0.0   2.0   2.0   0.0   9.0   0.0    0.0   0.0   0.0  \n",
       "3.0    21.0   25.0  29.0  63.0  18.0   0.0   0.0    0.0   0.0   0.0  \n",
       "3.5     9.0    6.0   9.0  17.0   0.0   0.0   0.0    0.0   0.0   0.0  \n",
       "4.0    81.0   99.0  91.0   0.0   0.0   0.0   0.0    0.0   0.0   0.0  \n",
       "4.5   227.0  224.0   0.0   0.0   0.0   0.0   0.0    0.0   0.0   0.0  \n",
       "5.0   287.0    0.0   0.0   0.0   0.0   0.0   0.0    0.0   0.0   0.0  \n",
       "5.5     0.0    0.0   0.0   0.0   0.0   0.0   0.0    0.0   0.0   0.0  \n",
       "6.0     0.0    0.0   0.0   0.0   0.0   0.0   0.0    0.0   0.0   0.0  \n",
       "6.5     0.0    0.0   0.0   0.0   0.0   0.0   0.0    0.0   0.0   0.0  \n",
       "7.0     0.0    0.0   0.0   0.0   0.0   0.0   0.0    0.0   0.0   0.0  \n",
       "7.5     0.0    0.0   0.0   0.0   0.0   0.0   0.0    0.0   0.0   0.0  \n",
       "8.0     0.0    0.0   0.0   0.0   0.0   0.0   0.0    0.0   0.0   0.0  \n",
       "8.5     0.0    0.0   0.0   0.0   0.0   0.0   0.0    0.0   0.0   0.0  \n",
       "9.0     0.0    0.0   0.0   0.0   0.0   0.0   0.0    0.0   0.0   0.0  \n",
       "9.5     0.0    0.0   0.0   0.0   0.0   0.0   0.0    0.0   0.0   0.0  \n",
       "10.0    0.0    0.0   0.0   0.0   0.0   0.0   0.0    0.0   0.0   0.0  "
      ]
     },
     "execution_count": 69,
     "metadata": {},
     "output_type": "execute_result"
    }
   ],
   "source": [
    "tem=pd.DataFrame(data=np.zeros((19,19)), index=np.arange(1.0, 10.5, 0.5), columns=np.arange(10.0, 0.5, -0.5))\n",
    "for idx in tem.index:\n",
    "    for col in tem.columns:\n",
    "        if col<=idx:\n",
    "            continue\n",
    "        row=mat[(mat['amax']==col) & (mat['amin']==idx)]\n",
    "        if row.shape[0]>0:\n",
    "            tem[col][idx] = row['count'][0]\n",
    "tem"
   ]
  },
  {
   "cell_type": "code",
   "execution_count": 76,
   "metadata": {},
   "outputs": [
    {
     "data": {
      "text/plain": [
       "Text(87,0.5,'highest career ranking')"
      ]
     },
     "execution_count": 76,
     "metadata": {},
     "output_type": "execute_result"
    },
    {
     "data": {
      "image/png": "[encoded data removed]",
      "text/plain": [
       "<Figure size 864x720 with 2 Axes>"
      ]
     },
     "metadata": {
      "needs_background": "light"
     },
     "output_type": "display_data"
    }
   ],
   "source": [
    "plt.figure(figsize=(12,10))\n",
    "import seaborn as sns\n",
    "sns.heatmap(tem, cmap='Purples')\n",
    "ax=plt.gca()\n",
    "ax.set_xlabel('lowest career ranking')\n",
    "ax.set_ylabel('highest career ranking')"
   ]
  },
  {
   "cell_type": "code",
   "execution_count": null,
   "metadata": {},
   "outputs": [],
   "source": [
    "1. the position components of the heated places"
   ]
  },
  {
   "cell_type": "markdown",
   "metadata": {},
   "source": [
    "## Examine promotion speed of locality/position"
   ]
  },
  {
   "cell_type": "code",
   "execution_count": 18,
   "metadata": {
    "scrolled": false
   },
   "outputs": [
    {
     "data": {
      "text/plain": [
       "[<matplotlib.lines.Line2D at 0x233fa5d9a20>]"
      ]
     },
     "execution_count": 18,
     "metadata": {},
     "output_type": "execute_result"
    },
    {
     "data": {
      "image/png": "[encoded data removed]",
      "text/plain": [
       "<Figure size 720x576 with 1 Axes>"
      ]
     },
     "metadata": {
      "needs_background": "light"
     },
     "output_type": "display_data"
    }
   ],
   "source": [
    "plt.figure(figsize=(10, 8))\n",
    "plt.gca().invert_yaxis()\n",
    "ps=df[df['unique_id']==189420028200.0][['unique_id','pinji_detailed_numeric', 'diqu',\n",
    "                                     'jigou_1','jigou_2', 'guanzhi', 'quanxuan_year',\n",
    "                                     'ganzhi_year_1','year', 'assigned_edition']]\n",
    "plt.plot(ps['year'], ps['pinji_detailed_numeric'], 'o-')"
   ]
  },
  {
   "cell_type": "code",
   "execution_count": 108,
   "metadata": {
    "scrolled": true
   },
   "outputs": [
    {
     "data": {
      "text/html": [
       "<div>\n",
       "<style scoped>\n",
       "    .dataframe tbody tr th:only-of-type {\n",
       "        vertical-align: middle;\n",
       "    }\n",
       "\n",
       "    .dataframe tbody tr th {\n",
       "        vertical-align: top;\n",
       "    }\n",
       "\n",
       "    .dataframe thead th {\n",
       "        text-align: right;\n",
       "    }\n",
       "</style>\n",
       "<table border=\"1\" class=\"dataframe\">\n",
       "  <thead>\n",
       "    <tr style=\"text-align: right;\">\n",
       "      <th></th>\n",
       "      <th>unique_id</th>\n",
       "      <th>pinji_detailed_numeric</th>\n",
       "      <th>diqu</th>\n",
       "      <th>jigou_1</th>\n",
       "      <th>jigou_2</th>\n",
       "      <th>guanzhi</th>\n",
       "      <th>quanxuan_year</th>\n",
       "      <th>ganzhi_year_1</th>\n",
       "      <th>year</th>\n",
       "      <th>assigned_edition</th>\n",
       "    </tr>\n",
       "  </thead>\n",
       "  <tbody>\n",
       "    <tr>\n",
       "      <th>2442432</th>\n",
       "      <td>1.894200e+11</td>\n",
       "      <td>7.5</td>\n",
       "      <td>京師</td>\n",
       "      <td>軍機處</td>\n",
       "      <td>漢二班</td>\n",
       "      <td>內閣候補中書</td>\n",
       "      <td>NaN</td>\n",
       "      <td>NaN</td>\n",
       "      <td>1895.00</td>\n",
       "      <td>光绪21春.xlsx</td>\n",
       "    </tr>\n",
       "    <tr>\n",
       "      <th>2442433</th>\n",
       "      <td>1.894200e+11</td>\n",
       "      <td>7.5</td>\n",
       "      <td>京師</td>\n",
       "      <td>軍機處</td>\n",
       "      <td>漢二班</td>\n",
       "      <td>內閣候補中書</td>\n",
       "      <td>NaN</td>\n",
       "      <td>NaN</td>\n",
       "      <td>1895.25</td>\n",
       "      <td>光绪21夏.xlsx</td>\n",
       "    </tr>\n",
       "    <tr>\n",
       "      <th>2442434</th>\n",
       "      <td>1.894200e+11</td>\n",
       "      <td>7.5</td>\n",
       "      <td>京師</td>\n",
       "      <td>軍機處</td>\n",
       "      <td>漢二班</td>\n",
       "      <td>內閣候補中書</td>\n",
       "      <td>NaN</td>\n",
       "      <td>NaN</td>\n",
       "      <td>1895.50</td>\n",
       "      <td>光绪21秋.xlsx</td>\n",
       "    </tr>\n",
       "    <tr>\n",
       "      <th>2442435</th>\n",
       "      <td>1.894200e+11</td>\n",
       "      <td>7.5</td>\n",
       "      <td>京師</td>\n",
       "      <td>軍機處</td>\n",
       "      <td>軍機章京</td>\n",
       "      <td>內閣候補中書</td>\n",
       "      <td>NaN</td>\n",
       "      <td>NaN</td>\n",
       "      <td>1895.75</td>\n",
       "      <td>光绪21冬.xlsx</td>\n",
       "    </tr>\n",
       "    <tr>\n",
       "      <th>2442436</th>\n",
       "      <td>1.894200e+11</td>\n",
       "      <td>7.5</td>\n",
       "      <td>京師</td>\n",
       "      <td>軍機處</td>\n",
       "      <td>軍機章京</td>\n",
       "      <td>內閣候補中書</td>\n",
       "      <td>NaN</td>\n",
       "      <td>NaN</td>\n",
       "      <td>1896.00</td>\n",
       "      <td>光绪22春.xlsx</td>\n",
       "    </tr>\n",
       "    <tr>\n",
       "      <th>2442437</th>\n",
       "      <td>1.894200e+11</td>\n",
       "      <td>7.5</td>\n",
       "      <td>京師</td>\n",
       "      <td>軍機處</td>\n",
       "      <td>漢二班</td>\n",
       "      <td>內閣候補中書</td>\n",
       "      <td>NaN</td>\n",
       "      <td>NaN</td>\n",
       "      <td>1896.25</td>\n",
       "      <td>光绪22夏爵秩全览.xlsx</td>\n",
       "    </tr>\n",
       "    <tr>\n",
       "      <th>2442438</th>\n",
       "      <td>1.894200e+11</td>\n",
       "      <td>5.0</td>\n",
       "      <td>京師</td>\n",
       "      <td>刑部衙門</td>\n",
       "      <td>額外司員</td>\n",
       "      <td>郎中</td>\n",
       "      <td>NaN</td>\n",
       "      <td>NaN</td>\n",
       "      <td>1897.25</td>\n",
       "      <td>光緒23夏.xlsx</td>\n",
       "    </tr>\n",
       "    <tr>\n",
       "      <th>2442439</th>\n",
       "      <td>1.894200e+11</td>\n",
       "      <td>7.5</td>\n",
       "      <td>京師</td>\n",
       "      <td>軍機處</td>\n",
       "      <td>軍機章京</td>\n",
       "      <td>內閣候補中書</td>\n",
       "      <td>NaN</td>\n",
       "      <td>NaN</td>\n",
       "      <td>1897.50</td>\n",
       "      <td>光緒23秋 縉紳全書.xlsx</td>\n",
       "    </tr>\n",
       "    <tr>\n",
       "      <th>2442440</th>\n",
       "      <td>1.894200e+11</td>\n",
       "      <td>5.0</td>\n",
       "      <td>京師</td>\n",
       "      <td>刑部衙門</td>\n",
       "      <td>額外司員</td>\n",
       "      <td>郎中</td>\n",
       "      <td>NaN</td>\n",
       "      <td>NaN</td>\n",
       "      <td>1897.75</td>\n",
       "      <td>光緒23冬.xlsx</td>\n",
       "    </tr>\n",
       "    <tr>\n",
       "      <th>2442441</th>\n",
       "      <td>1.894200e+11</td>\n",
       "      <td>5.0</td>\n",
       "      <td>京師</td>\n",
       "      <td>軍機處</td>\n",
       "      <td>漢二班</td>\n",
       "      <td>刑部候補郎中</td>\n",
       "      <td>NaN</td>\n",
       "      <td>NaN</td>\n",
       "      <td>1897.75</td>\n",
       "      <td>光緒23冬.xlsx</td>\n",
       "    </tr>\n",
       "    <tr>\n",
       "      <th>2442442</th>\n",
       "      <td>1.894200e+11</td>\n",
       "      <td>5.0</td>\n",
       "      <td>京師</td>\n",
       "      <td>軍機處</td>\n",
       "      <td>漢二班</td>\n",
       "      <td>刑部候補郎中</td>\n",
       "      <td>NaN</td>\n",
       "      <td>NaN</td>\n",
       "      <td>1898.00</td>\n",
       "      <td>光緒24春.xlsx</td>\n",
       "    </tr>\n",
       "    <tr>\n",
       "      <th>2442443</th>\n",
       "      <td>1.894200e+11</td>\n",
       "      <td>5.0</td>\n",
       "      <td>京師</td>\n",
       "      <td>刑部衙門</td>\n",
       "      <td>額外司員</td>\n",
       "      <td>郎中</td>\n",
       "      <td>NaN</td>\n",
       "      <td>NaN</td>\n",
       "      <td>1898.00</td>\n",
       "      <td>光緒24春.xlsx</td>\n",
       "    </tr>\n",
       "    <tr>\n",
       "      <th>2442444</th>\n",
       "      <td>1.894200e+11</td>\n",
       "      <td>5.0</td>\n",
       "      <td>京師</td>\n",
       "      <td>刑部衙門</td>\n",
       "      <td>額外司員</td>\n",
       "      <td>郎中</td>\n",
       "      <td>NaN</td>\n",
       "      <td>NaN</td>\n",
       "      <td>1898.50</td>\n",
       "      <td>光緒24秋.xlsx</td>\n",
       "    </tr>\n",
       "    <tr>\n",
       "      <th>2442445</th>\n",
       "      <td>1.894200e+11</td>\n",
       "      <td>5.0</td>\n",
       "      <td>京師</td>\n",
       "      <td>軍機處</td>\n",
       "      <td>漢二班</td>\n",
       "      <td>刑部候補郎中</td>\n",
       "      <td>NaN</td>\n",
       "      <td>NaN</td>\n",
       "      <td>1898.50</td>\n",
       "      <td>光緒24秋.xlsx</td>\n",
       "    </tr>\n",
       "    <tr>\n",
       "      <th>2442446</th>\n",
       "      <td>1.894200e+11</td>\n",
       "      <td>5.0</td>\n",
       "      <td>京師</td>\n",
       "      <td>軍機處</td>\n",
       "      <td>漢二班</td>\n",
       "      <td>刑部候補郎中</td>\n",
       "      <td>NaN</td>\n",
       "      <td>NaN</td>\n",
       "      <td>1898.75</td>\n",
       "      <td>光緒24冬.xlsx</td>\n",
       "    </tr>\n",
       "    <tr>\n",
       "      <th>2442447</th>\n",
       "      <td>1.894200e+11</td>\n",
       "      <td>5.0</td>\n",
       "      <td>京師</td>\n",
       "      <td>刑部衙門</td>\n",
       "      <td>額外司員</td>\n",
       "      <td>郎中</td>\n",
       "      <td>NaN</td>\n",
       "      <td>NaN</td>\n",
       "      <td>1898.75</td>\n",
       "      <td>光緒24冬.xlsx</td>\n",
       "    </tr>\n",
       "    <tr>\n",
       "      <th>2442448</th>\n",
       "      <td>1.894200e+11</td>\n",
       "      <td>5.0</td>\n",
       "      <td>京師</td>\n",
       "      <td>軍機處</td>\n",
       "      <td>漢二班</td>\n",
       "      <td>刑部候補郎中</td>\n",
       "      <td>NaN</td>\n",
       "      <td>NaN</td>\n",
       "      <td>1899.00</td>\n",
       "      <td>光緒25春.xlsx</td>\n",
       "    </tr>\n",
       "    <tr>\n",
       "      <th>2442449</th>\n",
       "      <td>1.894200e+11</td>\n",
       "      <td>5.0</td>\n",
       "      <td>京師</td>\n",
       "      <td>刑部衙門</td>\n",
       "      <td>額外司員</td>\n",
       "      <td>郎中</td>\n",
       "      <td>NaN</td>\n",
       "      <td>NaN</td>\n",
       "      <td>1899.00</td>\n",
       "      <td>光緒25春.xlsx</td>\n",
       "    </tr>\n",
       "    <tr>\n",
       "      <th>2442450</th>\n",
       "      <td>1.894200e+11</td>\n",
       "      <td>5.0</td>\n",
       "      <td>京師</td>\n",
       "      <td>軍機處</td>\n",
       "      <td>漢二班</td>\n",
       "      <td>刑部候補郎中</td>\n",
       "      <td>NaN</td>\n",
       "      <td>NaN</td>\n",
       "      <td>1899.25</td>\n",
       "      <td>光緒25年夏.xlsx</td>\n",
       "    </tr>\n",
       "    <tr>\n",
       "      <th>2442451</th>\n",
       "      <td>1.894200e+11</td>\n",
       "      <td>5.0</td>\n",
       "      <td>京師</td>\n",
       "      <td>刑部衙門</td>\n",
       "      <td>額外司員</td>\n",
       "      <td>郎中</td>\n",
       "      <td>NaN</td>\n",
       "      <td>NaN</td>\n",
       "      <td>1899.25</td>\n",
       "      <td>光緒25年夏.xlsx</td>\n",
       "    </tr>\n",
       "    <tr>\n",
       "      <th>2442452</th>\n",
       "      <td>1.894200e+11</td>\n",
       "      <td>5.0</td>\n",
       "      <td>京師</td>\n",
       "      <td>軍機處</td>\n",
       "      <td>漢二班</td>\n",
       "      <td>刑部即補郎中</td>\n",
       "      <td>NaN</td>\n",
       "      <td>NaN</td>\n",
       "      <td>1899.50</td>\n",
       "      <td>光緒25秋.xlsx</td>\n",
       "    </tr>\n",
       "    <tr>\n",
       "      <th>2442453</th>\n",
       "      <td>1.894200e+11</td>\n",
       "      <td>5.0</td>\n",
       "      <td>京師</td>\n",
       "      <td>刑部衙門</td>\n",
       "      <td>額外司員</td>\n",
       "      <td>郎中</td>\n",
       "      <td>NaN</td>\n",
       "      <td>NaN</td>\n",
       "      <td>1899.50</td>\n",
       "      <td>光緒25秋.xlsx</td>\n",
       "    </tr>\n",
       "    <tr>\n",
       "      <th>2442454</th>\n",
       "      <td>1.894200e+11</td>\n",
       "      <td>5.0</td>\n",
       "      <td>京師</td>\n",
       "      <td>刑部衙門</td>\n",
       "      <td>額外司員</td>\n",
       "      <td>郎中</td>\n",
       "      <td>NaN</td>\n",
       "      <td>NaN</td>\n",
       "      <td>1899.75</td>\n",
       "      <td>光緒25冬.xlsx</td>\n",
       "    </tr>\n",
       "    <tr>\n",
       "      <th>2442455</th>\n",
       "      <td>1.894200e+11</td>\n",
       "      <td>5.0</td>\n",
       "      <td>京師</td>\n",
       "      <td>軍機處</td>\n",
       "      <td>漢二班</td>\n",
       "      <td>刑部即補郎中</td>\n",
       "      <td>NaN</td>\n",
       "      <td>NaN</td>\n",
       "      <td>1899.75</td>\n",
       "      <td>光緒25冬.xlsx</td>\n",
       "    </tr>\n",
       "    <tr>\n",
       "      <th>2442456</th>\n",
       "      <td>1.894200e+11</td>\n",
       "      <td>5.0</td>\n",
       "      <td>京師</td>\n",
       "      <td>刑部衙門</td>\n",
       "      <td>額外司員</td>\n",
       "      <td>郎中</td>\n",
       "      <td>NaN</td>\n",
       "      <td>NaN</td>\n",
       "      <td>1900.00</td>\n",
       "      <td>光緒26春.xlsx</td>\n",
       "    </tr>\n",
       "    <tr>\n",
       "      <th>2442457</th>\n",
       "      <td>1.894200e+11</td>\n",
       "      <td>5.0</td>\n",
       "      <td>京師</td>\n",
       "      <td>軍機處</td>\n",
       "      <td>漢二班</td>\n",
       "      <td>刑部即補郎中</td>\n",
       "      <td>NaN</td>\n",
       "      <td>NaN</td>\n",
       "      <td>1900.00</td>\n",
       "      <td>光緒26春.xlsx</td>\n",
       "    </tr>\n",
       "    <tr>\n",
       "      <th>2442458</th>\n",
       "      <td>1.894200e+11</td>\n",
       "      <td>5.0</td>\n",
       "      <td>京師</td>\n",
       "      <td>軍機處</td>\n",
       "      <td>漢二班</td>\n",
       "      <td>刑部候補郎中</td>\n",
       "      <td>NaN</td>\n",
       "      <td>NaN</td>\n",
       "      <td>1900.25</td>\n",
       "      <td>光绪26夏.xlsx</td>\n",
       "    </tr>\n",
       "    <tr>\n",
       "      <th>2442459</th>\n",
       "      <td>1.894200e+11</td>\n",
       "      <td>5.0</td>\n",
       "      <td>京師</td>\n",
       "      <td>刑部衙門</td>\n",
       "      <td>額外司員</td>\n",
       "      <td>郎中</td>\n",
       "      <td>NaN</td>\n",
       "      <td>NaN</td>\n",
       "      <td>1900.25</td>\n",
       "      <td>光绪26夏.xlsx</td>\n",
       "    </tr>\n",
       "    <tr>\n",
       "      <th>2442460</th>\n",
       "      <td>1.894200e+11</td>\n",
       "      <td>5.0</td>\n",
       "      <td>京師</td>\n",
       "      <td>刑部衙門</td>\n",
       "      <td>額外司員</td>\n",
       "      <td>郎中</td>\n",
       "      <td>NaN</td>\n",
       "      <td>NaN</td>\n",
       "      <td>1900.50</td>\n",
       "      <td>光緒26秋.xlsx</td>\n",
       "    </tr>\n",
       "    <tr>\n",
       "      <th>2442461</th>\n",
       "      <td>1.894200e+11</td>\n",
       "      <td>5.0</td>\n",
       "      <td>京師</td>\n",
       "      <td>刑部衙門</td>\n",
       "      <td>額外司員</td>\n",
       "      <td>郎中</td>\n",
       "      <td>NaN</td>\n",
       "      <td>NaN</td>\n",
       "      <td>1901.00</td>\n",
       "      <td>光緒27春.xlsx</td>\n",
       "    </tr>\n",
       "    <tr>\n",
       "      <th>...</th>\n",
       "      <td>...</td>\n",
       "      <td>...</td>\n",
       "      <td>...</td>\n",
       "      <td>...</td>\n",
       "      <td>...</td>\n",
       "      <td>...</td>\n",
       "      <td>...</td>\n",
       "      <td>...</td>\n",
       "      <td>...</td>\n",
       "      <td>...</td>\n",
       "    </tr>\n",
       "    <tr>\n",
       "      <th>2442476</th>\n",
       "      <td>1.894200e+11</td>\n",
       "      <td>5.0</td>\n",
       "      <td>京師</td>\n",
       "      <td>軍機處</td>\n",
       "      <td>漢頭班</td>\n",
       "      <td>候選五品京堂</td>\n",
       "      <td>NaN</td>\n",
       "      <td>NaN</td>\n",
       "      <td>1904.75</td>\n",
       "      <td>光緒30冬.xlsx</td>\n",
       "    </tr>\n",
       "    <tr>\n",
       "      <th>2442477</th>\n",
       "      <td>1.894200e+11</td>\n",
       "      <td>5.0</td>\n",
       "      <td>京師</td>\n",
       "      <td>刑部衙門</td>\n",
       "      <td>湖廣司</td>\n",
       "      <td>郎中</td>\n",
       "      <td>NaN</td>\n",
       "      <td>NaN</td>\n",
       "      <td>1904.75</td>\n",
       "      <td>光緒30冬.xlsx</td>\n",
       "    </tr>\n",
       "    <tr>\n",
       "      <th>2442478</th>\n",
       "      <td>1.894200e+11</td>\n",
       "      <td>5.0</td>\n",
       "      <td>京師</td>\n",
       "      <td>刑部衙門</td>\n",
       "      <td>湖廣司</td>\n",
       "      <td>郎中</td>\n",
       "      <td>NaN</td>\n",
       "      <td>NaN</td>\n",
       "      <td>1905.25</td>\n",
       "      <td>光緒31夏.xlsx</td>\n",
       "    </tr>\n",
       "    <tr>\n",
       "      <th>2442479</th>\n",
       "      <td>1.894200e+11</td>\n",
       "      <td>5.0</td>\n",
       "      <td>京師</td>\n",
       "      <td>刑部衙門</td>\n",
       "      <td>湖廣司</td>\n",
       "      <td>郎中</td>\n",
       "      <td>NaN</td>\n",
       "      <td>NaN</td>\n",
       "      <td>1905.50</td>\n",
       "      <td>光緒31秋.xlsx</td>\n",
       "    </tr>\n",
       "    <tr>\n",
       "      <th>2442480</th>\n",
       "      <td>1.894200e+11</td>\n",
       "      <td>5.0</td>\n",
       "      <td>京師</td>\n",
       "      <td>軍機處</td>\n",
       "      <td>漢頭班</td>\n",
       "      <td>候補五品京堂</td>\n",
       "      <td>NaN</td>\n",
       "      <td>NaN</td>\n",
       "      <td>1905.50</td>\n",
       "      <td>光緒31秋.xlsx</td>\n",
       "    </tr>\n",
       "    <tr>\n",
       "      <th>2442481</th>\n",
       "      <td>1.894200e+11</td>\n",
       "      <td>5.0</td>\n",
       "      <td>京師</td>\n",
       "      <td>政務處</td>\n",
       "      <td>幫總辦</td>\n",
       "      <td>署光祿寺少卿</td>\n",
       "      <td>NaN</td>\n",
       "      <td>NaN</td>\n",
       "      <td>1905.50</td>\n",
       "      <td>光緒31秋.xlsx</td>\n",
       "    </tr>\n",
       "    <tr>\n",
       "      <th>2442482</th>\n",
       "      <td>1.894200e+11</td>\n",
       "      <td>5.0</td>\n",
       "      <td>京師</td>\n",
       "      <td>刑部衙門</td>\n",
       "      <td>湖廣司</td>\n",
       "      <td>郎中</td>\n",
       "      <td>NaN</td>\n",
       "      <td>NaN</td>\n",
       "      <td>1905.75</td>\n",
       "      <td>光緒31冬.xlsx</td>\n",
       "    </tr>\n",
       "    <tr>\n",
       "      <th>2442483</th>\n",
       "      <td>1.894200e+11</td>\n",
       "      <td>3.0</td>\n",
       "      <td>京師</td>\n",
       "      <td>政務處</td>\n",
       "      <td>總辦</td>\n",
       "      <td>三品銜候補五品京堂</td>\n",
       "      <td>NaN</td>\n",
       "      <td>NaN</td>\n",
       "      <td>1906.00</td>\n",
       "      <td>光緒32春.xlsx</td>\n",
       "    </tr>\n",
       "    <tr>\n",
       "      <th>2442484</th>\n",
       "      <td>1.894200e+11</td>\n",
       "      <td>5.0</td>\n",
       "      <td>京師</td>\n",
       "      <td>刑部衙門</td>\n",
       "      <td>湖廣司</td>\n",
       "      <td>郎中</td>\n",
       "      <td>NaN</td>\n",
       "      <td>NaN</td>\n",
       "      <td>1906.00</td>\n",
       "      <td>光緒32春.xlsx</td>\n",
       "    </tr>\n",
       "    <tr>\n",
       "      <th>2442485</th>\n",
       "      <td>1.894200e+11</td>\n",
       "      <td>5.0</td>\n",
       "      <td>京師</td>\n",
       "      <td>軍機處</td>\n",
       "      <td>漢頭班</td>\n",
       "      <td>候補五品京堂</td>\n",
       "      <td>NaN</td>\n",
       "      <td>NaN</td>\n",
       "      <td>1906.00</td>\n",
       "      <td>光緒32春.xlsx</td>\n",
       "    </tr>\n",
       "    <tr>\n",
       "      <th>2442486</th>\n",
       "      <td>1.894200e+11</td>\n",
       "      <td>3.0</td>\n",
       "      <td>京師</td>\n",
       "      <td>軍機處</td>\n",
       "      <td>漢頭班</td>\n",
       "      <td>花翎三品候補五品京堂幫領班</td>\n",
       "      <td>NaN</td>\n",
       "      <td>NaN</td>\n",
       "      <td>1906.25</td>\n",
       "      <td>光緒32夏.xlsx</td>\n",
       "    </tr>\n",
       "    <tr>\n",
       "      <th>2442487</th>\n",
       "      <td>1.894200e+11</td>\n",
       "      <td>2.0</td>\n",
       "      <td>京師</td>\n",
       "      <td>政務處</td>\n",
       "      <td>總辦</td>\n",
       "      <td>二品銜候補五品京堂</td>\n",
       "      <td>NaN</td>\n",
       "      <td>NaN</td>\n",
       "      <td>1906.25</td>\n",
       "      <td>光緒32夏.xlsx</td>\n",
       "    </tr>\n",
       "    <tr>\n",
       "      <th>2442488</th>\n",
       "      <td>1.894200e+11</td>\n",
       "      <td>5.0</td>\n",
       "      <td>京師</td>\n",
       "      <td>刑部衙門</td>\n",
       "      <td>湖廣司</td>\n",
       "      <td>郎中</td>\n",
       "      <td>NaN</td>\n",
       "      <td>NaN</td>\n",
       "      <td>1906.25</td>\n",
       "      <td>光緒32夏.xlsx</td>\n",
       "    </tr>\n",
       "    <tr>\n",
       "      <th>2442489</th>\n",
       "      <td>1.894200e+11</td>\n",
       "      <td>5.0</td>\n",
       "      <td>京師</td>\n",
       "      <td>NaN</td>\n",
       "      <td>總辦</td>\n",
       "      <td>候補五品京堂</td>\n",
       "      <td>NaN</td>\n",
       "      <td>NaN</td>\n",
       "      <td>1906.50</td>\n",
       "      <td>光緒32秋.xlsx</td>\n",
       "    </tr>\n",
       "    <tr>\n",
       "      <th>2442490</th>\n",
       "      <td>1.894200e+11</td>\n",
       "      <td>5.0</td>\n",
       "      <td>京師</td>\n",
       "      <td>軍機處</td>\n",
       "      <td>漢頭班</td>\n",
       "      <td>候補?五品京堂</td>\n",
       "      <td>NaN</td>\n",
       "      <td>NaN</td>\n",
       "      <td>1906.50</td>\n",
       "      <td>光緒32秋.xlsx</td>\n",
       "    </tr>\n",
       "    <tr>\n",
       "      <th>2442491</th>\n",
       "      <td>1.894200e+11</td>\n",
       "      <td>5.0</td>\n",
       "      <td>京師</td>\n",
       "      <td>軍機處</td>\n",
       "      <td>漢頭班</td>\n",
       "      <td>額外章京上行走候補五品京堂</td>\n",
       "      <td>NaN</td>\n",
       "      <td>NaN</td>\n",
       "      <td>1909.00</td>\n",
       "      <td>宣統1春.xlsx</td>\n",
       "    </tr>\n",
       "    <tr>\n",
       "      <th>2442492</th>\n",
       "      <td>1.894200e+11</td>\n",
       "      <td>5.0</td>\n",
       "      <td>京師</td>\n",
       "      <td>軍機處</td>\n",
       "      <td>漢頭班</td>\n",
       "      <td>額外章京上行走候補五品京堂</td>\n",
       "      <td>NaN</td>\n",
       "      <td>NaN</td>\n",
       "      <td>1909.25</td>\n",
       "      <td>宣統1夏.xlsx</td>\n",
       "    </tr>\n",
       "    <tr>\n",
       "      <th>2442493</th>\n",
       "      <td>1.894200e+11</td>\n",
       "      <td>5.0</td>\n",
       "      <td>京師</td>\n",
       "      <td>軍機處</td>\n",
       "      <td>滿頭班</td>\n",
       "      <td>領班章京上行走候補五品京堂</td>\n",
       "      <td>NaN</td>\n",
       "      <td>NaN</td>\n",
       "      <td>1909.50</td>\n",
       "      <td>宣統1秋.xlsx</td>\n",
       "    </tr>\n",
       "    <tr>\n",
       "      <th>2442494</th>\n",
       "      <td>1.894200e+11</td>\n",
       "      <td>5.0</td>\n",
       "      <td>京師</td>\n",
       "      <td>軍機處</td>\n",
       "      <td>滿頭班</td>\n",
       "      <td>領班章京上行走候補五品京堂</td>\n",
       "      <td>NaN</td>\n",
       "      <td>NaN</td>\n",
       "      <td>1909.75</td>\n",
       "      <td>宣統1冬.xlsx</td>\n",
       "    </tr>\n",
       "    <tr>\n",
       "      <th>2442495</th>\n",
       "      <td>1.894200e+11</td>\n",
       "      <td>5.0</td>\n",
       "      <td>京師</td>\n",
       "      <td>軍機處</td>\n",
       "      <td>滿頭班</td>\n",
       "      <td>領班章京上行走候補五品京堂</td>\n",
       "      <td>NaN</td>\n",
       "      <td>NaN</td>\n",
       "      <td>1910.00</td>\n",
       "      <td>宣統2春.xlsx</td>\n",
       "    </tr>\n",
       "    <tr>\n",
       "      <th>2442496</th>\n",
       "      <td>1.894200e+11</td>\n",
       "      <td>5.0</td>\n",
       "      <td>京師</td>\n",
       "      <td>軍機處</td>\n",
       "      <td>滿頭班</td>\n",
       "      <td>領班章京上行走候補五品京堂</td>\n",
       "      <td>NaN</td>\n",
       "      <td>NaN</td>\n",
       "      <td>1910.25</td>\n",
       "      <td>宣統2夏.xlsx</td>\n",
       "    </tr>\n",
       "    <tr>\n",
       "      <th>2442497</th>\n",
       "      <td>1.894200e+11</td>\n",
       "      <td>5.0</td>\n",
       "      <td>京師</td>\n",
       "      <td>軍機處</td>\n",
       "      <td>漢頭班</td>\n",
       "      <td>領班章京上行走候補五品京堂</td>\n",
       "      <td>NaN</td>\n",
       "      <td>NaN</td>\n",
       "      <td>1910.50</td>\n",
       "      <td>宣統2秋.xlsx</td>\n",
       "    </tr>\n",
       "    <tr>\n",
       "      <th>2442498</th>\n",
       "      <td>1.894200e+11</td>\n",
       "      <td>3.0</td>\n",
       "      <td>京師</td>\n",
       "      <td>憲政編查館</td>\n",
       "      <td>總核</td>\n",
       "      <td>軍機處三品章京</td>\n",
       "      <td>NaN</td>\n",
       "      <td>NaN</td>\n",
       "      <td>1910.75</td>\n",
       "      <td>宣統2冬.xlsx</td>\n",
       "    </tr>\n",
       "    <tr>\n",
       "      <th>2442499</th>\n",
       "      <td>1.894200e+11</td>\n",
       "      <td>3.0</td>\n",
       "      <td>京師</td>\n",
       "      <td>軍機處</td>\n",
       "      <td>漢頭班</td>\n",
       "      <td>領班三品章京</td>\n",
       "      <td>NaN</td>\n",
       "      <td>NaN</td>\n",
       "      <td>1910.75</td>\n",
       "      <td>宣統2冬.xlsx</td>\n",
       "    </tr>\n",
       "    <tr>\n",
       "      <th>2442500</th>\n",
       "      <td>1.894200e+11</td>\n",
       "      <td>3.0</td>\n",
       "      <td>京師</td>\n",
       "      <td>內閣會議政務處</td>\n",
       "      <td>幫提調</td>\n",
       "      <td>軍機處三品章京</td>\n",
       "      <td>NaN</td>\n",
       "      <td>NaN</td>\n",
       "      <td>1910.75</td>\n",
       "      <td>宣統2冬.xlsx</td>\n",
       "    </tr>\n",
       "    <tr>\n",
       "      <th>2442501</th>\n",
       "      <td>1.894200e+11</td>\n",
       "      <td>3.0</td>\n",
       "      <td>京師</td>\n",
       "      <td>憲政編查館</td>\n",
       "      <td>總核</td>\n",
       "      <td>軍機處三品章京</td>\n",
       "      <td>NaN</td>\n",
       "      <td>NaN</td>\n",
       "      <td>1911.00</td>\n",
       "      <td>宣統3春.xlsx</td>\n",
       "    </tr>\n",
       "    <tr>\n",
       "      <th>2442502</th>\n",
       "      <td>1.894200e+11</td>\n",
       "      <td>3.0</td>\n",
       "      <td>京師</td>\n",
       "      <td>軍機處</td>\n",
       "      <td>漢頭班</td>\n",
       "      <td>領班三品章京</td>\n",
       "      <td>NaN</td>\n",
       "      <td>NaN</td>\n",
       "      <td>1911.00</td>\n",
       "      <td>宣統3春.xlsx</td>\n",
       "    </tr>\n",
       "    <tr>\n",
       "      <th>2442503</th>\n",
       "      <td>1.894200e+11</td>\n",
       "      <td>3.0</td>\n",
       "      <td>京師</td>\n",
       "      <td>內閣會議政務處</td>\n",
       "      <td>幫提調</td>\n",
       "      <td>軍機處三品章京</td>\n",
       "      <td>NaN</td>\n",
       "      <td>NaN</td>\n",
       "      <td>1911.00</td>\n",
       "      <td>宣統3春.xlsx</td>\n",
       "    </tr>\n",
       "    <tr>\n",
       "      <th>2442504</th>\n",
       "      <td>1.894200e+11</td>\n",
       "      <td>3.0</td>\n",
       "      <td>京師</td>\n",
       "      <td>內閣會議政務處</td>\n",
       "      <td>幫提調</td>\n",
       "      <td>軍機處三品章京</td>\n",
       "      <td>NaN</td>\n",
       "      <td>NaN</td>\n",
       "      <td>1911.25</td>\n",
       "      <td>宣統3夏.xlsx</td>\n",
       "    </tr>\n",
       "    <tr>\n",
       "      <th>2442505</th>\n",
       "      <td>1.894200e+11</td>\n",
       "      <td>3.0</td>\n",
       "      <td>京師</td>\n",
       "      <td>憲政編查館</td>\n",
       "      <td>總核</td>\n",
       "      <td>軍機處三品章京</td>\n",
       "      <td>NaN</td>\n",
       "      <td>NaN</td>\n",
       "      <td>1911.25</td>\n",
       "      <td>宣統3夏.xlsx</td>\n",
       "    </tr>\n",
       "  </tbody>\n",
       "</table>\n",
       "<p>74 rows × 10 columns</p>\n",
       "</div>"
      ],
      "text/plain": [
       "            unique_id  pinji_detailed_numeric diqu  jigou_1 jigou_2  \\\n",
       "2442432  1.894200e+11                     7.5   京師      軍機處     漢二班   \n",
       "2442433  1.894200e+11                     7.5   京師      軍機處     漢二班   \n",
       "2442434  1.894200e+11                     7.5   京師      軍機處     漢二班   \n",
       "2442435  1.894200e+11                     7.5   京師      軍機處    軍機章京   \n",
       "2442436  1.894200e+11                     7.5   京師      軍機處    軍機章京   \n",
       "2442437  1.894200e+11                     7.5   京師      軍機處     漢二班   \n",
       "2442438  1.894200e+11                     5.0   京師     刑部衙門    額外司員   \n",
       "2442439  1.894200e+11                     7.5   京師      軍機處    軍機章京   \n",
       "2442440  1.894200e+11                     5.0   京師     刑部衙門    額外司員   \n",
       "2442441  1.894200e+11                     5.0   京師      軍機處     漢二班   \n",
       "2442442  1.894200e+11                     5.0   京師      軍機處     漢二班   \n",
       "2442443  1.894200e+11                     5.0   京師     刑部衙門    額外司員   \n",
       "2442444  1.894200e+11                     5.0   京師     刑部衙門    額外司員   \n",
       "2442445  1.894200e+11                     5.0   京師      軍機處     漢二班   \n",
       "2442446  1.894200e+11                     5.0   京師      軍機處     漢二班   \n",
       "2442447  1.894200e+11                     5.0   京師     刑部衙門    額外司員   \n",
       "2442448  1.894200e+11                     5.0   京師      軍機處     漢二班   \n",
       "2442449  1.894200e+11                     5.0   京師     刑部衙門    額外司員   \n",
       "2442450  1.894200e+11                     5.0   京師      軍機處     漢二班   \n",
       "2442451  1.894200e+11                     5.0   京師     刑部衙門    額外司員   \n",
       "2442452  1.894200e+11                     5.0   京師      軍機處     漢二班   \n",
       "2442453  1.894200e+11                     5.0   京師     刑部衙門    額外司員   \n",
       "2442454  1.894200e+11                     5.0   京師     刑部衙門    額外司員   \n",
       "2442455  1.894200e+11                     5.0   京師      軍機處     漢二班   \n",
       "2442456  1.894200e+11                     5.0   京師     刑部衙門    額外司員   \n",
       "2442457  1.894200e+11                     5.0   京師      軍機處     漢二班   \n",
       "2442458  1.894200e+11                     5.0   京師      軍機處     漢二班   \n",
       "2442459  1.894200e+11                     5.0   京師     刑部衙門    額外司員   \n",
       "2442460  1.894200e+11                     5.0   京師     刑部衙門    額外司員   \n",
       "2442461  1.894200e+11                     5.0   京師     刑部衙門    額外司員   \n",
       "...               ...                     ...  ...      ...     ...   \n",
       "2442476  1.894200e+11                     5.0   京師      軍機處     漢頭班   \n",
       "2442477  1.894200e+11                     5.0   京師     刑部衙門     湖廣司   \n",
       "2442478  1.894200e+11                     5.0   京師     刑部衙門     湖廣司   \n",
       "2442479  1.894200e+11                     5.0   京師     刑部衙門     湖廣司   \n",
       "2442480  1.894200e+11                     5.0   京師      軍機處     漢頭班   \n",
       "2442481  1.894200e+11                     5.0   京師      政務處     幫總辦   \n",
       "2442482  1.894200e+11                     5.0   京師     刑部衙門     湖廣司   \n",
       "2442483  1.894200e+11                     3.0   京師      政務處      總辦   \n",
       "2442484  1.894200e+11                     5.0   京師     刑部衙門     湖廣司   \n",
       "2442485  1.894200e+11                     5.0   京師      軍機處     漢頭班   \n",
       "2442486  1.894200e+11                     3.0   京師      軍機處     漢頭班   \n",
       "2442487  1.894200e+11                     2.0   京師      政務處      總辦   \n",
       "2442488  1.894200e+11                     5.0   京師     刑部衙門     湖廣司   \n",
       "2442489  1.894200e+11                     5.0   京師      NaN      總辦   \n",
       "2442490  1.894200e+11                     5.0   京師      軍機處     漢頭班   \n",
       "2442491  1.894200e+11                     5.0   京師      軍機處     漢頭班   \n",
       "2442492  1.894200e+11                     5.0   京師      軍機處     漢頭班   \n",
       "2442493  1.894200e+11                     5.0   京師      軍機處     滿頭班   \n",
       "2442494  1.894200e+11                     5.0   京師      軍機處     滿頭班   \n",
       "2442495  1.894200e+11                     5.0   京師      軍機處     滿頭班   \n",
       "2442496  1.894200e+11                     5.0   京師      軍機處     滿頭班   \n",
       "2442497  1.894200e+11                     5.0   京師      軍機處     漢頭班   \n",
       "2442498  1.894200e+11                     3.0   京師    憲政編查館      總核   \n",
       "2442499  1.894200e+11                     3.0   京師      軍機處     漢頭班   \n",
       "2442500  1.894200e+11                     3.0   京師  內閣會議政務處     幫提調   \n",
       "2442501  1.894200e+11                     3.0   京師    憲政編查館      總核   \n",
       "2442502  1.894200e+11                     3.0   京師      軍機處     漢頭班   \n",
       "2442503  1.894200e+11                     3.0   京師  內閣會議政務處     幫提調   \n",
       "2442504  1.894200e+11                     3.0   京師  內閣會議政務處     幫提調   \n",
       "2442505  1.894200e+11                     3.0   京師    憲政編查館      總核   \n",
       "\n",
       "               guanzhi quanxuan_year  ganzhi_year_1     year assigned_edition  \n",
       "2442432         內閣候補中書           NaN            NaN  1895.00       光绪21春.xlsx  \n",
       "2442433         內閣候補中書           NaN            NaN  1895.25       光绪21夏.xlsx  \n",
       "2442434         內閣候補中書           NaN            NaN  1895.50       光绪21秋.xlsx  \n",
       "2442435         內閣候補中書           NaN            NaN  1895.75       光绪21冬.xlsx  \n",
       "2442436         內閣候補中書           NaN            NaN  1896.00       光绪22春.xlsx  \n",
       "2442437         內閣候補中書           NaN            NaN  1896.25   光绪22夏爵秩全览.xlsx  \n",
       "2442438             郎中           NaN            NaN  1897.25       光緒23夏.xlsx  \n",
       "2442439         內閣候補中書           NaN            NaN  1897.50  光緒23秋 縉紳全書.xlsx  \n",
       "2442440             郎中           NaN            NaN  1897.75       光緒23冬.xlsx  \n",
       "2442441         刑部候補郎中           NaN            NaN  1897.75       光緒23冬.xlsx  \n",
       "2442442         刑部候補郎中           NaN            NaN  1898.00       光緒24春.xlsx  \n",
       "2442443             郎中           NaN            NaN  1898.00       光緒24春.xlsx  \n",
       "2442444             郎中           NaN            NaN  1898.50       光緒24秋.xlsx  \n",
       "2442445         刑部候補郎中           NaN            NaN  1898.50       光緒24秋.xlsx  \n",
       "2442446         刑部候補郎中           NaN            NaN  1898.75       光緒24冬.xlsx  \n",
       "2442447             郎中           NaN            NaN  1898.75       光緒24冬.xlsx  \n",
       "2442448         刑部候補郎中           NaN            NaN  1899.00       光緒25春.xlsx  \n",
       "2442449             郎中           NaN            NaN  1899.00       光緒25春.xlsx  \n",
       "2442450         刑部候補郎中           NaN            NaN  1899.25      光緒25年夏.xlsx  \n",
       "2442451             郎中           NaN            NaN  1899.25      光緒25年夏.xlsx  \n",
       "2442452         刑部即補郎中           NaN            NaN  1899.50       光緒25秋.xlsx  \n",
       "2442453             郎中           NaN            NaN  1899.50       光緒25秋.xlsx  \n",
       "2442454             郎中           NaN            NaN  1899.75       光緒25冬.xlsx  \n",
       "2442455         刑部即補郎中           NaN            NaN  1899.75       光緒25冬.xlsx  \n",
       "2442456             郎中           NaN            NaN  1900.00       光緒26春.xlsx  \n",
       "2442457         刑部即補郎中           NaN            NaN  1900.00       光緒26春.xlsx  \n",
       "2442458         刑部候補郎中           NaN            NaN  1900.25       光绪26夏.xlsx  \n",
       "2442459             郎中           NaN            NaN  1900.25       光绪26夏.xlsx  \n",
       "2442460             郎中           NaN            NaN  1900.50       光緒26秋.xlsx  \n",
       "2442461             郎中           NaN            NaN  1901.00       光緒27春.xlsx  \n",
       "...                ...           ...            ...      ...              ...  \n",
       "2442476         候選五品京堂           NaN            NaN  1904.75       光緒30冬.xlsx  \n",
       "2442477             郎中           NaN            NaN  1904.75       光緒30冬.xlsx  \n",
       "2442478             郎中           NaN            NaN  1905.25       光緒31夏.xlsx  \n",
       "2442479             郎中           NaN            NaN  1905.50       光緒31秋.xlsx  \n",
       "2442480         候補五品京堂           NaN            NaN  1905.50       光緒31秋.xlsx  \n",
       "2442481         署光祿寺少卿           NaN            NaN  1905.50       光緒31秋.xlsx  \n",
       "2442482             郎中           NaN            NaN  1905.75       光緒31冬.xlsx  \n",
       "2442483      三品銜候補五品京堂           NaN            NaN  1906.00       光緒32春.xlsx  \n",
       "2442484             郎中           NaN            NaN  1906.00       光緒32春.xlsx  \n",
       "2442485         候補五品京堂           NaN            NaN  1906.00       光緒32春.xlsx  \n",
       "2442486  花翎三品候補五品京堂幫領班           NaN            NaN  1906.25       光緒32夏.xlsx  \n",
       "2442487      二品銜候補五品京堂           NaN            NaN  1906.25       光緒32夏.xlsx  \n",
       "2442488             郎中           NaN            NaN  1906.25       光緒32夏.xlsx  \n",
       "2442489         候補五品京堂           NaN            NaN  1906.50       光緒32秋.xlsx  \n",
       "2442490        候補?五品京堂           NaN            NaN  1906.50       光緒32秋.xlsx  \n",
       "2442491  額外章京上行走候補五品京堂           NaN            NaN  1909.00        宣統1春.xlsx  \n",
       "2442492  額外章京上行走候補五品京堂           NaN            NaN  1909.25        宣統1夏.xlsx  \n",
       "2442493  領班章京上行走候補五品京堂           NaN            NaN  1909.50        宣統1秋.xlsx  \n",
       "2442494  領班章京上行走候補五品京堂           NaN            NaN  1909.75        宣統1冬.xlsx  \n",
       "2442495  領班章京上行走候補五品京堂           NaN            NaN  1910.00        宣統2春.xlsx  \n",
       "2442496  領班章京上行走候補五品京堂           NaN            NaN  1910.25        宣統2夏.xlsx  \n",
       "2442497  領班章京上行走候補五品京堂           NaN            NaN  1910.50        宣統2秋.xlsx  \n",
       "2442498        軍機處三品章京           NaN            NaN  1910.75        宣統2冬.xlsx  \n",
       "2442499         領班三品章京           NaN            NaN  1910.75        宣統2冬.xlsx  \n",
       "2442500        軍機處三品章京           NaN            NaN  1910.75        宣統2冬.xlsx  \n",
       "2442501        軍機處三品章京           NaN            NaN  1911.00        宣統3春.xlsx  \n",
       "2442502         領班三品章京           NaN            NaN  1911.00        宣統3春.xlsx  \n",
       "2442503        軍機處三品章京           NaN            NaN  1911.00        宣統3春.xlsx  \n",
       "2442504        軍機處三品章京           NaN            NaN  1911.25        宣統3夏.xlsx  \n",
       "2442505        軍機處三品章京           NaN            NaN  1911.25        宣統3夏.xlsx  \n",
       "\n",
       "[74 rows x 10 columns]"
      ]
     },
     "execution_count": 108,
     "metadata": {},
     "output_type": "execute_result"
    }
   ],
   "source": [
    "ps # exclude after 1905, no houbu when duplicated in one edition, exclude people appearing only once"
   ]
  },
  {
   "cell_type": "markdown",
   "metadata": {},
   "source": [
    "\n",
    "\n",
    "0. how to determine years? otherwise, we don't have any info about their promotion speed, given that 'year' variable cannot be trusted\n",
    "1. completeness:1) before 1850 cannot be used correct. 2) after 1850, are all people tracked? for each person, is his records complete?\n",
    "2. duplicate records: the same info duplicated by two 刻本 from different 书局？\n",
    "\n",
    "now can only model each person by rankings. Features:\n",
    "1. min, max, occurences, intervals "
   ]
  },
  {
   "cell_type": "code",
   "execution_count": 113,
   "metadata": {},
   "outputs": [],
   "source": [
    "def ave_interval(v):\n",
    "    s=np.array(sorted(v))\n",
    "    if s.shape[0]==1:\n",
    "        return 0\n",
    "    else:\n",
    "        return (s[1:]-s[:-1]).mean()"
   ]
  },
  {
   "cell_type": "code",
   "execution_count": 22,
   "metadata": {},
   "outputs": [
    {
     "data": {
      "text/plain": [
       "83748"
      ]
     },
     "execution_count": 22,
     "metadata": {},
     "output_type": "execute_result"
    }
   ],
   "source": [
    "filtered_df.groupby('unique_id').ngroups"
   ]
  },
  {
   "cell_type": "code",
   "execution_count": 25,
   "metadata": {},
   "outputs": [
    {
     "data": {
      "text/html": [
       "<div>\n",
       "<style scoped>\n",
       "    .dataframe tbody tr th:only-of-type {\n",
       "        vertical-align: middle;\n",
       "    }\n",
       "\n",
       "    .dataframe tbody tr th {\n",
       "        vertical-align: top;\n",
       "    }\n",
       "\n",
       "    .dataframe thead th {\n",
       "        text-align: right;\n",
       "    }\n",
       "</style>\n",
       "<table border=\"1\" class=\"dataframe\">\n",
       "  <thead>\n",
       "    <tr style=\"text-align: right;\">\n",
       "      <th></th>\n",
       "      <th>unique_id</th>\n",
       "      <th>year</th>\n",
       "      <th>pinji_detailed_numeric</th>\n",
       "    </tr>\n",
       "  </thead>\n",
       "  <tbody>\n",
       "    <tr>\n",
       "      <th>count</th>\n",
       "      <td>7.888840e+05</td>\n",
       "      <td>788884.000000</td>\n",
       "      <td>788884.000000</td>\n",
       "    </tr>\n",
       "    <tr>\n",
       "      <th>mean</th>\n",
       "      <td>1.868271e+11</td>\n",
       "      <td>1874.949647</td>\n",
       "      <td>7.984961</td>\n",
       "    </tr>\n",
       "    <tr>\n",
       "      <th>std</th>\n",
       "      <td>1.240559e+09</td>\n",
       "      <td>12.591239</td>\n",
       "      <td>1.695062</td>\n",
       "    </tr>\n",
       "    <tr>\n",
       "      <th>min</th>\n",
       "      <td>1.796113e+11</td>\n",
       "      <td>1850.500000</td>\n",
       "      <td>1.000000</td>\n",
       "    </tr>\n",
       "    <tr>\n",
       "      <th>25%</th>\n",
       "      <td>1.857302e+11</td>\n",
       "      <td>1866.000000</td>\n",
       "      <td>7.000000</td>\n",
       "    </tr>\n",
       "    <tr>\n",
       "      <th>50%</th>\n",
       "      <td>1.867314e+11</td>\n",
       "      <td>1875.500000</td>\n",
       "      <td>8.000000</td>\n",
       "    </tr>\n",
       "    <tr>\n",
       "      <th>75%</th>\n",
       "      <td>1.877306e+11</td>\n",
       "      <td>1886.000000</td>\n",
       "      <td>9.500000</td>\n",
       "    </tr>\n",
       "    <tr>\n",
       "      <th>max</th>\n",
       "      <td>1.898112e+11</td>\n",
       "      <td>1898.000000</td>\n",
       "      <td>10.000000</td>\n",
       "    </tr>\n",
       "  </tbody>\n",
       "</table>\n",
       "</div>"
      ],
      "text/plain": [
       "          unique_id           year  pinji_detailed_numeric\n",
       "count  7.888840e+05  788884.000000           788884.000000\n",
       "mean   1.868271e+11    1874.949647                7.984961\n",
       "std    1.240559e+09      12.591239                1.695062\n",
       "min    1.796113e+11    1850.500000                1.000000\n",
       "25%    1.857302e+11    1866.000000                7.000000\n",
       "50%    1.867314e+11    1875.500000                8.000000\n",
       "75%    1.877306e+11    1886.000000                9.500000\n",
       "max    1.898112e+11    1898.000000               10.000000"
      ]
     },
     "execution_count": 25,
     "metadata": {},
     "output_type": "execute_result"
    }
   ],
   "source": [
    "filtered_df.describe()"
   ]
  },
  {
   "cell_type": "code",
   "execution_count": 20,
   "metadata": {
    "scrolled": true
   },
   "outputs": [],
   "source": [
    "filtered_df=df[['unique_id','year','pinji_detailed_numeric']].groupby('unique_id').filter(lambda sf: sf['year'].min()>1850 and sf['year'].max()<1898.5)"
   ]
  },
  {
   "cell_type": "code",
   "execution_count": 42,
   "metadata": {
    "scrolled": false
   },
   "outputs": [
    {
     "data": {
      "image/png": "[encoded data removed]",
      "text/plain": [
       "<Figure size 1188x3240 with 30 Axes>"
      ]
     },
     "metadata": {
      "needs_background": "light"
     },
     "output_type": "display_data"
    }
   ],
   "source": [
    "ncol=3\n",
    "nrow=10\n",
    "plt.figure(figsize=(ncol*5.5,nrow*4.5))\n",
    "count=0\n",
    "for i, (id_, subtable) in enumerate(filtered_df.groupby('unique_id'),1):\n",
    "    \n",
    "    if subtable.shape[0]<10:\n",
    "        continue\n",
    "    count+=1\n",
    "    plt.subplot(nrow,ncol,count)\n",
    "    plt.ylim(0,11)\n",
    "    plt.gca().invert_yaxis()\n",
    "    plt.plot(subtable['year'], subtable['pinji_detailed_numeric'], 'o')\n",
    "    if count>=nrow*ncol:\n",
    "        break"
   ]
  },
  {
   "cell_type": "markdown",
   "metadata": {},
   "source": [
    "(0. remove outlier) -> vis the below three distribution -> cluster and project\n",
    "1. change within a very small range\n",
    "2. fluctuation or not: up and down ratio\n",
    "3. how much promotion over career: last three - first three"
   ]
  },
  {
   "cell_type": "code",
   "execution_count": 122,
   "metadata": {
    "scrolled": false
   },
   "outputs": [
    {
     "data": {
      "application/vnd.jupyter.widget-view+json": {
       "model_id": "46c5e3bc7b494bef8aee3e2eff4cfc1a",
       "version_major": 2,
       "version_minor": 0
      },
      "text/plain": [
       "HBox(children=(IntProgress(value=1, bar_style='info', max=1), HTML(value='')))"
      ]
     },
     "metadata": {},
     "output_type": "display_data"
    }
   ],
   "source": [
    "def cal_up_times(subtable):\n",
    "    last=-1\n",
    "    up_count, down_count = 0, 0\n",
    "    for ranking in subtable['pinji_detailed_numeric']:\n",
    "        if last==-1:\n",
    "            last=ranking\n",
    "        else:\n",
    "            if ranking>last:\n",
    "                up_count+=1\n",
    "    return up_count\n",
    "stds=[]\n",
    "short_count=0\n",
    "spans=[]\n",
    "promo_times=[]\n",
    "promo_ratios=[]\n",
    "for i, (id_, subtable) in tqdm(enumerate(filtered_df.groupby('unique_id'),1)):\n",
    "    if subtable.shape[0]<4:\n",
    "        short_count+=1\n",
    "        continue\n",
    "    stds.append(subtable['pinji_detailed_numeric'].std())\n",
    "    spans.append(subtable['year'].max()-subtable['year'].min())\n",
    "    promo_time=cal_up_times(subtable)\n",
    "    promo_ratio=promo_time/subtable.shape[0]\n",
    "    promo_times.append(promo_time)\n",
    "    promo_ratios.append(promo_ratio)\n",
    "    if i>1000:\n",
    "        break"
   ]
  },
  {
   "cell_type": "code",
   "execution_count": 123,
   "metadata": {},
   "outputs": [
    {
     "data": {
      "text/plain": [
       "(array([700.,  33.,  25.,   4.,   4.,   7.,   3.,   5.,   6.,   4.]),\n",
       " array([0.        , 0.09705882, 0.19411765, 0.29117647, 0.38823529,\n",
       "        0.48529412, 0.58235294, 0.67941176, 0.77647059, 0.87352941,\n",
       "        0.97058824]),\n",
       " <a list of 10 Patch objects>)"
      ]
     },
     "execution_count": 123,
     "metadata": {},
     "output_type": "execute_result"
    },
    {
     "data": {
      "image/png": "[encoded data removed]",
      "text/plain": [
       "<Figure size 720x2160 with 4 Axes>"
      ]
     },
     "metadata": {
      "needs_background": "light"
     },
     "output_type": "display_data"
    }
   ],
   "source": [
    "plt.figure(figsize=(10, 30))\n",
    "plt.subplot(5,1,1)\n",
    "plt.hist(stds)\n",
    "plt.title('std')\n",
    "plt.subplot(5,1,2)\n",
    "plt.title('career length')\n",
    "plt.hist(spans)\n",
    "plt.subplot(5,1,3)\n",
    "plt.title('promotion times')\n",
    "plt.hist(promo_times, bins=np.arange(np.max(promo_times)))\n",
    "plt.subplot(5,1,4)\n",
    "plt.title('promotion ratio')\n",
    "plt.hist(promo_ratios)"
   ]
  },
  {
   "cell_type": "code",
   "execution_count": 109,
   "metadata": {},
   "outputs": [
    {
     "data": {
      "text/plain": [
       "101"
      ]
     },
     "execution_count": 109,
     "metadata": {},
     "output_type": "execute_result"
    }
   ],
   "source": [
    "pd.Series(stds).isnull().sum()"
   ]
  },
  {
   "cell_type": "code",
   "execution_count": 77,
   "metadata": {
    "scrolled": false
   },
   "outputs": [
    {
     "data": {
      "application/vnd.jupyter.widget-view+json": {
       "model_id": "833865480e704ef2b8e41431de6f967c",
       "version_major": 2,
       "version_minor": 0
      },
      "text/plain": [
       "HBox(children=(IntProgress(value=1, bar_style='info', max=1), HTML(value='')))"
      ]
     },
     "metadata": {},
     "output_type": "display_data"
    }
   ],
   "source": [
    "def cal_zig_zag_ratio(subtable):\n",
    "    last=-1\n",
    "    up_count, down_count = 1, 0\n",
    "    for ranking in subtable['pinji_detailed_numeric']:\n",
    "        if last==-1:\n",
    "            last=ranking\n",
    "        else:\n",
    "            if ranking>last:\n",
    "                up_count+=1\n",
    "            elif ranking<last:\n",
    "                down_count+=1\n",
    "    return down_count/up_count\n",
    "\n",
    "\n",
    "fea_matrix={'fluc_range': [], \n",
    "            'zig_zag_ratio': [],\n",
    "            'promo_scale':[],\n",
    "            'promo_speed':[]\n",
    "           }\n",
    "\n",
    "for i, (id_, subtable) in tqdm(enumerate(filtered_df.groupby('unique_id'),1)):\n",
    "    no_outlier_subtable=subtable[np.abs(subtable['pinji_detailed_numeric']-subtable['pinji_detailed_numeric'].mean())<\n",
    "                                 (subtable['year'].std()*3)].sort_values(by='year') # remove outliers, sort by time\n",
    "    if no_outlier_subtable.shape[0]<4 or no_outlier_subtable['pinji_detailed_numeric'].std()<0.001: # filter out people with too few records or no variance\n",
    "        continue\n",
    "    fea_matrix['fluc_range'].append(no_outlier_subtable['pinji_detailed_numeric'].max()-\n",
    "                                    no_outlier_subtable['pinji_detailed_numeric'].min())\n",
    "    fea_matrix['zig_zag_ratio'].append(cal_zig_zag_ratio(no_outlier_subtable))\n",
    "    fea_matrix['promo_scale'].append(no_outlier_subtable['pinji_detailed_numeric'].iloc[:3].sum()-\n",
    "                                     no_outlier_subtable['pinji_detailed_numeric'].iloc[-3:].sum())\n",
    "    fea_matrix['promo_speed'].append(1/3*(no_outlier_subtable['pinji_detailed_numeric'].iloc[:3].sum()-\n",
    "                                     no_outlier_subtable['pinji_detailed_numeric'].iloc[-3:].sum())/\n",
    "                                    (no_outlier_subtable['year'].max()-no_outlier_subtable['year'].min()))\n",
    "    if i>20000:\n",
    "        break"
   ]
  },
  {
   "cell_type": "code",
   "execution_count": 78,
   "metadata": {},
   "outputs": [],
   "source": [
    "fea_matrix=pd.DataFrame(fea_matrix)"
   ]
  },
  {
   "cell_type": "code",
   "execution_count": 100,
   "metadata": {},
   "outputs": [],
   "source": [
    "fea_mat=StandardScaler().fit_transform(fea_matrix)\n",
    "from sklearn.manifold import Isomap\n",
    "from sklearn.discriminant_analysis import LinearDiscriminantAnalysis as LDA\n",
    "from sklearn.decomposition import PCA\n",
    "from sklearn.manifold import MDS\n",
    "from sklearn.manifold import locally_linear_embedding as LLE\n",
    "from sklearn.manifold import TSNE\n",
    "projs=TSNE(n_components=2).fit_transform(fea_mat)\n",
    "# projs=LLE(fea_mat, n_neighbors=10,  n_components=2)[0]"
   ]
  },
  {
   "cell_type": "code",
   "execution_count": 101,
   "metadata": {},
   "outputs": [
    {
     "data": {
      "text/plain": [
       "[<matplotlib.lines.Line2D at 0x233e1d33550>]"
      ]
     },
     "execution_count": 101,
     "metadata": {},
     "output_type": "execute_result"
    },
    {
     "data": {
      "image/png": "[encoded data removed]",
      "text/plain": [
       "<Figure size 576x576 with 1 Axes>"
      ]
     },
     "metadata": {
      "needs_background": "light"
     },
     "output_type": "display_data"
    }
   ],
   "source": [
    "plt.figure(figsize=(8,8))\n",
    "plt.plot(projs[:,0], projs[:,1], 'o', ms=1)"
   ]
  },
  {
   "cell_type": "code",
   "execution_count": 124,
   "metadata": {},
   "outputs": [
    {
     "ename": "IndexError",
     "evalue": "only integers, slices (`:`), ellipsis (`...`), numpy.newaxis (`None`) and integer or boolean arrays are valid indices",
     "output_type": "error",
     "traceback": [
      "\u001b[1;31m---------------------------------------------------------------------------\u001b[0m",
      "\u001b[1;31mIndexError\u001b[0m                                Traceback (most recent call last)",
      "\u001b[1;32m<ipython-input-124-26b780e885a6>\u001b[0m in \u001b[0;36m<module>\u001b[1;34m\u001b[0m\n\u001b[0;32m      1\u001b[0m \u001b[1;32mfrom\u001b[0m \u001b[0msklearn\u001b[0m\u001b[1;33m.\u001b[0m\u001b[0mcluster\u001b[0m \u001b[1;32mimport\u001b[0m \u001b[0mDBSCAN\u001b[0m\u001b[1;33m\u001b[0m\u001b[0m\n\u001b[1;32m----> 2\u001b[1;33m \u001b[0mfea_mat\u001b[0m\u001b[1;33m[\u001b[0m\u001b[1;34m'label'\u001b[0m\u001b[1;33m]\u001b[0m\u001b[1;33m=\u001b[0m\u001b[0mDBSCAN\u001b[0m\u001b[1;33m(\u001b[0m\u001b[1;33m)\u001b[0m\u001b[1;33m.\u001b[0m\u001b[0mfit_predict\u001b[0m\u001b[1;33m(\u001b[0m\u001b[0mfea_mat\u001b[0m\u001b[1;33m)\u001b[0m\u001b[1;33m\u001b[0m\u001b[0m\n\u001b[0m\u001b[0;32m      3\u001b[0m \u001b[0mplt\u001b[0m\u001b[1;33m.\u001b[0m\u001b[0mfigure\u001b[0m\u001b[1;33m(\u001b[0m\u001b[0mfigsize\u001b[0m\u001b[1;33m=\u001b[0m\u001b[1;33m(\u001b[0m\u001b[1;36m8\u001b[0m\u001b[1;33m,\u001b[0m\u001b[1;36m8\u001b[0m\u001b[1;33m)\u001b[0m\u001b[1;33m)\u001b[0m\u001b[1;33m\u001b[0m\u001b[0m\n\u001b[0;32m      4\u001b[0m plt.scatter(projs[:,0], projs[:,1], s=np.fill(fea_mat,shape[0],1),\n\u001b[0;32m      5\u001b[0m             c=fea_mat['label'], cmap='rainbow')\n",
      "\u001b[1;31mIndexError\u001b[0m: only integers, slices (`:`), ellipsis (`...`), numpy.newaxis (`None`) and integer or boolean arrays are valid indices"
     ]
    }
   ],
   "source": [
    "from sklearn.cluster import DBSCAN\n",
    "fea_mat['label']=DBSCAN().fit_predict(fea_mat)\n",
    "plt.figure(figsize=(8,8))\n",
    "plt.scatter(projs[:,0], projs[:,1], s=np.fill(fea_mat,shape[0],1),\n",
    "            c=fea_mat['label'], cmap='rainbow')\n",
    "plt.colorbar()"
   ]
  },
  {
   "cell_type": "code",
   "execution_count": 123,
   "metadata": {},
   "outputs": [
    {
     "data": {
      "text/plain": [
       "[<matplotlib.lines.Line2D at 0x2bb3cf1aa58>]"
      ]
     },
     "execution_count": 123,
     "metadata": {},
     "output_type": "execute_result"
    },
    {
     "data": {
      "image/png": "[encoded data removed]",
      "text/plain": [
       "<Figure size 864x720 with 1 Axes>"
      ]
     },
     "metadata": {},
     "output_type": "display_data"
    }
   ],
   "source": [
    "plt.figure(figsize=(12,10))\n",
    "from sklearn.decomposition import PCA\n",
    "projs=PCA(n_components=2).fit_transform(fea_mat)\n",
    "plt.plot(projs[:,0], projs[:,1], 'o')"
   ]
  },
  {
   "cell_type": "markdown",
   "metadata": {},
   "source": [
    "plan: \n",
    "1. (province level + ranking) -> speed\n",
    "2. position -> speed\n",
    "3. ..."
   ]
  },
  {
   "cell_type": "code",
   "execution_count": 12,
   "metadata": {},
   "outputs": [
    {
     "data": {
      "text/plain": [
       "234265"
      ]
     },
     "execution_count": 12,
     "metadata": {},
     "output_type": "execute_result"
    }
   ],
   "source": [
    "(df['xuhao']>20000).sum()"
   ]
  },
  {
   "cell_type": "code",
   "execution_count": 14,
   "metadata": {},
   "outputs": [
    {
     "ename": "TypeError",
     "evalue": "'NoneType' object is not subscriptable",
     "output_type": "error",
     "traceback": [
      "\u001b[1;31m---------------------------------------------------------------------------\u001b[0m",
      "\u001b[1;31mTypeError\u001b[0m                                 Traceback (most recent call last)",
      "\u001b[1;32m<ipython-input-14-2f46c0800486>\u001b[0m in \u001b[0;36m<module>\u001b[1;34m\u001b[0m\n\u001b[1;32m----> 1\u001b[1;33m \u001b[0mdf\u001b[0m\u001b[1;33m[\u001b[0m\u001b[0mdf\u001b[0m\u001b[1;33m[\u001b[0m\u001b[1;34m'xuhao'\u001b[0m\u001b[1;33m]\u001b[0m\u001b[1;33m==\u001b[0m\u001b[1;36m20000\u001b[0m\u001b[1;33m]\u001b[0m\u001b[1;33m\u001b[0m\u001b[0m\n\u001b[0m",
      "\u001b[1;31mTypeError\u001b[0m: 'NoneType' object is not subscriptable"
     ]
    }
   ],
   "source": [
    "df[df['xuhao']==20000]"
   ]
  },
  {
   "cell_type": "code",
   "execution_count": null,
   "metadata": {},
   "outputs": [],
   "source": []
  }
 ],
 "metadata": {
  "kernelspec": {
   "display_name": "Python 3",
   "language": "python",
   "name": "python3"
  },
  "language_info": {
   "codemirror_mode": {
    "name": "ipython",
    "version": 3
   },
   "file_extension": ".py",
   "mimetype": "text/x-python",
   "name": "python",
   "nbconvert_exporter": "python",
   "pygments_lexer": "ipython3",
   "version": "3.5.4"
  }
 },
 "nbformat": 4,
 "nbformat_minor": 2
}
