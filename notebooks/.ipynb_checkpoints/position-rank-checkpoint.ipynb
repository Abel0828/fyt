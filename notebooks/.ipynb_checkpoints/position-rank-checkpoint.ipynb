{
 "cells": [
  {
   "cell_type": "code",
   "execution_count": 3,
   "metadata": {},
   "outputs": [],
   "source": [
    "import numpy as np\n",
    "import pandas as pd\n",
    "import math\n",
    "\n",
    "import matplotlib.pyplot as plt\n",
    "from tqdm import tqdm_notebook as tqdm\n",
    "from sklearn.preprocessing import StandardScaler"
   ]
  },
  {
   "cell_type": "code",
   "execution_count": 2,
   "metadata": {},
   "outputs": [
    {
     "name": "stderr",
     "output_type": "stream",
     "text": [
      "D:\\Anaconda3\\lib\\site-packages\\IPython\\core\\interactiveshell.py:2785: DtypeWarning: Columns (0,1,2,3,4,5,6,7,8,9,10,11,14,15,16,25,27,29,30,31,32,33,35,36,37,43,44,45,46,47,48,49,50,51,54,55,56,57,58,60,63,66,68,71,73,74,84,89,90,91,92) have mixed types. Specify dtype option on import or set low_memory=False.\n",
      "  interactivity=interactivity, compiler=compiler, result=result)\n"
     ]
    }
   ],
   "source": [
    "df=pd.read_csv('../data/Jinshenlu.txt',sep='\\t',\n",
    "              error_bad_lines=False)"
   ]
  },
  {
   "cell_type": "code",
   "execution_count": 3,
   "metadata": {},
   "outputs": [],
   "source": [
    "irr_idx=df[(df['qiren']=='旗人')|(df['fangkeben_only']==1) |\n",
    "           (df['xing'].isnull() & df['ming'].isnull() & \n",
    "            df[ 'zihao'].isnull())].index.tolist()\n",
    "malformed_idx=df[(df['year'].isin(['銀庫', '蒙古',7.0])) | \n",
    "                 (df['pinji_numeric']=='州') | df['year'].isnull() |\n",
    "                df['qiren'].isnull() | (df['xuhao']=='麗')].index.tolist()\n",
    "to_remove=set(irr_idx)|set(malformed_idx)"
   ]
  },
  {
   "cell_type": "code",
   "execution_count": 4,
   "metadata": {},
   "outputs": [],
   "source": [
    "df.drop(to_remove, inplace=True)\n",
    "df['year']=df['year'].astype(float)\n",
    "df['pinji_numeric']=df['pinji_numeric'].astype(float)\n",
    "df['xuhao']=df['xuhao'].astype(int)\n",
    "df.drop(df[df['xuhao']>=20000].index.tolist(), inplace=True)"
   ]
  },
  {
   "cell_type": "code",
   "execution_count": 5,
   "metadata": {},
   "outputs": [
    {
     "name": "stdout",
     "output_type": "stream",
     "text": [
      "nan converted into 10.0; 正八品 converted into 8.0; 正七品 converted into 7.0; 從九品 converted into 9.5; 正六品 converted into 6.0; 從五品 converted into 5.5; 正五品 converted into 5.0; 從七品 converted into 7.5; 未入流 converted into 10.0; 從六品 converted into 6.5; 正二品 converted into 2.0; 從四品 converted into 4.5; 正九品 converted into 9.0; 正四品 converted into 4.0; 從三品 converted into 3.5; 八品 converted into 8.0; 正三品 converted into 3.0; 從一品 converted into 1.5; 正一品 converted into 1.0; 從二品 converted into 2.5; 從八品 converted into 8.5; 從一品(應為正四品) converted into 4.0; 三品 converted into 3.0; 九品 converted into 9.0; 四品 converted into 4.0; 不入流 converted into 10.0; 六品 converted into 6.0; 一品 converted into 1.0; 二品 converted into 2.0; 七品 converted into 7.0; 五品 converted into 5.0; "
     ]
    }
   ],
   "source": [
    "def str2float(s):\n",
    "    if s in [np.nan, '不入流', '未入流']:\n",
    "        return 10.0\n",
    "    if s=='從一品(應為正四品)':\n",
    "        return 4.0\n",
    "    dic=dict(zip(['一', '二','三','四','五', '六','七','八','九'], np.arange(1,10)))\n",
    "    base = dic[s[-2]]\n",
    "    base+=0.5*('從' in s)\n",
    "    return float(base)\n",
    "for i in df['pinji_detailed'].unique():\n",
    "    print(i, 'converted into', str2float(i), end='; ')"
   ]
  },
  {
   "cell_type": "code",
   "execution_count": 6,
   "metadata": {},
   "outputs": [],
   "source": [
    "df['pinji_detailed_numeric']=df['pinji_detailed'].apply(str2float)"
   ]
  },
  {
   "cell_type": "code",
   "execution_count": 7,
   "metadata": {
    "scrolled": false
   },
   "outputs": [
    {
     "name": "stdout",
     "output_type": "stream",
     "text": [
      "total number of people 1824624\n",
      "\n",
      "number of unique diqu （地区） 34\n",
      "Top 20: [('京師', 277411), ('直隸', 137009), ('山東', 117227), ('四川', 108514), ('廣東', 100973), ('河南', 96405), ('江西', 94022), ('浙江', 93826), ('山西', 83787), ('湖北', 75208), ('江南', 73057), ('福建', 72888), ('湖南', 71482), ('雲南', 70277), ('廣西', 70100), ('陝西', 67441), ('安徽', 60790), ('貴州', 50984), ('甘肅', 45787), ('江蘇', 32316)]\n",
      "\n",
      "number of unique guanzhi（官职) 25738\n",
      "Top 20: [('典史', 218672), ('知縣', 197723), ('訓導', 139029), ('復設訓導', 127792), ('復設教諭', 117965), ('主事', 77227), ('教諭', 75397), ('學正', 38830), ('吏目', 36705), ('教授', 34693), ('知州', 30936), ('縣丞', 30325), ('經厯', 22609), ('知府', 22031), ('翰林院編修', 19527), ('郎中', 14866), ('員外郎', 12710), ('翰林院庶吉士', 10744), ('司獄', 9470), ('經歷', 8398)]\n",
      "\n",
      "number of unique jigou_1 （机构一） 1089\n",
      "Top 20: [('翰林院衙門', 41080), ('刑部衙門', 30615), ('順天府', 28839), ('戶部衙門', 25653), ('兗州府', 24549), ('總漕部院衙門', 19932), ('廣州府', 19043), ('兵部衙門', 16523), ('按察司衙門', 15704), ('西安府', 14864), ('開封府', 14473), ('保定府', 14095), ('濟南府', 13810), ('成都府', 13013), ('都察院衙門', 12536), ('天津府', 12479), ('工部衙門', 12297), ('太醫院衙門', 12294), ('正定府', 12104), ('吉安府', 11986)]\n",
      "\n",
      "number of unique (jigou_1, guanzhi) pair （机构一+官职） 37082\n",
      "Top 20: [(('刑部衙門', '主事'), 19359), (('翰林院衙門', '翰林院編修'), 19181), (('戶部衙門', '主事'), 15054), (('翰林院衙門', '翰林院庶吉士'), 10721), (('工部衙門', '主事'), 7904), (('吏部衙門', '主事'), 7430), (('總漕部院衙門', '領運千總'), 7226), (('度支部衙門', '主事'), 6754), (('兵部衙門', '主事'), 5807), (('禮部衙門', '主事'), 5430), (('法部衙門', '主事'), 5088), (('欽天監衙門', '博士'), 4485), (('刑部衙門', '郎中'), 4141), (('刑部衙門', '員外郎'), 3629), (('兗州府', '執事官'), 3592), (('太醫院衙門', '醫士'), 3549), (('內閣', '中書'), 3470), (('總漕部院衙門', '掌印守備'), 3436), (('順天府', '典史'), 3271), (('兵部衙門', '差官'), 3198)]\n",
      "\n",
      "number of unique (jigou_1, jigou_2, guanzhi) tuple （机构一+机构二+官职） 35865\n",
      "Top 20: [(('翰林院衙門', '翰林院編修', '翰林院編修'), 18884), (('刑部衙門', '額外司員', '主事'), 16557), (('戶部衙門', '額外司員', '主事'), 11339), (('翰林院衙門', '翰林院庶吉士', '翰林院庶吉士'), 10668), (('工部衙門', '額外司員', '主事'), 6842), (('度支部衙門', '額外司員', '主事'), 6401), (('吏部衙門', '額外司員', '主事'), 6290), (('兵部衙門', '額外司員', '主事'), 5166), (('禮部衙門', '額外司員', '主事'), 4714), (('法部衙門', '額外司員', '主事'), 4682), (('兗州府', '曲阜縣', '執事官'), 3592), (('太醫院衙門', '醫士', '醫士'), 3520), (('兵部衙門', '兵部差官', '差官'), 3198), (('翰林院衙門', '翰林院檢討', '翰林院檢討'), 2976), (('欽天監衙門', '時憲科', '博士'), 2930), (('按察司衙門', nan, '司獄'), 2843), (('陸軍部衙門', '候補主事', '候補主事'), 2588), (('內閣', '漢票簽中書舍人', '中書'), 2434), (('總漕部院衙門', '江南衛所', '領運千總'), 2400), (('太醫院衙門', '九品吏目', '九品吏目'), 2242)]\n",
      "\n"
     ]
    },
    {
     "data": {
      "text/plain": [
       "[<matplotlib.lines.Line2D at 0x227c1d7df60>]"
      ]
     },
     "execution_count": 7,
     "metadata": {},
     "output_type": "execute_result"
    },
    {
     "data": {
      "image/png": "[encoded data removed]",
      "text/plain": [
       "<Figure size 432x288 with 1 Axes>"
      ]
     },
     "metadata": {
      "needs_background": "light"
     },
     "output_type": "display_data"
    }
   ],
   "source": [
    "def plot_distri(arr, name):\n",
    "    long_flag=False\n",
    "    if len(arr.shape)==1:\n",
    "        print('number of unique {}'.format(name), arr.unique().shape[0])\n",
    "    else:\n",
    "        \n",
    "        print('number of unique {}'.format(name), arr.groupby(list(arr.columns)).ngroups)\n",
    "        long_flag=True\n",
    "    item_count={}\n",
    "    for item in arr.values:\n",
    "\n",
    "        if long_flag:\n",
    "            it = tuple(item)\n",
    "        else: \n",
    "            it=item\n",
    "        \n",
    "        if it not in item_count:\n",
    "            item_count[it]=1\n",
    "        else:\n",
    "            item_count[it]+=1\n",
    "    sorted_two_tuples=sorted(list(item_count.items()), key=lambda x:-x[1])\n",
    "    print('Top 20:', sorted_two_tuples[:20])\n",
    "    print()\n",
    "    return sorted_two_tuples\n",
    "#     plt.plot(sorted(item_count.values(),reverse=True))\n",
    "print('total number of people', df.shape[0], end='\\n\\n')\n",
    "\n",
    "plot_distri(df['diqu'], 'diqu （地区）')\n",
    "plot_distri(df['guanzhi'],'guanzhi（官职)')\n",
    "plot_distri(df['jigou_1'], 'jigou_1 （机构一）')\n",
    "sorted_two_tuples=plot_distri(df[['jigou_1', 'guanzhi']], '(jigou_1, guanzhi) pair （机构一+官职）')\n",
    "sorted_two_tuples2=plot_distri(df[['jigou_1', 'jigou_2','guanzhi']], '(jigou_1, jigou_2, guanzhi) tuple （机构一+机构二+官职）')\n",
    "plt.plot(pd.DataFrame(sorted_two_tuples)[1][:100])\n",
    "# print(df.groupby(['guanzhi', '', '']))"
   ]
  },
  {
   "cell_type": "markdown",
   "metadata": {},
   "source": [
    "## the 5000th position has more than 60 records -> the defnition for position is suitable"
   ]
  },
  {
   "cell_type": "code",
   "execution_count": 8,
   "metadata": {
    "scrolled": false
   },
   "outputs": [
    {
     "data": {
      "text/plain": [
       "[<matplotlib.lines.Line2D at 0x227c1428cf8>]"
      ]
     },
     "execution_count": 8,
     "metadata": {},
     "output_type": "execute_result"
    },
    {
     "data": {
      "image/png": "[encoded data removed]",
      "text/plain": [
       "<Figure size 1080x720 with 1 Axes>"
      ]
     },
     "metadata": {
      "needs_background": "light"
     },
     "output_type": "display_data"
    }
   ],
   "source": [
    "plt.figure(figsize=(15,10))\n",
    "plt.plot(pd.DataFrame(sorted_two_tuples)[1])\n",
    "plt.plot(pd.DataFrame(sorted_two_tuples2)[1])"
   ]
  },
  {
   "cell_type": "markdown",
   "metadata": {},
   "source": [
    "# Real Analysis Starts Here"
   ]
  },
  {
   "cell_type": "code",
   "execution_count": 4,
   "metadata": {},
   "outputs": [],
   "source": [
    "import os\n",
    "ppry_file=r'../data/pickles/ppry.pkl'\n",
    "if os.path.exists(ppry_file):\n",
    "    ppry=pd.read_pickle(ppry_file)\n",
    "else:\n",
    "    ppry=df[['unique_id', 'jigou_1', 'guanzhi', 'pinji_detailed_numeric', 'year']] #person_position_rank_year\n",
    "    open(ppry_file, 'a')\n",
    "    ppry.to_pickle(ppry_file)"
   ]
  },
  {
   "cell_type": "code",
   "execution_count": 5,
   "metadata": {},
   "outputs": [
    {
     "data": {
      "text/html": [
       "<div>\n",
       "<style scoped>\n",
       "    .dataframe tbody tr th:only-of-type {\n",
       "        vertical-align: middle;\n",
       "    }\n",
       "\n",
       "    .dataframe tbody tr th {\n",
       "        vertical-align: top;\n",
       "    }\n",
       "\n",
       "    .dataframe thead th {\n",
       "        text-align: right;\n",
       "    }\n",
       "</style>\n",
       "<table border=\"1\" class=\"dataframe\">\n",
       "  <thead>\n",
       "    <tr style=\"text-align: right;\">\n",
       "      <th></th>\n",
       "      <th>unique_id</th>\n",
       "      <th>jigou_1</th>\n",
       "      <th>guanzhi</th>\n",
       "      <th>pinji_detailed_numeric</th>\n",
       "      <th>year</th>\n",
       "    </tr>\n",
       "  </thead>\n",
       "  <tbody>\n",
       "    <tr>\n",
       "      <th>count</th>\n",
       "      <td>1.814096e+06</td>\n",
       "      <td>1814376</td>\n",
       "      <td>1814376</td>\n",
       "      <td>1.814376e+06</td>\n",
       "      <td>1.814376e+06</td>\n",
       "    </tr>\n",
       "    <tr>\n",
       "      <th>unique</th>\n",
       "      <td>NaN</td>\n",
       "      <td>1087</td>\n",
       "      <td>24100</td>\n",
       "      <td>NaN</td>\n",
       "      <td>NaN</td>\n",
       "    </tr>\n",
       "    <tr>\n",
       "      <th>top</th>\n",
       "      <td>NaN</td>\n",
       "      <td>翰林院衙門</td>\n",
       "      <td>典史</td>\n",
       "      <td>NaN</td>\n",
       "      <td>NaN</td>\n",
       "    </tr>\n",
       "    <tr>\n",
       "      <th>freq</th>\n",
       "      <td>NaN</td>\n",
       "      <td>41080</td>\n",
       "      <td>218671</td>\n",
       "      <td>NaN</td>\n",
       "      <td>NaN</td>\n",
       "    </tr>\n",
       "    <tr>\n",
       "      <th>mean</th>\n",
       "      <td>1.868408e+11</td>\n",
       "      <td>NaN</td>\n",
       "      <td>NaN</td>\n",
       "      <td>7.983527e+00</td>\n",
       "      <td>1.875674e+03</td>\n",
       "    </tr>\n",
       "    <tr>\n",
       "      <th>std</th>\n",
       "      <td>3.320073e+09</td>\n",
       "      <td>NaN</td>\n",
       "      <td>NaN</td>\n",
       "      <td>1.686329e+00</td>\n",
       "      <td>3.373761e+01</td>\n",
       "    </tr>\n",
       "    <tr>\n",
       "      <th>min</th>\n",
       "      <td>1.760400e+11</td>\n",
       "      <td>NaN</td>\n",
       "      <td>NaN</td>\n",
       "      <td>1.000000e+00</td>\n",
       "      <td>1.760750e+03</td>\n",
       "    </tr>\n",
       "    <tr>\n",
       "      <th>25%</th>\n",
       "      <td>1.856206e+11</td>\n",
       "      <td>NaN</td>\n",
       "      <td>NaN</td>\n",
       "      <td>7.000000e+00</td>\n",
       "      <td>1.865250e+03</td>\n",
       "    </tr>\n",
       "    <tr>\n",
       "      <th>50%</th>\n",
       "      <td>1.876209e+11</td>\n",
       "      <td>NaN</td>\n",
       "      <td>NaN</td>\n",
       "      <td>8.000000e+00</td>\n",
       "      <td>1.886250e+03</td>\n",
       "    </tr>\n",
       "    <tr>\n",
       "      <th>75%</th>\n",
       "      <td>1.892101e+11</td>\n",
       "      <td>NaN</td>\n",
       "      <td>NaN</td>\n",
       "      <td>9.500000e+00</td>\n",
       "      <td>1.899250e+03</td>\n",
       "    </tr>\n",
       "    <tr>\n",
       "      <th>max</th>\n",
       "      <td>1.912119e+11</td>\n",
       "      <td>NaN</td>\n",
       "      <td>NaN</td>\n",
       "      <td>1.000000e+01</td>\n",
       "      <td>1.912000e+03</td>\n",
       "    </tr>\n",
       "  </tbody>\n",
       "</table>\n",
       "</div>"
      ],
      "text/plain": [
       "           unique_id  jigou_1  guanzhi  pinji_detailed_numeric          year\n",
       "count   1.814096e+06  1814376  1814376            1.814376e+06  1.814376e+06\n",
       "unique           NaN     1087    24100                     NaN           NaN\n",
       "top              NaN    翰林院衙門       典史                     NaN           NaN\n",
       "freq             NaN    41080   218671                     NaN           NaN\n",
       "mean    1.868408e+11      NaN      NaN            7.983527e+00  1.875674e+03\n",
       "std     3.320073e+09      NaN      NaN            1.686329e+00  3.373761e+01\n",
       "min     1.760400e+11      NaN      NaN            1.000000e+00  1.760750e+03\n",
       "25%     1.856206e+11      NaN      NaN            7.000000e+00  1.865250e+03\n",
       "50%     1.876209e+11      NaN      NaN            8.000000e+00  1.886250e+03\n",
       "75%     1.892101e+11      NaN      NaN            9.500000e+00  1.899250e+03\n",
       "max     1.912119e+11      NaN      NaN            1.000000e+01  1.912000e+03"
      ]
     },
     "execution_count": 5,
     "metadata": {},
     "output_type": "execute_result"
    }
   ],
   "source": [
    "ppry.dropna(subset=['jigou_1', 'guanzhi'], inplace = True)\n",
    "ppry.describe(include='all')"
   ]
  },
  {
   "cell_type": "markdown",
   "metadata": {},
   "source": [
    "## temporarily remove nan in jigou_1 and guanzhi"
   ]
  },
  {
   "cell_type": "markdown",
   "metadata": {},
   "source": [
    "1. index all the positions"
   ]
  },
  {
   "cell_type": "code",
   "execution_count": 6,
   "metadata": {},
   "outputs": [],
   "source": [
    "def combine(x):\n",
    "    return x[0] + ' ' + x[1] \n",
    "pos = ppry[['jigou_1', 'guanzhi']].apply(combine, axis=1).unique()"
   ]
  },
  {
   "cell_type": "code",
   "execution_count": 7,
   "metadata": {},
   "outputs": [
    {
     "name": "stdout",
     "output_type": "stream",
     "text": [
      "37082\n",
      "['順天府 欽命江西道監察禦史巡察通州倉漕事務' '國子監衙門 鑲紅旗' '安陸府 縣丞駐?清兼管水利']\n"
     ]
    }
   ],
   "source": [
    "print(len(pos))\n",
    "print(pos[:3])\n",
    "index_table={position: idx for idx, position in enumerate(pos)}"
   ]
  },
  {
   "cell_type": "markdown",
   "metadata": {},
   "source": [
    "1. construct A:\n",
    "1) sum t for each edge -- T\n",
    "2) count the # of each edge -- N\n",
    "3) from N construct P -- P\n",
    "4) use T, N, P to construct A -- A"
   ]
  },
  {
   "cell_type": "code",
   "execution_count": 8,
   "metadata": {},
   "outputs": [
    {
     "data": {
      "application/vnd.jupyter.widget-view+json": {
       "model_id": "b57bc8f9e56c48ae9dd0551352ee08f9",
       "version_major": 2,
       "version_minor": 0
      },
      "text/plain": [
       "HBox(children=(IntProgress(value=0, max=213520), HTML(value='')))"
      ]
     },
     "metadata": {},
     "output_type": "display_data"
    },
    {
     "name": "stdout",
     "output_type": "stream",
     "text": [
      "\n"
     ]
    }
   ],
   "source": [
    "N = {} # count the number of each edge\n",
    "T = {} # sum the total time of each edge\n",
    "for id_, subtable in tqdm(ppry.groupby('unique_id')):\n",
    "    if subtable.shape[0] == 1:\n",
    "        continue\n",
    "    first = True\n",
    "    pre_pos = None\n",
    "    cur_pos = None\n",
    "    pre_year = None\n",
    "    cur_year = None\n",
    "    for index, row in subtable.sort_values('year').iterrows():\n",
    "        if first:\n",
    "            first = False\n",
    "            pre_pos = row['jigou_1'] + ' ' + row['guanzhi']\n",
    "            pre_year= index\n",
    "            continue\n",
    "        else:\n",
    "            cur_pos = row['jigou_1'] + ' ' + row['guanzhi']\n",
    "            flow = (index_table[pre_pos], index_table[cur_pos])\n",
    "            if flow[0] in N:\n",
    "                count=N[flow[0]].get(flow[1])\n",
    "                N[flow[0]][flow[1]] = count+1 if count else 1\n",
    "                total_time=N[flow[0]].get(flow[1])\n",
    "                T[flow[0]][flow[1]] = total_time + index - pre_year if total_time else index - pre_year          \n",
    "            else:\n",
    "                N[flow[0]]={flow[1]: 1}\n",
    "                T[flow[0]]={flow[1]: index - pre_year}\n",
    "            \n",
    "            pre_pos = cur_pos\n",
    "            pre_year = index"
   ]
  },
  {
   "cell_type": "code",
   "execution_count": 9,
   "metadata": {},
   "outputs": [
    {
     "name": "stdout",
     "output_type": "stream",
     "text": [
      "32201\n",
      "32201\n"
     ]
    }
   ],
   "source": [
    "print(len(T))\n",
    "print(len(N))"
   ]
  },
  {
   "cell_type": "code",
   "execution_count": 10,
   "metadata": {},
   "outputs": [
    {
     "data": {
      "application/vnd.jupyter.widget-view+json": {
       "model_id": "52e05f793f774c92b997990613772089",
       "version_major": 2,
       "version_minor": 0
      },
      "text/plain": [
       "HBox(children=(IntProgress(value=0, max=32201), HTML(value='')))"
      ]
     },
     "metadata": {},
     "output_type": "display_data"
    },
    {
     "name": "stdout",
     "output_type": "stream",
     "text": [
      "\n"
     ]
    }
   ],
   "source": [
    "P={}\n",
    "for pos1, row in tqdm(N.items()):\n",
    "    s=sum(row.values())\n",
    "    P[pos1]={}\n",
    "    for pos2, count in row.items():\n",
    "        P[pos1][pos2]=count/s"
   ]
  },
  {
   "cell_type": "code",
   "execution_count": 11,
   "metadata": {},
   "outputs": [
    {
     "data": {
      "application/vnd.jupyter.widget-view+json": {
       "model_id": "b54288e849bc4a5386c0e552b7494fd9",
       "version_major": 2,
       "version_minor": 0
      },
      "text/plain": [
       "HBox(children=(IntProgress(value=0, max=32201), HTML(value='')))"
      ]
     },
     "metadata": {},
     "output_type": "display_data"
    },
    {
     "name": "stdout",
     "output_type": "stream",
     "text": [
      "\n"
     ]
    }
   ],
   "source": [
    "alpha=0.8\n",
    "A={}\n",
    "for pos1, row in tqdm(P.items()):\n",
    "    A[pos1]={}\n",
    "    for pos2, p in row.items():\n",
    "        A[pos1][pos2]=(alpha**(T[pos1][pos2]/N[pos1][pos2]))*p"
   ]
  },
  {
   "cell_type": "code",
   "execution_count": 12,
   "metadata": {},
   "outputs": [
    {
     "name": "stdout",
     "output_type": "stream",
     "text": [
      "(37082, 37082)\n"
     ]
    }
   ],
   "source": [
    "import numpy as np\n",
    "mat_A=np.zeros((len(pos), len(pos)),dtype=np.float32)\n",
    "for pos1, row in A.items():\n",
    "    for pos2, a in row.items():\n",
    "        mat_A[pos1, pos2]=a\n",
    "print(mat_A.shape)"
   ]
  },
  {
   "cell_type": "code",
   "execution_count": 13,
   "metadata": {},
   "outputs": [
    {
     "name": "stdout",
     "output_type": "stream",
     "text": [
      "19\n"
     ]
    }
   ],
   "source": [
    "pinji_iv={1: 16000, 1.5: 14500, 2: 13000, 2.5: 9500, 3: 6000, 3.5: 4850, \n",
    " 4: 3700, 4.5: 3050, 5: 2400, 5.5: 1825, 6: 1250, 6.5: 1225, 7:1200, 7.5:1000, 8: 100, 8.5: 90, 9: 80, 9.5:70, 10: 60}\n",
    "print(len(pinji_iv))"
   ]
  },
  {
   "cell_type": "markdown",
   "metadata": {},
   "source": [
    "assign intrinsic values according to: http://xh.5156edu.com/page/z8603m8110j19936.html"
   ]
  },
  {
   "cell_type": "code",
   "execution_count": 14,
   "metadata": {},
   "outputs": [
    {
     "data": {
      "application/vnd.jupyter.widget-view+json": {
       "model_id": "75fe98e5c3ad4a869e7bd61d8a76baa2",
       "version_major": 2,
       "version_minor": 0
      },
      "text/plain": [
       "HBox(children=(IntProgress(value=1, bar_style='info', max=1), HTML(value='')))"
      ]
     },
     "metadata": {},
     "output_type": "display_data"
    },
    {
     "name": "stdout",
     "output_type": "stream",
     "text": [
      "\n",
      "[  60.   60.  100. 1200.   60.   60.   70. 1250. 1825. 1200.]\n"
     ]
    }
   ],
   "source": [
    "c=np.zeros(len(pos))\n",
    "for idx, row in tqdm(ppry[['jigou_1', 'guanzhi', 'pinji_detailed_numeric']].iterrows()):\n",
    "    c[index_table[row[0]+' '+row[1]]]=pinji_iv[row['pinji_detailed_numeric']] # c is going to be the intrinsic value vector\n",
    "print(c[:10])"
   ]
  },
  {
   "cell_type": "markdown",
   "metadata": {},
   "source": [
    "一品 180两 180斛 16000两（总督） 290万\n",
    "二品 155两 155斛 13000两（巡抚） 236万\n",
    "三品 130两 130斛 6000两（按察史） 112万\n",
    "四品 105两 105斛 3700两（道员） 70万\n",
    "五品 80两 80斛 2400两（从四品知府） 46万\n",
    "六品 60两 60斛 1250两（从五品知州） 25万\n",
    "七品 45两 45斛 1200两（知县） 23万\n",
    "八品 40两 40斛 2万1千\n",
    "九品 33两1.14钱 33斛1.14斗 1万8千\n",
    "未入流 31两5钱 31斛5斗 1万1千"
   ]
  },
  {
   "cell_type": "code",
   "execution_count": 70,
   "metadata": {},
   "outputs": [],
   "source": [
    "import pickle\n",
    "\n",
    "# write a file\n",
    "f = open(\"../data/pickles/all_important_inter.pickle\", \"wb\") # index_table, A, T, N, P, c, pos\n",
    "# for obj in [index_table, A, T, N, P, mat_A, c, pos]:\n",
    "pickle.dump(index_table, f, protocol=4)\n",
    "pickle.dump(A, f, protocol=4)\n",
    "pickle.dump(T, f, protocol=4)\n",
    "pickle.dump(N, f, protocol=4)\n",
    "pickle.dump(P, f, protocol=4)\n",
    "# pickle.dump(mat_A, f, protocol=4)\n",
    "pickle.dump(c, f, protocol=4)\n",
    "pickle.dump(pos, f, protocol=4)\n",
    "\n",
    "f.close()"
   ]
  },
  {
   "cell_type": "code",
   "execution_count": 1,
   "metadata": {},
   "outputs": [
    {
     "ename": "EOFError",
     "evalue": "Ran out of input",
     "output_type": "error",
     "traceback": [
      "\u001b[1;31m---------------------------------------------------------------------------\u001b[0m",
      "\u001b[1;31mEOFError\u001b[0m                                  Traceback (most recent call last)",
      "\u001b[1;32m<ipython-input-1-965ffd2d9a44>\u001b[0m in \u001b[0;36m<module>\u001b[1;34m()\u001b[0m\n\u001b[0;32m      2\u001b[0m \u001b[1;31m# for loading the objects\u001b[0m\u001b[1;33m\u001b[0m\u001b[1;33m\u001b[0m\u001b[0m\n\u001b[0;32m      3\u001b[0m \u001b[0mf\u001b[0m \u001b[1;33m=\u001b[0m \u001b[0mopen\u001b[0m\u001b[1;33m(\u001b[0m\u001b[1;34m\"../data/pickles/all_important_inter.pickle\"\u001b[0m\u001b[1;33m,\u001b[0m \u001b[1;34m\"rb\"\u001b[0m\u001b[1;33m)\u001b[0m\u001b[1;33m\u001b[0m\u001b[0m\n\u001b[1;32m----> 4\u001b[1;33m \u001b[0mindex_table\u001b[0m \u001b[1;33m=\u001b[0m \u001b[0mpickle\u001b[0m\u001b[1;33m.\u001b[0m\u001b[0mload\u001b[0m\u001b[1;33m(\u001b[0m\u001b[0mf\u001b[0m\u001b[1;33m)\u001b[0m\u001b[1;33m\u001b[0m\u001b[0m\n\u001b[0m\u001b[0;32m      5\u001b[0m \u001b[0mA\u001b[0m \u001b[1;33m=\u001b[0m \u001b[0mpickle\u001b[0m\u001b[1;33m.\u001b[0m\u001b[0mload\u001b[0m\u001b[1;33m(\u001b[0m\u001b[0mf\u001b[0m\u001b[1;33m)\u001b[0m\u001b[1;33m\u001b[0m\u001b[0m\n\u001b[0;32m      6\u001b[0m \u001b[0mT\u001b[0m \u001b[1;33m=\u001b[0m \u001b[0mpickle\u001b[0m\u001b[1;33m.\u001b[0m\u001b[0mload\u001b[0m\u001b[1;33m(\u001b[0m\u001b[0mf\u001b[0m\u001b[1;33m)\u001b[0m\u001b[1;33m\u001b[0m\u001b[0m\n",
      "\u001b[1;31mEOFError\u001b[0m: Ran out of input"
     ]
    }
   ],
   "source": [
    "import pickle\n",
    "# for loading the objects\n",
    "f = open(\"../data/pickles/all_important_inter.pickle\", \"rb\")\n",
    "index_table = pickle.load(f)\n",
    "A = pickle.load(f)\n",
    "T = pickle.load(f)\n",
    "N = pickle.load(f)\n",
    "P = pickle.load(f)\n",
    "# mat_A = pickle.load(f, protocol=4)\n",
    "c = pickle.load(f)\n",
    "pos = pickle.load(f)\n",
    "    \n",
    "f.close()"
   ]
  },
  {
   "cell_type": "markdown",
   "metadata": {},
   "source": [
    "# Final calculation of value"
   ]
  },
  {
   "cell_type": "code",
   "execution_count": 6,
   "metadata": {},
   "outputs": [],
   "source": [
    "for i in range(len(pos)):\n",
    "    mat_A[i, i]= 1-mat_A[i,i]"
   ]
  },
  {
   "cell_type": "code",
   "execution_count": 18,
   "metadata": {},
   "outputs": [
    {
     "ename": "MemoryError",
     "evalue": "",
     "output_type": "error",
     "traceback": [
      "\u001b[1;31m---------------------------------------------------------------------------\u001b[0m",
      "\u001b[1;31mMemoryError\u001b[0m                               Traceback (most recent call last)",
      "\u001b[1;32m<ipython-input-18-0dee2a667d3a>\u001b[0m in \u001b[0;36m<module>\u001b[1;34m()\u001b[0m\n\u001b[1;32m----> 1\u001b[1;33m \u001b[0mx\u001b[0m\u001b[1;33m=\u001b[0m\u001b[0mnp\u001b[0m\u001b[1;33m.\u001b[0m\u001b[0mlinalg\u001b[0m\u001b[1;33m.\u001b[0m\u001b[0msolve\u001b[0m\u001b[1;33m(\u001b[0m\u001b[0mmat_A\u001b[0m\u001b[1;33m,\u001b[0m \u001b[0mc\u001b[0m\u001b[1;33m)\u001b[0m\u001b[1;33m\u001b[0m\u001b[0m\n\u001b[0m",
      "\u001b[1;32mD:\\Anaconda3\\lib\\site-packages\\numpy\\linalg\\linalg.py\u001b[0m in \u001b[0;36msolve\u001b[1;34m(a, b)\u001b[0m\n\u001b[0;32m    388\u001b[0m     \u001b[0msignature\u001b[0m \u001b[1;33m=\u001b[0m \u001b[1;34m'DD->D'\u001b[0m \u001b[1;32mif\u001b[0m \u001b[0misComplexType\u001b[0m\u001b[1;33m(\u001b[0m\u001b[0mt\u001b[0m\u001b[1;33m)\u001b[0m \u001b[1;32melse\u001b[0m \u001b[1;34m'dd->d'\u001b[0m\u001b[1;33m\u001b[0m\u001b[0m\n\u001b[0;32m    389\u001b[0m     \u001b[0mextobj\u001b[0m \u001b[1;33m=\u001b[0m \u001b[0mget_linalg_error_extobj\u001b[0m\u001b[1;33m(\u001b[0m\u001b[0m_raise_linalgerror_singular\u001b[0m\u001b[1;33m)\u001b[0m\u001b[1;33m\u001b[0m\u001b[0m\n\u001b[1;32m--> 390\u001b[1;33m     \u001b[0mr\u001b[0m \u001b[1;33m=\u001b[0m \u001b[0mgufunc\u001b[0m\u001b[1;33m(\u001b[0m\u001b[0ma\u001b[0m\u001b[1;33m,\u001b[0m \u001b[0mb\u001b[0m\u001b[1;33m,\u001b[0m \u001b[0msignature\u001b[0m\u001b[1;33m=\u001b[0m\u001b[0msignature\u001b[0m\u001b[1;33m,\u001b[0m \u001b[0mextobj\u001b[0m\u001b[1;33m=\u001b[0m\u001b[0mextobj\u001b[0m\u001b[1;33m)\u001b[0m\u001b[1;33m\u001b[0m\u001b[0m\n\u001b[0m\u001b[0;32m    391\u001b[0m \u001b[1;33m\u001b[0m\u001b[0m\n\u001b[0;32m    392\u001b[0m     \u001b[1;32mreturn\u001b[0m \u001b[0mwrap\u001b[0m\u001b[1;33m(\u001b[0m\u001b[0mr\u001b[0m\u001b[1;33m.\u001b[0m\u001b[0mastype\u001b[0m\u001b[1;33m(\u001b[0m\u001b[0mresult_t\u001b[0m\u001b[1;33m,\u001b[0m \u001b[0mcopy\u001b[0m\u001b[1;33m=\u001b[0m\u001b[1;32mFalse\u001b[0m\u001b[1;33m)\u001b[0m\u001b[1;33m)\u001b[0m\u001b[1;33m\u001b[0m\u001b[0m\n",
      "\u001b[1;31mMemoryError\u001b[0m: "
     ]
    }
   ],
   "source": [
    "x=np.linalg.solve(mat_A, c) # unsolvable on PC, moved to server"
   ]
  },
  {
   "cell_type": "code",
   "execution_count": 16,
   "metadata": {},
   "outputs": [],
   "source": [
    "import pickle\n",
    "f = open(\"../data/pickles/x_alpha08.pickle\", \"rb\") \n",
    "x=pickle.load(f)\n",
    "f.close()"
   ]
  },
  {
   "cell_type": "code",
   "execution_count": 17,
   "metadata": {},
   "outputs": [
    {
     "data": {
      "text/plain": [
       "array([ 6.00000000e+01,  3.25116567e+01, -9.46088335e+01,  3.92866027e+03,\n",
       "        2.90733373e+02, -8.54844842e+02,  1.44604248e+02,  2.85324615e+03,\n",
       "        6.71476360e+03,  3.25044436e+03,  7.63468250e+02,  1.70592707e+03,\n",
       "        2.96808628e+03,  4.44306854e+03,  9.19288000e+03,  1.17703939e+03,\n",
       "        7.83821546e+02,  3.99537112e+03, -3.70088950e+02, -3.10620074e+02,\n",
       "        3.34563560e+03,  3.73930311e+03,  3.81015725e+03,  4.32760219e+03,\n",
       "        2.46273924e+02,  4.00074340e+03, -3.40940392e+02,  4.28700735e+03,\n",
       "        1.05423540e+04,  3.86177734e+03,  3.39618795e+03,  9.79436545e+03,\n",
       "        4.22435606e+03,  1.16457501e+03,  3.89961122e+03,  7.08962545e+03,\n",
       "        6.75926744e+01,  3.63110496e+03,  7.44485889e+02,  4.25152549e+03,\n",
       "        3.38051307e+03,  4.21033854e+03,  3.41524988e+02,  3.08833217e-01,\n",
       "        4.24781408e+03,  2.71117859e+02,  4.08273393e+03,  1.30000000e+05,\n",
       "       -1.48664876e+03,  4.02088926e+03])"
      ]
     },
     "execution_count": 17,
     "metadata": {},
     "output_type": "execute_result"
    }
   ],
   "source": [
    "x[:50]"
   ]
  },
  {
   "cell_type": "code",
   "execution_count": 18,
   "metadata": {},
   "outputs": [
    {
     "data": {
      "text/plain": [
       "array([   60.,    60.,   100.,  1200.,    60.,    60.,    70.,  1250.,\n",
       "        1825.,  1200.,  1200.,  1200.,  1200.,  1200.,  2400.,  1200.,\n",
       "        1000.,  1200.,  2400.,    60.,  1200.,  1200.,  1200.,  1200.,\n",
       "          60.,  1200.,   100.,  1200.,  2400.,  1200.,  1200.,  2400.,\n",
       "        1200.,  1250.,  1200.,  2400.,    70.,  1200.,  1225.,  1200.,\n",
       "        1250.,  1200.,   100.,   100.,  1200.,  1250.,  1250., 13000.,\n",
       "        1825.,  1250.])"
      ]
     },
     "execution_count": 18,
     "metadata": {},
     "output_type": "execute_result"
    }
   ],
   "source": [
    "c[:50]"
   ]
  },
  {
   "cell_type": "code",
   "execution_count": 19,
   "metadata": {},
   "outputs": [
    {
     "name": "stdout",
     "output_type": "stream",
     "text": [
      "True\n"
     ]
    }
   ],
   "source": [
    "print(len(pos)==len(c))\n",
    "potential=x-c"
   ]
  },
  {
   "cell_type": "code",
   "execution_count": 20,
   "metadata": {},
   "outputs": [],
   "source": [
    "counts=[]\n",
    "vc=ppry[['jigou_1', 'guanzhi']].apply(combine, axis=1).value_counts()"
   ]
  },
  {
   "cell_type": "code",
   "execution_count": 37,
   "metadata": {},
   "outputs": [],
   "source": [
    "iv_pinji={}\n",
    "for key, value in pinji_iv.items():\n",
    "    iv_pinji[value]=key\n",
    "for i in pos:\n",
    "    counts.append(vc[i])\n",
    "result=[(x,y,z,iv_pinji[c[index_table[x]]])for x,y,z in list(zip(pos, potential, counts))]\n",
    "result=pd.DataFrame(result, columns=['position', 'potential', 'occurrence', 'pinji'])\n",
    "f=open('../data/pickles/result.pickle', 'wb')\n",
    "pickle.dump(result, f)\n",
    "f.close()"
   ]
  },
  {
   "cell_type": "code",
   "execution_count": 56,
   "metadata": {
    "scrolled": false
   },
   "outputs": [],
   "source": [
    "for pj in np.arange(3,10.5,0.5):\n",
    "    query_result=result[(result['occurrence']>10) & (result['pinji']==pj) ].sort_values(by='potential', ascending = False)\n",
    "    query_result.to_csv('../data/result_csv/pinji_{}.csv'.format(pj), encoding=\"utf_8_sig\", index=False)"
   ]
  },
  {
   "cell_type": "code",
   "execution_count": 119,
   "metadata": {},
   "outputs": [
    {
     "name": "stdout",
     "output_type": "stream",
     "text": [
      "('position', 'potential score', 'number of people')\n",
      "('戶部衙門 通州中倉監督刑部員外郎', 254899.2825510917, 18)\n",
      "('軍機處 刑部即補員外郎', 199513.55876918195, 21)\n",
      "('戶部衙門 刑部員外郎', 187740.77861144932, 53)\n",
      "('總理各國事務衙門 刑部員外郎', 176025.59365262344, 32)\n",
      "('會典館 刑部候補員外郎', 161530.97536385152, 16)\n",
      "('戶部衙門 刑部員外', 157928.6125748708, 15)\n",
      "('刑部衙門 ?', 157163.4616044701, 21)\n",
      "('會典館 刑部員外郎', 148602.84808686937, 53)\n",
      "('軍機處 刑部員外郎', 143695.7218413521, 42)\n",
      "('總理各國事務衙門 刑部候補員外郎', 114975.0000000001, 17)\n",
      "('邢部衙門 員外郎', 82082.37810593242, 17)\n",
      "('刑部 主事', 70716.42255668348, 28)\n",
      "('刑部 額外主事', 38005.75170762783, 13)\n",
      "('軍機處 刑部主事', 32650.945215798754, 22)\n",
      "('順天府 南路捕盜駐黃村兼河間府同知分轄霸保文大固永東大等八州縣', 18863.83801586864, 12)\n",
      "('濟南府 清軍同知', 16585.41705636667, 23)\n",
      "('邢部衙門 主事', 14515.917205522584, 32)\n",
      "('欽天監衙門 欽天監監副', 13220.361379332802, 17)\n",
      "('順天府 尚書銜提督直隸通省等處地方軍務節製各鎮駐劄古北口', 13068.569312952633, 14)\n",
      "('戶部衙門 刑部主事', 12725.728757306395, 29)\n",
      "('鬆江府 太子少保提督江南全省等處地方軍務節製各鎮', 12679.84690685344, 11)\n",
      "('刑部衙門 主事', 12634.625888696663, 19359)\n",
      "('順天府 太子少保提督直隸通省等處地方軍務節製各鎮駐劄古北口', 12498.712601060815, 12)\n",
      "('鄖陽府 鎮守湖北鄖陽等處地方總兵官', 12326.14460900372, 135)\n",
      "('疏勒府 提督烏魯木齊甘肅安西等處地方軍務節製各鎮駐劄喀什噶爾', 12221.944896185585, 24)\n",
      "('鎮江府 鎮守長江水師江南瓜州鎮總兵官', 12120.119654993174, 60)\n",
      "('昭通府 鎮守雲南貴州昭通雄威等處地方總兵官', 12101.574231612296, 95)\n",
      "('惠州府 提督廣東統轄全省陸路等處地方軍務節製各鎮', 11793.238407233075, 89)\n",
      "('新設長江水師 鎮守湖北漢陽等處地方水師總兵官', 11618.283084769395, 13)\n",
      "('太平府 提督銜鎮守澣南等處地方掛印總兵官', 11503.589977274187, 12)\n",
      "('惠州府 提督廣東陸路全省等處地方軍務節製各鎮', 11401.03938731824, 14)\n",
      "('興安府 鎮守陝西陝安鎮等處地方掛印總兵官駐興安府', 11368.138606144461, 11)\n",
      "('涼州府 鎮守甘肅涼州等處地方掛印總兵官駐劄涼州府', 11326.698681956503, 124)\n",
      "('甯夏府 鎮守甘肅甯夏等處地方總兵官', 11293.993146207347, 77)\n",
      "('建甯府 鎮守福建建甯等處地方總兵官', 11207.572155309455, 101)\n",
      "('鎮江府 提督江南長江水師軍務節製各鎮', 11138.28054482627, 54)\n",
      "('鳯凰直隸廳 鎮守湖南綏靖等處地方總兵官', 11111.28171834677, 128)\n",
      "('寧夏府 鎮守甘肅寧夏等處地方總兵官', 11007.477962158446, 13)\n",
      "('甯波府 提督浙江全省水陸軍務節製各鎮駐劄甯波府', 10986.656381576773, 59)\n",
      "('大理府 提督雲南全省等處地方軍務節製各鎮', 10891.652537091508, 70)\n",
      "('甯逺府 鎮守四川建昌等處地方題調漢士官兵軍衛土司總兵官', 10890.96358975561, 16)\n",
      "('瓊州府 鎮守廣東瓊崖水師等處地方總兵官', 10862.003539048423, 22)\n",
      "('泉州府 提督福建全省陸路等處地方軍務節製各鎮駐劄泉州府', 10817.438091262939, 79)\n",
      "('南甯府 鎮守廣西左江南潯鬱上等處地方統轄漢土官兵總兵官', 10802.47506910464, 71)\n",
      "('正定府 鎮守直隸正定等處地方總兵官', 10788.922310994454, 114)\n",
      "('兵部衙門 太子少保兵部尚書', 10784.436688780668, 15)\n",
      "('汀州府 鎮守福建汀延邵等處地方總兵官', 10766.438176972788, 124)\n",
      "('潮州府 鎮守廣東潮州等處地方總兵官', 10749.804742627337, 129)\n",
      "('天津府 鎮守直隸天津統轄永薊通河涿州營路等處總兵官', 10721.4108392534, 116)\n",
      "('農工商部衙門 右侍郎', 10538.852555668738, 18)\n",
      "('度支部衙門 右侍郎', 10529.844418418324, 16)\n",
      "('總漕部院衙門 遇缺儘先題奏提督軍門鎮守江南漕標中軍副將', 10521.219587953077, 12)\n",
      "('宣化府 鎮守宣化府統轄十二城堡等處地方掛印總兵官', 10460.322676331762, 85)\n",
      "('蘇州府 鎮守蘇州福山等處地方沿海水師總兵官', 10253.7472952479, 100)\n",
      "('泉州府 尚書銜提督福建全省水師軍務轄澎臺水師節製各鎮駐劄廈門', 10207.33919386976, 18)\n",
      "('常德府 提督湖南全省等處地方軍務統轄漢土官兵宣衛土司控製苗夷節製各鎮', 10097.618358870091, 40)\n",
      "('漢陽府 鎮守長江水師湖北漢陽鎮總兵官', 10019.275300593134, 95)\n",
      "('惠州府 鎮守廣東碣石衛等處地方總兵官', 9982.240928750729, 151)\n",
      "('九江府 鎮守長江水師江西湖口鎮總兵官', 9969.11852974075, 62)\n",
      "('大定府 鎮守貴州威甯等處地方總兵官', 9919.318584332985, 116)\n",
      "('安順府 提督貴州全省等處地方軍務節製各鎮管轄漢土官兵控製全省控製苗彞安順府', 9904.014012427331, 11)\n",
      "('鳯陽府 鎮守江南江北夀春等處地方總兵官', 9898.37829252033, 114)\n",
      "('新設長江水師 遇缺儘先提奏提督鎮守江南瓜州等處地方水師總兵官', 9896.30506616503, 13)\n",
      "('郵傳部衙門 左侍郎', 9789.372880188814, 15)\n",
      "('甯波府 提督銜鎮守浙江定海丹山等處地方總兵官', 9638.041937311853, 13)\n",
      "('大理府 提督雲南全省等處地方軍務總兵官', 9635.013829207906, 13)\n",
      "('宜昌府 記名提督鎮守湖北彞陵宜昌等處地方管轄衛所土司總兵官', 9591.732600518182, 13)\n",
      "('韶州府 記名提督賞穿黃馬褂鎮守廣東右翼廣韶南等處地方總兵官', 9591.732600518182, 13)\n",
      "('黎平府 鎮守貴州古州等處地方總兵官', 9590.447287519703, 111)\n",
      "('泉州府 鎮守福建金門等處地方總兵官', 9529.486205786878, 47)\n",
      "('工部衙門 經筵講官左侍郎軍機大臣', 9510.572493249256, 12)\n",
      "('新設長江水師 欽加提督銜鎮守江西湖口等處地方水師總兵官', 9480.794216364728, 13)\n",
      "('法部衙門 右侍郎修訂法律大臣', 9468.740735024043, 13)\n",
      "('曹州府 鎮守山東曹州等處地方總兵官', 9461.89192424246, 76)\n",
      "('欽天監衙門 欽天監左監副', 9343.201547403367, 172)\n",
      "('開化府 鎮守雲南開化廣西廣南等處地方總兵官', 9217.204927594797, 97)\n",
      "('兗州府 鎮守山東兗州等處地方總兵官', 9184.191621439404, 91)\n",
      "('臨安府 鎮守雲南臨元澂江等處地方總兵官', 9168.677362771643, 130)\n",
      "('肅州直隸州 鎮守甘肅肅州等處地方掛印總兵官', 9167.43564719522, 94)\n",
      "('高州府 鎮守廣東高雷陽等處地方水陸官兵控製土司守禦總兵官', 9147.448275340063, 22)\n",
      "('焉耆府 鎮守阿剋蘇等處地方換防總兵官', 9126.76293655012, 39)\n",
      "('惠州府 提督廣東統轄全省水陸軍務節製各鎮總兵官', 9120.936944537512, 16)\n",
      "('宜昌府 鎮守湖北彜陵宜昌等處地方管轄營衛土司總兵官', 9112.153012574596, 46)\n",
      "('高州府 鎮守廣東高廉羅三府州處地方水陸官兵控製土司守禦總兵官', 9097.50626452778, 12)\n",
      "('衢州府 鎮守浙江衢州等處地方總兵官', 9082.372380374985, 75)\n",
      "('通州直隸州 鎮守江北狼山統轄廬鳯淮揚滁和等處地方總兵官', 9066.69659615387, 86)\n",
      "('重慶府 鎮守四川重慶等處地方題調漢土官兵總兵官', 9059.16391092238, 13)\n",
      "('刑部衙門 右侍郎江蘇學政', 9055.045208823576, 11)\n",
      "('學部衙門 左侍郎', 9042.356860469088, 17)\n",
      "('安順府 鎮守安義統轄長安普永等處地方總兵官', 9009.149733218983, 103)\n",
      "('溫州府 鎮守浙江溫州等處地方總兵官', 8988.667026719104, 141)\n",
      "('永州府 鎮守湖南永州統轄衡寶二協臨武宜章桂陽武岡等處地方控製瑤彜總兵官', 8982.284532971255, 41)\n",
      "('蘭州府 鎮守甘肅河州等處地方掛印總兵官', 8924.43808489768, 107)\n",
      "('宜昌府 鎮守湖北彞陵宜昌等處地方管轄營衛土司總兵官', 8822.567600823419, 33)\n",
      "('肇慶府 鎮守廣東陽江鎮等處地方水師總兵官駐陽江縣', 8812.604138475235, 29)\n",
      "('衢州府 鎮守浙江衢嚴楓嶺等處地方總兵官', 8811.658820018503, 13)\n",
      "('西甯府 鎮守甘肅西甯臨鞏等處地方統轄漢土番回掛印總兵官', 8787.585484368738, 78)\n",
      "('福州府 鎮守福建海壇等處地方總兵官', 8736.8939594408, 78)\n",
      "('甯波府 提督浙江全省水陸軍務節製各鎮駐劄寧波府', 8709.992788993957, 18)\n",
      "('重慶府 鎮守四川重慶等處地方提調漢土官兵總兵官', 8690.521849424957, 94)\n",
      "('鎮逺府 鎮守貴州鎮逺等處地方總兵官', 8625.135923116508, 111)\n"
     ]
    }
   ],
   "source": [
    "print(('position', 'potential score', 'number of people'))\n",
    "count=0\n",
    "for r in sorted_result:\n",
    "    if r[2]>10:\n",
    "        print(r)\n",
    "        count+=1\n",
    "    if count>100:\n",
    "        break"
   ]
  },
  {
   "cell_type": "code",
   "execution_count": null,
   "metadata": {},
   "outputs": [],
   "source": [
    "总兵官，知府/同知/知州，副都御史"
   ]
  },
  {
   "cell_type": "code",
   "execution_count": 22,
   "metadata": {
    "scrolled": true
   },
   "outputs": [
    {
     "data": {
      "application/vnd.jupyter.widget-view+json": {
       "model_id": "7b1e2dc2164544debb88aaa25d66e423",
       "version_major": 2,
       "version_minor": 0
      },
      "text/plain": [
       "HBox(children=(IntProgress(value=0, max=213520), HTML(value='')))"
      ]
     },
     "metadata": {},
     "output_type": "display_data"
    },
    {
     "ename": "KeyboardInterrupt",
     "evalue": "",
     "output_type": "error",
     "traceback": [
      "\u001b[1;31m---------------------------------------------------------------------------\u001b[0m",
      "\u001b[1;31mTypeError\u001b[0m                                 Traceback (most recent call last)",
      "\u001b[1;32mD:\\Anaconda3\\lib\\site-packages\\pandas\\core\\nanops.py\u001b[0m in \u001b[0;36mf\u001b[1;34m(values, axis, skipna, **kwds)\u001b[0m\n\u001b[0;32m    120\u001b[0m                         _bn_ok_dtype(values.dtype, bn_name)):\n\u001b[1;32m--> 121\u001b[1;33m                     \u001b[0mresult\u001b[0m \u001b[1;33m=\u001b[0m \u001b[0mbn_func\u001b[0m\u001b[1;33m(\u001b[0m\u001b[0mvalues\u001b[0m\u001b[1;33m,\u001b[0m \u001b[0maxis\u001b[0m\u001b[1;33m=\u001b[0m\u001b[0maxis\u001b[0m\u001b[1;33m,\u001b[0m \u001b[1;33m**\u001b[0m\u001b[0mkwds\u001b[0m\u001b[1;33m)\u001b[0m\u001b[1;33m\u001b[0m\u001b[0m\n\u001b[0m\u001b[0;32m    122\u001b[0m \u001b[1;33m\u001b[0m\u001b[0m\n",
      "\u001b[1;31mTypeError\u001b[0m: 'NoneType' object is not callable",
      "\nDuring handling of the above exception, another exception occurred:\n",
      "\u001b[1;31mKeyboardInterrupt\u001b[0m                         Traceback (most recent call last)",
      "\u001b[1;32m<ipython-input-22-fd646231a25e>\u001b[0m in \u001b[0;36m<module>\u001b[1;34m()\u001b[0m\n\u001b[0;32m      3\u001b[0m \u001b[1;32mfor\u001b[0m \u001b[0mid_\u001b[0m\u001b[1;33m,\u001b[0m \u001b[0msubtable\u001b[0m \u001b[1;32min\u001b[0m \u001b[0mtqdm\u001b[0m\u001b[1;33m(\u001b[0m\u001b[0mppry\u001b[0m\u001b[1;33m.\u001b[0m\u001b[0mgroupby\u001b[0m\u001b[1;33m(\u001b[0m\u001b[1;34m'unique_id'\u001b[0m\u001b[1;33m)\u001b[0m\u001b[1;33m)\u001b[0m\u001b[1;33m:\u001b[0m\u001b[1;33m\u001b[0m\u001b[0m\n\u001b[0;32m      4\u001b[0m     \u001b[0mcount\u001b[0m\u001b[1;33m+=\u001b[0m\u001b[1;36m1\u001b[0m\u001b[1;33m\u001b[0m\u001b[0m\n\u001b[1;32m----> 5\u001b[1;33m     \u001b[0myear\u001b[0m\u001b[1;33m+=\u001b[0m\u001b[1;33m(\u001b[0m\u001b[0msubtable\u001b[0m\u001b[1;33m[\u001b[0m\u001b[1;34m'year'\u001b[0m\u001b[1;33m]\u001b[0m\u001b[1;33m.\u001b[0m\u001b[0mmax\u001b[0m\u001b[1;33m(\u001b[0m\u001b[1;33m)\u001b[0m\u001b[1;33m-\u001b[0m\u001b[0msubtable\u001b[0m\u001b[1;33m[\u001b[0m\u001b[1;34m'year'\u001b[0m\u001b[1;33m]\u001b[0m\u001b[1;33m.\u001b[0m\u001b[0mmin\u001b[0m\u001b[1;33m(\u001b[0m\u001b[1;33m)\u001b[0m\u001b[1;33m)\u001b[0m\u001b[1;33m\u001b[0m\u001b[0m\n\u001b[0m",
      "\u001b[1;32mD:\\Anaconda3\\lib\\site-packages\\pandas\\core\\generic.py\u001b[0m in \u001b[0;36mstat_func\u001b[1;34m(self, axis, skipna, level, numeric_only, **kwargs)\u001b[0m\n\u001b[0;32m   9587\u001b[0m                                       skipna=skipna)\n\u001b[0;32m   9588\u001b[0m         return self._reduce(f, name, axis=axis, skipna=skipna,\n\u001b[1;32m-> 9589\u001b[1;33m                             numeric_only=numeric_only)\n\u001b[0m\u001b[0;32m   9590\u001b[0m \u001b[1;33m\u001b[0m\u001b[0m\n\u001b[0;32m   9591\u001b[0m     \u001b[1;32mreturn\u001b[0m \u001b[0mset_function_name\u001b[0m\u001b[1;33m(\u001b[0m\u001b[0mstat_func\u001b[0m\u001b[1;33m,\u001b[0m \u001b[0mname\u001b[0m\u001b[1;33m,\u001b[0m \u001b[0mcls\u001b[0m\u001b[1;33m)\u001b[0m\u001b[1;33m\u001b[0m\u001b[0m\n",
      "\u001b[1;32mD:\\Anaconda3\\lib\\site-packages\\pandas\\core\\series.py\u001b[0m in \u001b[0;36m_reduce\u001b[1;34m(self, op, name, axis, skipna, numeric_only, filter_type, **kwds)\u001b[0m\n\u001b[0;32m   3216\u001b[0m                                           'numeric_only.'.format(name))\n\u001b[0;32m   3217\u001b[0m             \u001b[1;32mwith\u001b[0m \u001b[0mnp\u001b[0m\u001b[1;33m.\u001b[0m\u001b[0merrstate\u001b[0m\u001b[1;33m(\u001b[0m\u001b[0mall\u001b[0m\u001b[1;33m=\u001b[0m\u001b[1;34m'ignore'\u001b[0m\u001b[1;33m)\u001b[0m\u001b[1;33m:\u001b[0m\u001b[1;33m\u001b[0m\u001b[0m\n\u001b[1;32m-> 3218\u001b[1;33m                 \u001b[1;32mreturn\u001b[0m \u001b[0mop\u001b[0m\u001b[1;33m(\u001b[0m\u001b[0mdelegate\u001b[0m\u001b[1;33m,\u001b[0m \u001b[0mskipna\u001b[0m\u001b[1;33m=\u001b[0m\u001b[0mskipna\u001b[0m\u001b[1;33m,\u001b[0m \u001b[1;33m**\u001b[0m\u001b[0mkwds\u001b[0m\u001b[1;33m)\u001b[0m\u001b[1;33m\u001b[0m\u001b[0m\n\u001b[0m\u001b[0;32m   3219\u001b[0m \u001b[1;33m\u001b[0m\u001b[0m\n\u001b[0;32m   3220\u001b[0m         return delegate._reduce(op=op, name=name, axis=axis, skipna=skipna,\n",
      "\u001b[1;32mD:\\Anaconda3\\lib\\site-packages\\pandas\\core\\nanops.py\u001b[0m in \u001b[0;36mf\u001b[1;34m(values, axis, skipna, **kwds)\u001b[0m\n\u001b[0;32m    129\u001b[0m             \u001b[1;32mexcept\u001b[0m \u001b[0mException\u001b[0m\u001b[1;33m:\u001b[0m\u001b[1;33m\u001b[0m\u001b[0m\n\u001b[0;32m    130\u001b[0m                 \u001b[1;32mtry\u001b[0m\u001b[1;33m:\u001b[0m\u001b[1;33m\u001b[0m\u001b[0m\n\u001b[1;32m--> 131\u001b[1;33m                     \u001b[0mresult\u001b[0m \u001b[1;33m=\u001b[0m \u001b[0malt\u001b[0m\u001b[1;33m(\u001b[0m\u001b[0mvalues\u001b[0m\u001b[1;33m,\u001b[0m \u001b[0maxis\u001b[0m\u001b[1;33m=\u001b[0m\u001b[0maxis\u001b[0m\u001b[1;33m,\u001b[0m \u001b[0mskipna\u001b[0m\u001b[1;33m=\u001b[0m\u001b[0mskipna\u001b[0m\u001b[1;33m,\u001b[0m \u001b[1;33m**\u001b[0m\u001b[0mkwds\u001b[0m\u001b[1;33m)\u001b[0m\u001b[1;33m\u001b[0m\u001b[0m\n\u001b[0m\u001b[0;32m    132\u001b[0m                 \u001b[1;32mexcept\u001b[0m \u001b[0mValueError\u001b[0m \u001b[1;32mas\u001b[0m \u001b[0me\u001b[0m\u001b[1;33m:\u001b[0m\u001b[1;33m\u001b[0m\u001b[0m\n\u001b[0;32m    133\u001b[0m                     \u001b[1;31m# we want to transform an object array\u001b[0m\u001b[1;33m\u001b[0m\u001b[1;33m\u001b[0m\u001b[0m\n",
      "\u001b[1;32mD:\\Anaconda3\\lib\\site-packages\\pandas\\core\\nanops.py\u001b[0m in \u001b[0;36mreduction\u001b[1;34m(values, axis, skipna)\u001b[0m\n\u001b[0;32m    495\u001b[0m     \u001b[1;32mdef\u001b[0m \u001b[0mreduction\u001b[0m\u001b[1;33m(\u001b[0m\u001b[0mvalues\u001b[0m\u001b[1;33m,\u001b[0m \u001b[0maxis\u001b[0m\u001b[1;33m=\u001b[0m\u001b[1;32mNone\u001b[0m\u001b[1;33m,\u001b[0m \u001b[0mskipna\u001b[0m\u001b[1;33m=\u001b[0m\u001b[1;32mTrue\u001b[0m\u001b[1;33m)\u001b[0m\u001b[1;33m:\u001b[0m\u001b[1;33m\u001b[0m\u001b[0m\n\u001b[0;32m    496\u001b[0m         values, mask, dtype, dtype_max = _get_values(\n\u001b[1;32m--> 497\u001b[1;33m             values, skipna, fill_value_typ=fill_value_typ, )\n\u001b[0m\u001b[0;32m    498\u001b[0m \u001b[1;33m\u001b[0m\u001b[0m\n\u001b[0;32m    499\u001b[0m         if ((axis is not None and values.shape[axis] == 0) or\n",
      "\u001b[1;32mD:\\Anaconda3\\lib\\site-packages\\pandas\\core\\nanops.py\u001b[0m in \u001b[0;36m_get_values\u001b[1;34m(values, skipna, fill_value, fill_value_typ, isfinite, copy)\u001b[0m\n\u001b[0;32m    224\u001b[0m             \u001b[0mvalues\u001b[0m \u001b[1;33m=\u001b[0m \u001b[0mvalues\u001b[0m\u001b[1;33m.\u001b[0m\u001b[0mcopy\u001b[0m\u001b[1;33m(\u001b[0m\u001b[1;33m)\u001b[0m\u001b[1;33m\u001b[0m\u001b[0m\n\u001b[0;32m    225\u001b[0m         \u001b[1;32mif\u001b[0m \u001b[0mdtype_ok\u001b[0m\u001b[1;33m:\u001b[0m\u001b[1;33m\u001b[0m\u001b[0m\n\u001b[1;32m--> 226\u001b[1;33m             \u001b[0mnp\u001b[0m\u001b[1;33m.\u001b[0m\u001b[0mputmask\u001b[0m\u001b[1;33m(\u001b[0m\u001b[0mvalues\u001b[0m\u001b[1;33m,\u001b[0m \u001b[0mmask\u001b[0m\u001b[1;33m,\u001b[0m \u001b[0mfill_value\u001b[0m\u001b[1;33m)\u001b[0m\u001b[1;33m\u001b[0m\u001b[0m\n\u001b[0m\u001b[0;32m    227\u001b[0m \u001b[1;33m\u001b[0m\u001b[0m\n\u001b[0;32m    228\u001b[0m         \u001b[1;31m# promote if needed\u001b[0m\u001b[1;33m\u001b[0m\u001b[1;33m\u001b[0m\u001b[0m\n",
      "\u001b[1;31mKeyboardInterrupt\u001b[0m: "
     ]
    }
   ],
   "source": [
    "count=0\n",
    "year=0\n",
    "for id_, subtable in tqdm(ppry.groupby('unique_id')):\n",
    "    count+=1\n",
    "    year+=(subtable['year'].max()-subtable['year'].min())"
   ]
  },
  {
   "cell_type": "code",
   "execution_count": 87,
   "metadata": {
    "scrolled": false
   },
   "outputs": [
    {
     "data": {
      "text/plain": [
       "32981.741538375696"
      ]
     },
     "execution_count": 87,
     "metadata": {},
     "output_type": "execute_result"
    }
   ],
   "source": [
    "np.array(potential).mean()"
   ]
  },
  {
   "cell_type": "markdown",
   "metadata": {},
   "source": [
    "# For Visualization"
   ]
  },
  {
   "cell_type": "markdown",
   "metadata": {},
   "source": [
    "## 1. For the whole network"
   ]
  },
  {
   "cell_type": "code",
   "execution_count": 13,
   "metadata": {},
   "outputs": [
    {
     "data": {
      "application/vnd.jupyter.widget-view+json": {
       "model_id": "4345d945b5414c3eabe465758887a748",
       "version_major": 2,
       "version_minor": 0
      },
      "text/plain": [
       "HBox(children=(IntProgress(value=0, max=105063), HTML(value='')))"
      ]
     },
     "metadata": {},
     "output_type": "display_data"
    },
    {
     "name": "stdout",
     "output_type": "stream",
     "text": [
      "\n"
     ]
    }
   ],
   "source": [
    "import networkx as nx\n",
    "def flatten_dict(d):\n",
    "    res=[]\n",
    "    for key, item in tqdm(d.items()):\n",
    "        res.append((*key, item))\n",
    "    return res\n",
    "g=nx.DiGraph()\n",
    "g.add_weighted_edges_from(flatten_dict(flow_count))"
   ]
  },
  {
   "cell_type": "code",
   "execution_count": 16,
   "metadata": {},
   "outputs": [
    {
     "data": {
      "text/plain": [
       "(34639, 105063)"
      ]
     },
     "execution_count": 16,
     "metadata": {},
     "output_type": "execute_result"
    }
   ],
   "source": [
    "(len(list(g.nodes)), len(list(g.edges)))"
   ]
  },
  {
   "cell_type": "code",
   "execution_count": 18,
   "metadata": {},
   "outputs": [],
   "source": [
    "nx.write_gexf(g, r'../data/gephi/pos_network.gexf')"
   ]
  },
  {
   "cell_type": "markdown",
   "metadata": {},
   "source": [
    "## 2. For subgraph"
   ]
  },
  {
   "cell_type": "code",
   "execution_count": 57,
   "metadata": {},
   "outputs": [],
   "source": [
    "def create_subgraph(start_pos, graph, pos, depth=5):\n",
    "    # do a BDS, start_pos IS AN INDEX! NOT A NAME!\n",
    "    subgraph=[] # used to store edges\n",
    "    this_layer=[] # store the nodes to be traced further\n",
    "    next_layer=[start_pos]\n",
    "    past={start_pos:1} # store every nodes seen before\n",
    "    for layer in range(depth):\n",
    "        this_layer=next_layer.copy()\n",
    "        next_layer=[]\n",
    "        if len(this_layer)==0:\n",
    "            break\n",
    "        for pos1 in this_layer:\n",
    "            row=graph.get(pos1)\n",
    "            if row:\n",
    "                for pos2, count in row.items():\n",
    "                    subgraph.append((pos[pos1], pos[pos2], count))\n",
    "                    if pos2 not in past:\n",
    "                        past[pos2]=1\n",
    "                        next_layer.append(pos2)\n",
    "                        \n",
    "                    \n",
    "                \n",
    "                \n",
    "                \n",
    "    return subgraph"
   ]
  },
  {
   "cell_type": "code",
   "execution_count": 69,
   "metadata": {
    "scrolled": true
   },
   "outputs": [
    {
     "name": "stdout",
     "output_type": "stream",
     "text": [
      "1\n",
      "[('江甯府 南捕通判', '江甯府 南捕通判', 125)]\n"
     ]
    }
   ],
   "source": [
    "import networkx as nx\n",
    "position_name='江甯府 南捕通判'\n",
    "r=create_subgraph(index_table[position_name], N, pos, depth=3)\n",
    "print(len(r))\n",
    "print(sorted(r))\n",
    "subg=nx.DiGraph()\n",
    "subg.add_weighted_edges_from(r)\n",
    "nx.write_gexf(subg, r'../data/gephi/subgraph_{}.gexf'.format(position_name))"
   ]
  },
  {
   "cell_type": "markdown",
   "metadata": {},
   "source": [
    "## Micro Measurement: in unit of shortest segment with length 1"
   ]
  },
  {
   "cell_type": "code",
   "execution_count": 15,
   "metadata": {},
   "outputs": [
    {
     "data": {
      "application/vnd.jupyter.widget-view+json": {
       "model_id": "b9ad0f5ef672428fa1e1b7b864fdb071",
       "version_major": 2,
       "version_minor": 0
      },
      "text/plain": [
       "HBox(children=(IntProgress(value=0, max=214224), HTML(value='')))"
      ]
     },
     "metadata": {},
     "output_type": "display_data"
    }
   ],
   "source": [
    "%%script false\n",
    "pos_score={} #{pos->[promotions, count]}\n",
    "duplicate_count=0\n",
    "for id_, subtable in tqdm(ppry.groupby('unique_id')):\n",
    "    \n",
    "    pre_year=None\n",
    "    pre_pinji=None\n",
    "    pre_pos=None\n",
    "    for index, row in subtable.sort_values('year').iterrows():\n",
    "#         print(row)\n",
    "        if not pre_year:\n",
    "            pre_year=row['year']\n",
    "            pre_pinji=row['pinji_detailed_numeric']\n",
    "            pre_pos=(row['jigou_1'], row['guanzhi'])\n",
    "        else:\n",
    "            promotion=-(row['pinji_detailed_numeric']-pre_pinji) # if get promoted, the numeric value of rank actually decreases\n",
    "            time=row['year']-pre_year\n",
    "            if time==0:\n",
    "                duplicate_count+=1\n",
    "                #update tracking variables\n",
    "                pre_year=row['year']\n",
    "                pre_pinji=row['pinji_detailed_numeric']\n",
    "                continue\n",
    "            \n",
    "            # update pos_score for pre_pose\n",
    "            if pre_pos in pos_score:\n",
    "                pos_score[pre_pos][0]+=(promotion/time)\n",
    "                pos_score[pre_pos][1]+=1\n",
    "            else:\n",
    "                pos_score[pre_pos]=[promotion/time, 1]\n",
    "                \n",
    "            #update tracking variables\n",
    "            pre_year=row['year']\n",
    "            pre_pinji=row['pinji_detailed_numeric']\n",
    "            pre_pos=(row['jigou_1'], row['guanzhi'])"
   ]
  },
  {
   "cell_type": "code",
   "execution_count": 16,
   "metadata": {},
   "outputs": [
    {
     "name": "stdout",
     "output_type": "stream",
     "text": [
      "16573\n"
     ]
    }
   ],
   "source": [
    "print(duplicate_count)"
   ]
  },
  {
   "cell_type": "code",
   "execution_count": 18,
   "metadata": {},
   "outputs": [
    {
     "name": "stdout",
     "output_type": "stream",
     "text": [
      "[(('農工商部衙門', '小京官'), [11.880597014925373, 201]),\n",
      " (('兗州府', '至聖廟官'), [8.083700299700299, 325]),\n",
      " (('翰林院衙門', '教習庶吉士'), [3.260049085985843, 233]),\n",
      " (('法部衙門', '候補小京官'), [3.0286975717439293, 453]),\n",
      " (('內閣', '漢票籖中書舍人'), [2.862087661810777, 358]),\n",
      " (('內閣衙門', '漢票籖中書舍人'), [2.861987437891697, 277]),\n",
      " (('天津府', '小直沽批驗所大使'), [2.2363636363636363, 110]),\n",
      " (('學部衙門', '小京官'), [2.085734168406402, 479]),\n",
      " ((nan, '撫標中軍絫將兼管左營事務'), [1.8944561732739074, 105]),\n",
      " (('撫州府', '縣丞移駐南城'), [1.5125242889948771, 111]),\n",
      " (('太醫院衙門', '太醫院左院判'), [1.445535141941392, 128]),\n",
      " (('欽天監衙門', '欽天監監正'), [1.3791348600508906, 131]),\n",
      " (('两淮鹽院衙門', '新興場鹽課大使'), [1.3597789115646257, 112]),\n",
      " (('布政司衙門', '廣西等處承宣布政使司布政使'), [1.3133851549909945, 137]),\n",
      " (('太醫院衙門', '太醫院右院判'), [1.136150234741784, 142]),\n",
      " (('两淮鹽院衙門', '廣盈庫大使'), [1.0077519379844961, 129]),\n",
      " (('布政司衙門', '湖北等處承宣布政使司布政使'), [0.9987301587301587, 122]),\n",
      " (('布政司衙門', '四川等處承宣布政使司布政使'), [0.988608776844071, 119]),\n",
      " (('布政司衙門', '浙江等處承宣布政使司布政使兼管海防事務'), [0.9739072837112053, 108]),\n",
      " (('總漕部院衙門', '督運守備'), [0.9302918871609598, 208]),\n",
      " (('按察司衙門', '漳浦南場大使'), [0.9282482223658693, 119]),\n",
      " (('順德府', '經厯'), [0.9050847457627118, 118]),\n",
      " (('两淮鹽院衙門', '五佑場鹽課大使'), [0.8958415841584159, 101]),\n",
      " (('潞安府', '經厯兼管永豊倉事'), [0.8926406926406927, 110]),\n",
      " (('布政司衙門', '陝西等處承宣布政使司布政使'), [0.8647418780596351, 107]),\n",
      " (('布政司衙門', '廣濟庫大使'), [0.8542183021896136, 488]),\n",
      " (('鹽務衙門', '廣盈庫大使'), [0.846813725490196, 136]),\n",
      " (('內閣衙門', '漠票韱中書舍人'), [0.8347768651573314, 128]),\n",
      " (('布政司衙門', '廣東等處承宣布政使司布政使'), [0.7918367346938775, 105]),\n",
      " (('內閣衙門', '漢標籤中書舍人'), [0.7805048335123523, 105])]\n"
     ]
    }
   ],
   "source": [
    "pos_score_micro=pos_score\n",
    "pos_normscore={}\n",
    "curoff_occurences=100\n",
    "for key, value in pos_score_micro.items():\n",
    "    if value[1]<curoff_occurences: # MUST do this filteration to remove noise: remove occurences < 5\n",
    "        continue\n",
    "    pos_normscore[key]=[value[0]/value[1], value[1]]\n",
    "pos_ranking_micro=sorted(list(pos_normscore.items()), key=lambda x: -x[1][0])\n",
    "from pprint import pprint\n",
    "pprint(pos_ranking_micro[:30])"
   ]
  },
  {
   "cell_type": "markdown",
   "metadata": {},
   "source": [
    "Note: a minor problem remains unsolved: duplicate record a specific person in a specific year"
   ]
  },
  {
   "cell_type": "markdown",
   "metadata": {},
   "source": [
    "## Local Measurement: in unit of a person"
   ]
  },
  {
   "cell_type": "code",
   "execution_count": 22,
   "metadata": {},
   "outputs": [
    {
     "data": {
      "application/vnd.jupyter.widget-view+json": {
       "model_id": "fb6d8afb31fa40ad8ce9969907bcc48b",
       "version_major": 2,
       "version_minor": 0
      },
      "text/plain": [
       "HBox(children=(IntProgress(value=0, max=214224), HTML(value='')))"
      ]
     },
     "metadata": {},
     "output_type": "display_data"
    }
   ],
   "source": [
    "import random\n",
    "\n",
    "pos_score={} #{pos->[promotions, count]}\n",
    "duplicate_count2=0\n",
    "for id_, subtable in tqdm(ppry.groupby('unique_id')):\n",
    "    # sample a subset to reduce size\n",
    "#     if random.uniform(0, 1)>0.1:\n",
    "#         continue\n",
    "        \n",
    "        \n",
    "    st=list(subtable.sort_values('year').T.to_dict().values())\n",
    "    length=len(st)\n",
    "    for idx, row1 in enumerate(st):\n",
    "        if idx>=length-1:\n",
    "            break\n",
    "            \n",
    "        #start calculating for a specific position in one person's career\n",
    "        pos=(row1['jigou_1'], row1['guanzhi'])\n",
    "        score=0\n",
    "        count=0\n",
    "        cur_pinji=row1['pinji_detailed_numeric']\n",
    "        cur_year=row1['year']\n",
    "        for row2 in st[idx+1:]:\n",
    "            promotion=-(row2['pinji_detailed_numeric']-cur_pinji) # if get promoted, the numeric value of rank actually decreases\n",
    "            time=row2['year']-cur_year\n",
    "            if time==0:\n",
    "                continue\n",
    "            score+=promotion/time\n",
    "            count+=1\n",
    "            \n",
    "        if count==0:\n",
    "            duplicate_count2+=1\n",
    "            continue\n",
    "        # update pos_score\n",
    "        if pos in pos_score:\n",
    "            pos_score[pos][0]+=(score/count)\n",
    "            pos_score[pos][1]+=1\n",
    "        else:\n",
    "            pos_score[pos]=[score/count, 1]\n",
    "                "
   ]
  },
  {
   "cell_type": "code",
   "execution_count": 23,
   "metadata": {
    "scrolled": false
   },
   "outputs": [
    {
     "name": "stdout",
     "output_type": "stream",
     "text": [
      "[(('農工商部衙門', '小京官'), [10.526647609398369, 188]),\n",
      " (('法部衙門', '候補小京官'), [3.373771855972537, 432]),\n",
      " (('學部衙門', '小京官'), [1.97818654841495, 460]),\n",
      " (('兵部衙門', '監督'), [1.9673997910224026, 105]),\n",
      " (('布政司衙門', '山西等處承宣布政使司布政使'), [1.644105405189331, 100]),\n",
      " (('農工商部衙門', '學習小京官'), [1.44170421306249, 210]),\n",
      " (('布政司衙門', '雲南等處承宣布政使司布政使'), [1.2313467942884242, 100]),\n",
      " (('翰林院衙門', '教習庶吉士'), [1.1391520147823104, 234]),\n",
      " (('兗州府', '至聖廟官'), [1.1196570809114357, 339]),\n",
      " (('內閣衙門', '漢票籖中書舍人'), [1.1039717704498062, 270]),\n",
      " (('布政司衙門', '廣西等處承宣布政使司布政使'), [0.919105052988783, 139]),\n",
      " (('布政司衙門', '陝西等處承宣布政使司布政使'), [0.9126802642750892, 110]),\n",
      " ((nan, '撫標中軍絫將兼管左營事務'), [0.7318082788388163, 106]),\n",
      " (('學部衙門', '七品小京官'), [0.7283413871295645, 145]),\n",
      " (('布政司衙門', '江西等處承宣布政使司布政使'), [0.6696303947329624, 111]),\n",
      " (('內閣', '漢票籖中書舍人'), [0.6664284910146798, 361]),\n",
      " (('農工商部衙門', '候補小京官'), [0.6054302584547858, 226]),\n",
      " (('內閣衙門', '漢標籤中書舍人'), [0.5963674736367627, 105]),\n",
      " (('內閣衙門', '漠票韱中書舍人'), [0.5647383865452573, 123]),\n",
      " (('布政司衙門', '四川等處承宣布政使司布政使'), [0.5466058992826244, 121]),\n",
      " (('布政司衙門', '湖北等處承宣布政使司布政使'), [0.5446831576444073, 127]),\n",
      " (('布政司衙門', '浙江等處承宣布政使司布政使兼管海防事務'), [0.4420330757868105, 113]),\n",
      " (('翰林院衙門', '日講起居註官翰林院侍講'), [0.40643849984917757, 200]),\n",
      " (('布政司衙門', '廣濟庫大使'), [0.36191095776336735, 488]),\n",
      " ((nan, '粤盈庫大使'), [0.3614193010807706, 114]),\n",
      " (('郵傳部衙門', '八品録事'), [0.35130918254953236, 223]),\n",
      " (('總漕部院衙門', '督運守備'), [0.339657489124976, 212]),\n",
      " (('布政司衙門', '廣東等處承宣布政使司布政使'), [0.33646906209060706, 106]),\n",
      " (('總漕', '領運千總'), [0.33327375260802466, 131]),\n",
      " (('度支部衙門', '七品京官'), [0.3297951543559247, 242])]\n"
     ]
    }
   ],
   "source": [
    "pos_score_local=pos_score\n",
    "pos_normscore={}\n",
    "curoff_occurences=100\n",
    "for key, value in pos_score_local.items():\n",
    "    if value[1]<curoff_occurences: # MUST do this filteration to remove noise: remove occurences < 5\n",
    "        continue\n",
    "    pos_normscore[key]=[value[0]/value[1], value[1]]\n",
    "pos_ranking_local=sorted(list(pos_normscore.items()), key=lambda x: -x[1][0])\n",
    "from pprint import pprint\n",
    "pprint(pos_ranking_local[:30])"
   ]
  },
  {
   "cell_type": "code",
   "execution_count": 21,
   "metadata": {
    "scrolled": true
   },
   "outputs": [
    {
     "data": {
      "application/vnd.jupyter.widget-view+json": {
       "model_id": "af0e54652940460dac828982ce012cd9",
       "version_major": 2,
       "version_minor": 0
      },
      "text/plain": [
       "HBox(children=(IntProgress(value=0, max=214224), HTML(value='')))"
      ]
     },
     "metadata": {},
     "output_type": "display_data"
    },
    {
     "name": "stdout",
     "output_type": "stream",
     "text": [
      "        jigou_1 guanzhi  pinji_detailed_numeric     year\n",
      "2797563  農工商部衙門     小京官                    10.0  1911.75\n",
      "2797564  農工商部衙門   七品小京官                     7.0  1912.00\n",
      "        jigou_1 guanzhi  pinji_detailed_numeric     year\n",
      "2879955  農工商部衙門  額外藝師藝士                    10.0  1907.50\n",
      "2879956  農工商部衙門  額外藝師藝士                    10.0  1907.75\n",
      "2879957  農工商部衙門  額外藝師藝士                    10.0  1908.00\n",
      "2879958  農工商部衙門  額外藝師藝士                    10.0  1908.25\n",
      "2879959  農工商部衙門  額外藝師藝士                    10.0  1908.50\n",
      "2879960  農工商部衙門  額外藝師藝士                    10.0  1908.75\n",
      "2879961  農工商部衙門  額外藝師藝士                    10.0  1909.00\n",
      "2879962    學部衙門     小京官                    10.0  1909.25\n",
      "2879963  農工商部衙門  額外藝師藝士                    10.0  1909.25\n",
      "2879964    學部衙門     小京官                    10.0  1909.50\n",
      "2879965  農工商部衙門  候補藝師藝士                    10.0  1909.50\n",
      "2879966    學部衙門     小京官                    10.0  1909.75\n",
      "2879967  農工商部衙門  候補藝師藝士                    10.0  1909.75\n",
      "2879969  農工商部衙門  候補藝師藝士                    10.0  1910.00\n",
      "2879968    學部衙門     小京官                    10.0  1910.00\n",
      "2879970    學部衙門     小京官                    10.0  1910.25\n",
      "2879971  農工商部衙門  候補藝師藝士                    10.0  1910.25\n",
      "2879972    學部衙門     小京官                    10.0  1910.50\n",
      "2879973  農工商部衙門  候補藝師藝士                    10.0  1910.50\n",
      "2879974    學部衙門     小京官                    10.0  1910.75\n",
      "2879975  農工商部衙門  候補藝師藝士                    10.0  1910.75\n",
      "2879976  農工商部衙門  候補藝師藝士                    10.0  1911.00\n",
      "2879977    學部衙門     小京官                    10.0  1911.00\n",
      "2879978    學部衙門     小京官                    10.0  1911.25\n",
      "2879979  農工商部衙門  候補藝師藝士                    10.0  1911.25\n",
      "2879980    學部衙門     小京官                    10.0  1911.50\n",
      "2879981    學部衙門   七品小京官                     7.0  1911.75\n",
      "2879982    學部衙門   七品小京官                     7.0  1912.00\n",
      "        jigou_1 guanzhi  pinji_detailed_numeric     year\n",
      "2917769    學部衙門     小京官                    10.0  1908.50\n",
      "2917770    學部衙門     小京官                    10.0  1908.75\n",
      "2917771    學部衙門     小京官                    10.0  1909.00\n",
      "2917772    學部衙門     小京官                    10.0  1909.25\n",
      "2917773    學部衙門     小京官                    10.0  1909.50\n",
      "2917774  農工商部衙門    學習主事                     6.0  1910.25\n",
      "2917775  農工商部衙門    學習主事                     6.0  1910.50\n",
      "2917776  農工商部衙門    學習主事                     6.0  1910.75\n",
      "        jigou_1 guanzhi  pinji_detailed_numeric     year\n",
      "2938933  農工商部衙門   候補小京官                    10.0  1909.50\n",
      "2938934  農工商部衙門   候補小京官                    10.0  1909.75\n",
      "2938935  農工商部衙門   候補小京官                    10.0  1910.00\n",
      "2938936  農工商部衙門   候補小京官                    10.0  1910.25\n",
      "2938937  農工商部衙門   候補小京官                    10.0  1910.50\n",
      "2938938  農工商部衙門   候補小京官                    10.0  1910.75\n",
      "2938939  農工商部衙門   候補小京官                    10.0  1911.00\n",
      "2938940  農工商部衙門   候補小京官                    10.0  1911.25\n",
      "2938941  農工商部衙門   候補小京官                    10.0  1911.50\n",
      "2938942  農工商部衙門     小京官                    10.0  1911.75\n",
      "2938943  農工商部衙門   七品小京官                     7.0  1912.00\n",
      "        jigou_1 guanzhi  pinji_detailed_numeric     year\n",
      "2938951  農工商部衙門   候補小京官                    10.0  1909.50\n",
      "2938952  農工商部衙門   候補小京官                    10.0  1909.75\n",
      "2938953  農工商部衙門   候補小京官                    10.0  1910.00\n",
      "2938954  農工商部衙門   候補小京官                    10.0  1910.25\n",
      "2938955  農工商部衙門   候補小京官                    10.0  1910.50\n",
      "2938956  農工商部衙門   候補小京官                    10.0  1910.75\n",
      "2938957  農工商部衙門   候補小京官                    10.0  1911.00\n",
      "2938958  農工商部衙門   候補小京官                    10.0  1911.25\n",
      "2938959  農工商部衙門   候補小京官                    10.0  1911.50\n",
      "2938960  農工商部衙門     小京官                    10.0  1911.75\n",
      "2938961  農工商部衙門   七品小京官                     7.0  1912.00\n",
      "        jigou_1 guanzhi  pinji_detailed_numeric     year\n",
      "2938962  農工商部衙門   候補小京官                    10.0  1909.50\n",
      "2938963  農工商部衙門   候補小京官                    10.0  1909.75\n",
      "2938964  農工商部衙門   候補小京官                    10.0  1910.00\n",
      "2938965  農工商部衙門   候補小京官                    10.0  1910.25\n",
      "2938966  農工商部衙門   候補小京官                    10.0  1910.50\n",
      "2938967  農工商部衙門   候補小京官                    10.0  1910.75\n",
      "2938968  農工商部衙門   候補小京官                    10.0  1911.00\n",
      "2938969  農工商部衙門   候補小京官                    10.0  1911.25\n",
      "2938970  農工商部衙門   候補小京官                    10.0  1911.50\n",
      "2938971  農工商部衙門     小京官                    10.0  1911.75\n",
      "2938972  農工商部衙門   七品小京官                     7.0  1912.00\n",
      "        jigou_1 guanzhi  pinji_detailed_numeric     year\n",
      "2938973  農工商部衙門   候補小京官                    10.0  1909.50\n",
      "2938974  農工商部衙門   候補小京官                    10.0  1909.75\n",
      "2938975  農工商部衙門   候補小京官                    10.0  1910.00\n",
      "2938976  農工商部衙門   候補小京官                    10.0  1910.25\n",
      "2938977  農工商部衙門   候補小京官                    10.0  1910.50\n",
      "2938978  農工商部衙門   候補小京官                    10.0  1910.75\n",
      "2938979  農工商部衙門   候補小京官                    10.0  1911.00\n",
      "2938980  農工商部衙門   候補小京官                    10.0  1911.25\n",
      "2938981  農工商部衙門   候補小京官                    10.0  1911.50\n",
      "2938982  農工商部衙門     小京官                    10.0  1911.75\n",
      "2938983  農工商部衙門   七品小京官                     7.0  1912.00\n",
      "        jigou_1 guanzhi  pinji_detailed_numeric     year\n",
      "2938984  農工商部衙門   候補小京官                    10.0  1909.50\n",
      "2938985  農工商部衙門   候補小京官                    10.0  1909.75\n",
      "2938986  農工商部衙門   候補小京官                    10.0  1910.00\n",
      "2938987  農工商部衙門   候補小京官                    10.0  1910.25\n",
      "2938988  農工商部衙門   候補小京官                    10.0  1910.50\n",
      "2938989  農工商部衙門   候補小京官                    10.0  1910.75\n",
      "2938990  農工商部衙門   候補小京官                    10.0  1911.00\n",
      "2938991  農工商部衙門   候補小京官                    10.0  1911.25\n",
      "2938992  農工商部衙門   候補小京官                    10.0  1911.50\n",
      "2938993  農工商部衙門     小京官                    10.0  1911.75\n",
      "2938994  農工商部衙門   七品小京官                     7.0  1912.00\n",
      "        jigou_1 guanzhi  pinji_detailed_numeric     year\n",
      "2938995  農工商部衙門   候補小京官                    10.0  1909.50\n",
      "2938996  農工商部衙門   候補小京官                    10.0  1909.75\n",
      "2938997  農工商部衙門   候補小京官                    10.0  1910.00\n",
      "2938998  農工商部衙門   候補小京官                    10.0  1910.25\n",
      "2938999  農工商部衙門   候補小京官                    10.0  1910.50\n",
      "2939000  農工商部衙門   候補小京官                    10.0  1910.75\n",
      "2939001  農工商部衙門   候補小京官                    10.0  1911.00\n",
      "2939002  農工商部衙門   候補小京官                    10.0  1911.25\n",
      "2939003  農工商部衙門   候補小京官                    10.0  1911.50\n",
      "2939004  農工商部衙門     小京官                    10.0  1911.75\n",
      "2939005  農工商部衙門   七品小京官                     7.0  1912.00\n",
      "        jigou_1 guanzhi  pinji_detailed_numeric     year\n",
      "2939006  農工商部衙門   候補小京官                    10.0  1909.50\n",
      "2939007  農工商部衙門   候補小京官                    10.0  1909.75\n",
      "2939008  農工商部衙門   候補小京官                    10.0  1910.00\n",
      "2939009  農工商部衙門   候補小京官                    10.0  1910.25\n",
      "2939010  農工商部衙門   候補小京官                    10.0  1910.50\n",
      "2939011  農工商部衙門   候補小京官                    10.0  1910.75\n",
      "2939012  農工商部衙門   候補小京官                    10.0  1911.00\n",
      "2939013  農工商部衙門   候補小京官                    10.0  1911.25\n",
      "2939014  農工商部衙門   候補小京官                    10.0  1911.50\n",
      "2939015  農工商部衙門     小京官                    10.0  1911.75\n",
      "2939016  農工商部衙門   七品小京官                     7.0  1912.00\n",
      "        jigou_1 guanzhi  pinji_detailed_numeric     year\n",
      "2939017  農工商部衙門   候補小京官                    10.0  1909.50\n",
      "2939018  農工商部衙門   候補小京官                    10.0  1909.75\n",
      "2939019  農工商部衙門   候補小京官                    10.0  1910.00\n",
      "2939020  農工商部衙門   候補小京官                    10.0  1910.25\n",
      "2939021  農工商部衙門   候補小京官                    10.0  1910.50\n",
      "2939022  農工商部衙門   候補小京官                    10.0  1910.75\n",
      "2939023  農工商部衙門   候補小京官                    10.0  1911.00\n",
      "2939024  農工商部衙門   候補小京官                    10.0  1911.25\n",
      "2939025  農工商部衙門   候補小京官                    10.0  1911.50\n",
      "2939026  農工商部衙門     小京官                    10.0  1911.75\n",
      "2939027  農工商部衙門   七品小京官                     7.0  1912.00\n",
      "        jigou_1 guanzhi  pinji_detailed_numeric     year\n",
      "2939028  農工商部衙門   候補小京官                    10.0  1909.50\n",
      "2939029  農工商部衙門   候補小京官                    10.0  1909.75\n",
      "2939030  農工商部衙門   候補小京官                    10.0  1910.00\n",
      "2939031  農工商部衙門   候補小京官                    10.0  1910.25\n",
      "2939032  農工商部衙門   候補小京官                    10.0  1910.50\n",
      "2939033  農工商部衙門   候補小京官                    10.0  1910.75\n",
      "2939034  農工商部衙門   候補小京官                    10.0  1911.00\n",
      "2939035  農工商部衙門   候補小京官                    10.0  1911.25\n",
      "2939036  農工商部衙門   候補小京官                    10.0  1911.50\n",
      "2939037  農工商部衙門     小京官                    10.0  1911.75\n"
     ]
    },
    {
     "name": "stdout",
     "output_type": "stream",
     "text": [
      "2939038  農工商部衙門   七品小京官                     7.0  1912.00\n",
      "        jigou_1 guanzhi  pinji_detailed_numeric     year\n",
      "2939039  農工商部衙門   候補小京官                    10.0  1909.50\n",
      "2939040  農工商部衙門   候補小京官                    10.0  1909.75\n",
      "2939041  農工商部衙門   候補小京官                    10.0  1910.00\n",
      "2939042  農工商部衙門   候補小京官                    10.0  1910.25\n",
      "2939043  農工商部衙門   候補小京官                    10.0  1910.50\n",
      "2939044  農工商部衙門   候補小京官                    10.0  1910.75\n",
      "2939045  農工商部衙門   候補小京官                    10.0  1911.00\n",
      "2939046  農工商部衙門   候補小京官                    10.0  1911.25\n",
      "2939047  農工商部衙門   候補小京官                    10.0  1911.50\n",
      "2939048  農工商部衙門     小京官                    10.0  1911.75\n",
      "2939049  農工商部衙門   七品小京官                     7.0  1912.00\n",
      "        jigou_1 guanzhi  pinji_detailed_numeric     year\n",
      "2939050  農工商部衙門   候補小京官                    10.0  1909.50\n",
      "2939051  農工商部衙門   候補小京官                    10.0  1909.75\n",
      "2939052  農工商部衙門   候補小京官                    10.0  1910.00\n",
      "2939053     海軍處      科員                    10.0  1910.00\n",
      "2939054     海軍處      科員                    10.0  1910.25\n",
      "2939055  農工商部衙門   候補小京官                    10.0  1910.25\n",
      "2939056     海軍處      科員                    10.0  1910.50\n",
      "2939057  農工商部衙門   候補小京官                    10.0  1910.50\n",
      "2939059     海軍處      科員                    10.0  1910.75\n",
      "2939058  農工商部衙門   候補小京官                    10.0  1910.75\n",
      "2939060     海軍處      科員                    10.0  1911.00\n",
      "2939061  農工商部衙門   候補小京官                    10.0  1911.00\n",
      "2939062     海軍處      科員                    10.0  1911.25\n",
      "2939063  農工商部衙門   候補小京官                    10.0  1911.25\n",
      "2939064  農工商部衙門   候補小京官                    10.0  1911.50\n",
      "2939065   海軍部衙門      科員                    10.0  1911.50\n",
      "2939066   海軍部衙門      科員                    10.0  1911.75\n",
      "2939067  農工商部衙門     小京官                    10.0  1911.75\n",
      "2939068  農工商部衙門   七品小京官                     7.0  1912.00\n",
      "2939069   海軍部衙門      科員                    10.0  1912.00\n",
      "        jigou_1 guanzhi  pinji_detailed_numeric     year\n",
      "2939070  農工商部衙門   候補小京官                    10.0  1909.50\n",
      "2939071  農工商部衙門   候補小京官                    10.0  1909.75\n",
      "2939072  農工商部衙門   候補小京官                    10.0  1910.00\n",
      "2939073  農工商部衙門   候補小京官                    10.0  1910.25\n",
      "2939074  農工商部衙門   候補小京官                    10.0  1910.50\n",
      "2939075  農工商部衙門   候補小京官                    10.0  1910.75\n",
      "2939076  農工商部衙門   候補小京官                    10.0  1911.00\n",
      "2939077  農工商部衙門   候補小京官                    10.0  1911.25\n",
      "2939078  農工商部衙門   候補小京官                    10.0  1911.50\n",
      "2939079  農工商部衙門     小京官                    10.0  1911.75\n",
      "2939080  農工商部衙門   七品小京官                     7.0  1912.00\n",
      "        jigou_1 guanzhi  pinji_detailed_numeric     year\n",
      "2939093  農工商部衙門   候補小京官                    10.0  1909.50\n",
      "2939094  農工商部衙門   候補小京官                    10.0  1909.75\n",
      "2939095  農工商部衙門   候補小京官                    10.0  1910.00\n",
      "2939096  農工商部衙門   候補小京官                    10.0  1910.25\n",
      "2939097  農工商部衙門   候補小京官                    10.0  1910.50\n",
      "2939098  農工商部衙門   候補小京官                    10.0  1910.75\n",
      "2939099  農工商部衙門   候補小京官                    10.0  1911.00\n",
      "2939100  農工商部衙門   候補小京官                    10.0  1911.25\n",
      "2939101  農工商部衙門   候補小京官                    10.0  1911.50\n",
      "2939102  農工商部衙門     小京官                    10.0  1911.75\n",
      "2939103  農工商部衙門   七品小京官                     7.0  1912.00\n",
      "        jigou_1 guanzhi  pinji_detailed_numeric     year\n",
      "2943697  農工商部衙門   候補小京官                    10.0  1909.75\n",
      "2943698  農工商部衙門   候補小京官                    10.0  1910.00\n",
      "2943699  農工商部衙門   候補小京官                    10.0  1910.25\n",
      "2943700  農工商部衙門   候補小京官                    10.0  1910.50\n",
      "2943701  農工商部衙門   候補小京官                    10.0  1910.75\n",
      "2943702  農工商部衙門   候補小京官                    10.0  1911.00\n",
      "2943703  農工商部衙門   候補小京官                    10.0  1911.25\n",
      "2943704  農工商部衙門   候補小京官                    10.0  1911.50\n",
      "2943705  農工商部衙門     小京官                    10.0  1911.75\n",
      "2943706  農工商部衙門   七品小京官                     7.0  1912.00\n",
      "        jigou_1 guanzhi  pinji_detailed_numeric     year\n",
      "2943736  農工商部衙門   學習小京官                    10.0  1909.75\n",
      "2943737  農工商部衙門   學習小京官                    10.0  1910.00\n",
      "2943738  農工商部衙門   學習小京官                    10.0  1910.25\n",
      "2943739  農工商部衙門   學習小京官                    10.0  1910.50\n",
      "2943740  農工商部衙門   學習小京官                    10.0  1910.75\n",
      "2943741  農工商部衙門   學習小京官                    10.0  1911.00\n",
      "2943742  農工商部衙門   學習小京官                    10.0  1911.25\n",
      "2943743  農工商部衙門   學習小京官                    10.0  1911.50\n",
      "2943744  農工商部衙門     小京官                    10.0  1911.75\n",
      "2943745  農工商部衙門   七品小京官                     7.0  1912.00\n",
      "        jigou_1 guanzhi  pinji_detailed_numeric     year\n",
      "2943786  農工商部衙門   八品小京官                     8.0  1909.75\n",
      "2943787  農工商部衙門   八品小京官                     8.0  1910.00\n",
      "2943788  農工商部衙門   八品小京官                     8.0  1910.25\n",
      "2943789  農工商部衙門   八品小京官                     8.0  1910.50\n",
      "2943790  農工商部衙門   八品小京官                     8.0  1910.75\n",
      "2943791  農工商部衙門   八品小京官                     8.0  1911.00\n",
      "2943792  農工商部衙門   學習小京官                    10.0  1911.25\n",
      "2943793  農工商部衙門   學習小京官                    10.0  1911.50\n",
      "2943794  農工商部衙門     小京官                    10.0  1911.75\n",
      "2943795  農工商部衙門   七品小京官                     7.0  1912.00\n",
      "        jigou_1 guanzhi  pinji_detailed_numeric     year\n",
      "2943796  農工商部衙門   八品小京官                     8.0  1909.75\n",
      "2943797  農工商部衙門   八品小京官                     8.0  1910.00\n",
      "2943798  農工商部衙門   八品小京官                     8.0  1910.25\n",
      "2943799  農工商部衙門   八品小京官                     8.0  1910.50\n",
      "2943800  農工商部衙門   學習小京官                    10.0  1910.75\n",
      "2943801  農工商部衙門   學習小京官                    10.0  1911.00\n",
      "2943802  農工商部衙門   學習小京官                    10.0  1911.25\n",
      "2943803  農工商部衙門   學習小京官                    10.0  1911.50\n",
      "2943804  農工商部衙門     小京官                    10.0  1911.75\n",
      "2943805  農工商部衙門   七品小京官                     7.0  1912.00\n",
      "        jigou_1 guanzhi  pinji_detailed_numeric     year\n",
      "2943806  農工商部衙門   八品小京官                     8.0  1909.75\n",
      "2943807  農工商部衙門   八品小京官                     8.0  1910.00\n",
      "2943808  農工商部衙門   八品小京官                     8.0  1910.25\n",
      "2943809  農工商部衙門   八品小京官                     8.0  1910.50\n",
      "2943810  農工商部衙門   學習小京官                    10.0  1910.75\n",
      "2943811  農工商部衙門   學習小京官                    10.0  1911.00\n",
      "2943812  農工商部衙門   學習小京官                    10.0  1911.25\n",
      "2943813  農工商部衙門   學習小京官                    10.0  1911.50\n",
      "2943814  農工商部衙門     小京官                    10.0  1911.75\n",
      "2943815  農工商部衙門   七品小京官                     7.0  1912.00\n",
      "        jigou_1 guanzhi  pinji_detailed_numeric     year\n",
      "2943816  農工商部衙門   八品小京官                     8.0  1909.75\n",
      "2943817  農工商部衙門   八品小京官                     8.0  1910.00\n",
      "2943818  農工商部衙門   八品小京官                     8.0  1910.25\n",
      "2943819  農工商部衙門   八品小京官                     8.0  1910.50\n",
      "2943820  農工商部衙門   八品小京官                     8.0  1910.75\n",
      "2943821  農工商部衙門   八品小京官                     8.0  1911.00\n",
      "2943822  農工商部衙門   八品小京官                     8.0  1911.25\n",
      "2943823  農工商部衙門   學習小京官                    10.0  1911.50\n",
      "2943824  農工商部衙門     小京官                    10.0  1911.75\n",
      "2943825  農工商部衙門   七品小京官                     7.0  1912.00\n",
      "        jigou_1 guanzhi  pinji_detailed_numeric     year\n",
      "2943831  農工商部衙門   八品小京官                     8.0  1909.75\n",
      "2943832  農工商部衙門   八品小京官                     8.0  1910.00\n",
      "2943833  農工商部衙門   八品小京官                     8.0  1910.25\n",
      "2943834  農工商部衙門   八品小京官                     8.0  1910.50\n",
      "2943835  農工商部衙門   八品小京官                     8.0  1910.75\n",
      "2943836  農工商部衙門   學習小京官                    10.0  1911.00\n",
      "2943837  農工商部衙門   學習小京官                    10.0  1911.25\n",
      "2943838  農工商部衙門   候補小京官                    10.0  1911.50\n",
      "2943839  農工商部衙門     小京官                    10.0  1911.75\n",
      "2943840  農工商部衙門   七品小京官                     7.0  1912.00\n",
      "        jigou_1 guanzhi  pinji_detailed_numeric     year\n",
      "2943841  農工商部衙門   八品小京官                     8.0  1909.75\n",
      "2943842  農工商部衙門   八品小京官                     8.0  1910.00\n",
      "2943843  農工商部衙門   八品小京官                     8.0  1910.25\n",
      "2943844  農工商部衙門   八品小京官                     8.0  1910.50\n",
      "2943845  農工商部衙門   八品小京官                     8.0  1910.75\n",
      "2943846  農工商部衙門   八品小京官                     8.0  1911.00\n",
      "2943847  農工商部衙門   學習小京官                    10.0  1911.25\n",
      "2943848  農工商部衙門   學習小京官                    10.0  1911.50\n",
      "2943849  農工商部衙門     小京官                    10.0  1911.75\n"
     ]
    },
    {
     "name": "stdout",
     "output_type": "stream",
     "text": [
      "2943850  農工商部衙門   七品小京官                     7.0  1912.00\n",
      "        jigou_1 guanzhi  pinji_detailed_numeric     year\n",
      "2949359  農工商部衙門   候補小京官                    10.0  1910.00\n",
      "2949360  農工商部衙門   候補小京官                    10.0  1910.25\n",
      "2949361  農工商部衙門   候補小京官                    10.0  1910.50\n",
      "2949362  農工商部衙門   候補小京官                    10.0  1910.75\n",
      "2949363  農工商部衙門   候補小京官                    10.0  1911.00\n",
      "2949364  農工商部衙門   候補小京官                    10.0  1911.25\n",
      "2949365  農工商部衙門   候補小京官                    10.0  1911.50\n",
      "2949366  農工商部衙門     小京官                    10.0  1911.75\n",
      "2949367  農工商部衙門   七品小京官                     7.0  1912.00\n",
      "        jigou_1 guanzhi  pinji_detailed_numeric     year\n",
      "2952688  農工商部衙門   候補小京官                    10.0  1910.25\n",
      "2952689  農工商部衙門   候補小京官                    10.0  1910.50\n",
      "2952690  農工商部衙門   候補小京官                    10.0  1910.75\n",
      "2952691  農工商部衙門   候補小京官                    10.0  1911.00\n",
      "2952692  農工商部衙門   候補小京官                    10.0  1911.25\n",
      "2952693  農工商部衙門   候補小京官                    10.0  1911.50\n",
      "2952694  農工商部衙門     小京官                    10.0  1911.75\n",
      "2952695  農工商部衙門   七品小京官                     7.0  1912.00\n",
      "        jigou_1 guanzhi  pinji_detailed_numeric     year\n",
      "2952696  農工商部衙門   候補小京官                    10.0  1910.25\n",
      "2952697  農工商部衙門   候補小京官                    10.0  1910.50\n",
      "2952698  農工商部衙門   候補小京官                    10.0  1910.75\n",
      "2952699  農工商部衙門   候補小京官                    10.0  1911.00\n",
      "2952700  農工商部衙門   候補小京官                    10.0  1911.25\n",
      "2952701  農工商部衙門   候補小京官                    10.0  1911.50\n",
      "2952702  農工商部衙門     小京官                    10.0  1911.75\n",
      "2952703   外務部衙門   二等書記官                    10.0  1911.75\n",
      "2952704   外務部衙門   二等書記官                    10.0  1912.00\n",
      "2952705  農工商部衙門   七品小京官                     7.0  1912.00\n",
      "        jigou_1 guanzhi  pinji_detailed_numeric     year\n",
      "2952706  農工商部衙門   候補小京官                    10.0  1910.25\n",
      "2952707  農工商部衙門   候補小京官                    10.0  1910.50\n",
      "2952708  農工商部衙門   候補小京官                    10.0  1910.75\n",
      "2952709  農工商部衙門   候補小京官                    10.0  1911.00\n",
      "2952710  農工商部衙門   候補小京官                    10.0  1911.25\n",
      "2952711  農工商部衙門   候補小京官                    10.0  1911.50\n",
      "2952712  農工商部衙門     小京官                    10.0  1911.75\n",
      "2952713  農工商部衙門   七品小京官                     7.0  1912.00\n",
      "        jigou_1 guanzhi  pinji_detailed_numeric     year\n",
      "2952714  農工商部衙門   候補小京官                    10.0  1910.25\n",
      "2952715  農工商部衙門   候補小京官                    10.0  1910.50\n",
      "2952716  農工商部衙門   候補小京官                    10.0  1910.75\n",
      "2952717  農工商部衙門   候補小京官                    10.0  1911.00\n",
      "2952718  農工商部衙門   候補小京官                    10.0  1911.25\n",
      "2952719  農工商部衙門   候補小京官                    10.0  1911.50\n",
      "2952720  農工商部衙門     小京官                    10.0  1911.75\n",
      "2952721  農工商部衙門   七品小京官                     7.0  1912.00\n",
      "        jigou_1 guanzhi  pinji_detailed_numeric     year\n",
      "2952722  農工商部衙門   候補小京官                    10.0  1910.25\n",
      "2952723  農工商部衙門   候補小京官                    10.0  1910.50\n",
      "2952724  農工商部衙門   候補小京官                    10.0  1910.75\n",
      "2952725  農工商部衙門   候補小京官                    10.0  1911.00\n",
      "2952726  農工商部衙門   候補小京官                    10.0  1911.25\n",
      "2952727  農工商部衙門   候補小京官                    10.0  1911.50\n",
      "2952728  農工商部衙門     小京官                    10.0  1911.75\n",
      "2952729  農工商部衙門   七品小京官                     7.0  1912.00\n",
      "        jigou_1 guanzhi  pinji_detailed_numeric     year\n",
      "2952730  農工商部衙門   候補小京官                    10.0  1910.25\n",
      "2952731  農工商部衙門   候補小京官                    10.0  1910.50\n",
      "2952732  農工商部衙門   候補小京官                    10.0  1910.75\n",
      "2952733  農工商部衙門   候補小京官                    10.0  1911.00\n",
      "2952734  農工商部衙門   候補小京官                    10.0  1911.25\n",
      "2952735  農工商部衙門   候補小京官                    10.0  1911.50\n",
      "2952736  農工商部衙門     小京官                    10.0  1911.75\n",
      "2952737  農工商部衙門   七品小京官                     7.0  1912.00\n",
      "        jigou_1  guanzhi  pinji_detailed_numeric     year\n",
      "2956968   陸軍部衙門    七品小京官                     7.0  1910.50\n",
      "2956969   陸軍部衙門    七品小京官                     7.0  1910.75\n",
      "2956970  農工商部衙門  原陸軍部小京官                    10.0  1911.25\n",
      "2956971  農工商部衙門  原陸軍部小京官                    10.0  1911.50\n",
      "2956972  農工商部衙門      小京官                    10.0  1911.75\n",
      "2956973  農工商部衙門    七品小京官                     7.0  1912.00\n",
      "        jigou_1 guanzhi  pinji_detailed_numeric     year\n",
      "2957606  農工商部衙門   候補小京官                    10.0  1910.50\n",
      "2957607  農工商部衙門   候補小京官                    10.0  1910.75\n",
      "2957608  農工商部衙門   候補小京官                    10.0  1911.00\n",
      "2957609  農工商部衙門   候補小京官                    10.0  1911.25\n",
      "2957610  農工商部衙門   候補小京官                    10.0  1911.50\n",
      "2957611  農工商部衙門     小京官                    10.0  1911.75\n",
      "2957612  農工商部衙門   七品小京官                     7.0  1912.00\n",
      "        jigou_1 guanzhi  pinji_detailed_numeric     year\n",
      "2957613  農工商部衙門   候補小京官                    10.0  1910.50\n",
      "2957614  農工商部衙門   候補小京官                    10.0  1910.75\n",
      "2957615  農工商部衙門   候補小京官                    10.0  1911.00\n",
      "2957616  農工商部衙門   候補小京官                    10.0  1911.25\n",
      "2957617  農工商部衙門   候補小京官                    10.0  1911.50\n",
      "2957618  農工商部衙門     小京官                    10.0  1911.75\n",
      "2957619  農工商部衙門   七品小京官                     7.0  1912.00\n",
      "         jigou_1 guanzhi  pinji_detailed_numeric     year\n",
      "2957620   農工商部衙門   候補小京官                    10.0  1910.50\n",
      "2957621   農工商部衙門   候補小京官                    10.0  1910.75\n",
      "2957622   農工商部衙門   候補小京官                    10.0  1911.00\n",
      "2957623   農工商部衙門   候補小京官                    10.0  1911.25\n",
      "2957624   農工商部衙門   候補小京官                    10.0  1911.50\n",
      "2957625  溫州地方審判廳    署理廳長                    10.0  1911.75\n",
      "2957626   農工商部衙門     小京官                    10.0  1911.75\n",
      "2957627  溫州地方審判廳    署理廳長                    10.0  1912.00\n",
      "2957628   農工商部衙門   七品小京官                     7.0  1912.00\n",
      "        jigou_1 guanzhi  pinji_detailed_numeric     year\n",
      "2957629  農工商部衙門   候補小京官                    10.0  1910.50\n",
      "2957630  農工商部衙門   候補小京官                    10.0  1910.75\n",
      "2957631  農工商部衙門   候補小京官                    10.0  1911.00\n",
      "2957632  農工商部衙門   候補小京官                    10.0  1911.25\n",
      "2957633  農工商部衙門   候補小京官                    10.0  1911.50\n",
      "2957634  農工商部衙門     小京官                    10.0  1911.75\n",
      "2957635  農工商部衙門   七品小京官                     7.0  1912.00\n",
      "        jigou_1 guanzhi  pinji_detailed_numeric     year\n",
      "2957636  農工商部衙門   候補小京官                    10.0  1910.50\n",
      "2957637  農工商部衙門   候補小京官                    10.0  1910.75\n",
      "2957638  農工商部衙門   候補小京官                    10.0  1911.00\n",
      "2957639  農工商部衙門   候補小京官                    10.0  1911.25\n",
      "2957640  農工商部衙門   候補小京官                    10.0  1911.50\n",
      "2957641  農工商部衙門     小京官                    10.0  1911.75\n",
      "2957642  農工商部衙門   七品小京官                     7.0  1912.00\n",
      "        jigou_1 guanzhi  pinji_detailed_numeric     year\n",
      "2957643  農工商部衙門   候補小京官                    10.0  1910.50\n",
      "2957644  農工商部衙門   候補小京官                    10.0  1910.75\n",
      "2957645  農工商部衙門   候補小京官                    10.0  1911.00\n",
      "2957646  農工商部衙門   候補小京官                    10.0  1911.25\n",
      "2957647  農工商部衙門   候補小京官                    10.0  1911.50\n",
      "2957648  農工商部衙門     小京官                    10.0  1911.75\n",
      "2957649  農工商部衙門   七品小京官                     7.0  1912.00\n",
      "        jigou_1 guanzhi  pinji_detailed_numeric     year\n",
      "2957657  農工商部衙門   候補小京官                    10.0  1910.50\n",
      "2957658  農工商部衙門   候補小京官                    10.0  1910.75\n",
      "2957659  農工商部衙門   候補小京官                    10.0  1911.00\n",
      "2957660  農工商部衙門   候補小京官                    10.0  1911.25\n",
      "2957661  農工商部衙門   候補小京官                    10.0  1911.50\n",
      "2957662  農工商部衙門     小京官                    10.0  1911.75\n",
      "2957663  農工商部衙門   七品小京官                     7.0  1912.00\n",
      "        jigou_1 guanzhi  pinji_detailed_numeric     year\n",
      "2957664  農工商部衙門   候補小京官                    10.0  1910.50\n",
      "2957665  農工商部衙門   候補小京官                    10.0  1910.75\n",
      "2957666  農工商部衙門   候補小京官                    10.0  1911.00\n",
      "2957667  農工商部衙門   候補小京官                    10.0  1911.25\n",
      "2957668  農工商部衙門   候補小京官                    10.0  1911.50\n",
      "2957669  農工商部衙門     小京官                    10.0  1911.75\n",
      "2957670  農工商部衙門   七品小京官                     7.0  1912.00\n",
      "        jigou_1 guanzhi  pinji_detailed_numeric     year\n",
      "2957671  農工商部衙門   候補小京官                    10.0  1910.50\n",
      "2957672  農工商部衙門   候補小京官                    10.0  1910.75\n",
      "2957673  農工商部衙門   候補小京官                    10.0  1911.00\n",
      "2957674  農工商部衙門   候補小京官                    10.0  1911.25\n",
      "2957675  農工商部衙門   候補小京官                    10.0  1911.50\n",
      "2957676  農工商部衙門     小京官                    10.0  1911.75\n"
     ]
    },
    {
     "name": "stdout",
     "output_type": "stream",
     "text": [
      "2957677  農工商部衙門   七品小京官                     7.0  1912.00\n",
      "        jigou_1 guanzhi  pinji_detailed_numeric     year\n",
      "2957678  農工商部衙門   候補小京官                    10.0  1910.50\n",
      "2957679  農工商部衙門   候補小京官                    10.0  1910.75\n",
      "2957680  農工商部衙門   候補小京官                    10.0  1911.00\n",
      "2957681  農工商部衙門   候補小京官                    10.0  1911.25\n",
      "2957682  農工商部衙門   候補小京官                    10.0  1911.50\n",
      "2957683  農工商部衙門     小京官                    10.0  1911.75\n",
      "2957684  農工商部衙門   七品小京官                     7.0  1912.00\n",
      "        jigou_1 guanzhi  pinji_detailed_numeric     year\n",
      "2957685  農工商部衙門   學習小京官                    10.0  1910.50\n",
      "2957686  農工商部衙門   學習小京官                    10.0  1910.75\n",
      "2957687  農工商部衙門   學習小京官                    10.0  1911.00\n",
      "2957688  農工商部衙門   學習小京官                    10.0  1911.25\n",
      "2957689  農工商部衙門   學習小京官                    10.0  1911.50\n",
      "2957690  農工商部衙門     小京官                    10.0  1911.75\n",
      "2957691  農工商部衙門   七品小京官                     7.0  1912.00\n",
      "        jigou_1 guanzhi  pinji_detailed_numeric     year\n",
      "2957692  農工商部衙門   學習小京官                    10.0  1910.50\n",
      "2957693  農工商部衙門   學習小京官                    10.0  1910.75\n",
      "2957694  農工商部衙門   學習小京官                    10.0  1911.00\n",
      "2957695  農工商部衙門   學習小京官                    10.0  1911.25\n",
      "2957696  農工商部衙門   學習小京官                    10.0  1911.50\n",
      "2957697  農工商部衙門     小京官                    10.0  1911.75\n",
      "2957698  農工商部衙門   七品小京官                     7.0  1912.00\n",
      "        jigou_1 guanzhi  pinji_detailed_numeric     year\n",
      "2957699  農工商部衙門   學習小京官                    10.0  1910.50\n",
      "2957700  農工商部衙門   學習小京官                    10.0  1910.75\n",
      "2957701  農工商部衙門   學習小京官                    10.0  1911.00\n",
      "2957702  農工商部衙門   學習小京官                    10.0  1911.25\n",
      "2957703  農工商部衙門   學習小京官                    10.0  1911.50\n",
      "2957704  農工商部衙門     小京官                    10.0  1911.75\n",
      "2957705  農工商部衙門   七品小京官                     7.0  1912.00\n",
      "        jigou_1 guanzhi  pinji_detailed_numeric     year\n",
      "2957706  農工商部衙門   學習小京官                    10.0  1910.50\n",
      "2957707  農工商部衙門   學習小京官                    10.0  1910.75\n",
      "2957708  農工商部衙門   學習小京官                    10.0  1911.00\n",
      "2957709  農工商部衙門   學習小京官                    10.0  1911.25\n",
      "2957710  農工商部衙門   學習小京官                    10.0  1911.50\n",
      "2957711  農工商部衙門     小京官                    10.0  1911.75\n",
      "2957712  農工商部衙門   七品小京官                     7.0  1912.00\n",
      "        jigou_1 guanzhi  pinji_detailed_numeric     year\n",
      "2957713  農工商部衙門   學習小京官                    10.0  1910.50\n",
      "2957714  農工商部衙門   學習小京官                    10.0  1910.75\n",
      "2957715  農工商部衙門   學習小京官                    10.0  1911.00\n",
      "2957716  農工商部衙門   學習小京官                    10.0  1911.25\n",
      "2957717  農工商部衙門   學習小京官                    10.0  1911.50\n",
      "2957718  農工商部衙門     小京官                    10.0  1911.75\n",
      "2957719  農工商部衙門   七品小京官                     7.0  1912.00\n",
      "        jigou_1 guanzhi  pinji_detailed_numeric     year\n",
      "2957720  農工商部衙門   學習小京官                    10.0  1910.50\n",
      "2957721  農工商部衙門   學習小京官                    10.0  1910.75\n",
      "2957722  農工商部衙門   學習小京官                    10.0  1911.00\n",
      "2957723  農工商部衙門   學習小京官                    10.0  1911.25\n",
      "2957724  農工商部衙門   學習小京官                    10.0  1911.50\n",
      "2957725  農工商部衙門     小京官                    10.0  1911.75\n",
      "2957726  農工商部衙門   七品小京官                     7.0  1912.00\n",
      "        jigou_1 guanzhi  pinji_detailed_numeric     year\n",
      "2957727  農工商部衙門   學習小京官                    10.0  1910.50\n",
      "2957728  農工商部衙門   學習小京官                    10.0  1910.75\n",
      "2957729  農工商部衙門   學習小京官                    10.0  1911.00\n",
      "2957730  農工商部衙門   學習小京官                    10.0  1911.25\n",
      "2957731  農工商部衙門   學習小京官                    10.0  1911.50\n",
      "2957732  農工商部衙門     小京官                    10.0  1911.75\n",
      "        jigou_1 guanzhi  pinji_detailed_numeric     year\n",
      "2957733  農工商部衙門   學習小京官                    10.0  1910.50\n",
      "2957734  農工商部衙門   學習小京官                    10.0  1910.75\n",
      "2957735  農工商部衙門   學習小京官                    10.0  1911.00\n",
      "2957736  農工商部衙門   學習小京官                    10.0  1911.25\n",
      "2957737  農工商部衙門   學習小京官                    10.0  1911.50\n",
      "2957738  農工商部衙門     小京官                    10.0  1911.75\n",
      "2957739  農工商部衙門   七品小京官                     7.0  1912.00\n",
      "        jigou_1 guanzhi  pinji_detailed_numeric     year\n",
      "2957740  農工商部衙門   學習小京官                    10.0  1910.50\n",
      "2957741  農工商部衙門   學習小京官                    10.0  1910.75\n",
      "2957742  農工商部衙門   學習小京官                    10.0  1911.00\n",
      "2957743  農工商部衙門   學習小京官                    10.0  1911.25\n",
      "2957744  農工商部衙門   學習小京官                    10.0  1911.50\n",
      "2957745  農工商部衙門     小京官                    10.0  1911.75\n",
      "2957746  農工商部衙門   七品小京官                     7.0  1912.00\n",
      "        jigou_1 guanzhi  pinji_detailed_numeric     year\n",
      "2961617  農工商部衙門   候補小京官                    10.0  1910.75\n",
      "2961618  農工商部衙門   候補小京官                    10.0  1911.00\n",
      "2961619  農工商部衙門   候補小京官                    10.0  1911.25\n",
      "2961620  農工商部衙門   候補小京官                    10.0  1911.50\n",
      "2961621  農工商部衙門     小京官                    10.0  1911.75\n",
      "2961622  農工商部衙門   七品小京官                     7.0  1912.00\n",
      "        jigou_1 guanzhi  pinji_detailed_numeric     year\n",
      "2961624  農工商部衙門   學習小京官                    10.0  1910.75\n",
      "2961625  農工商部衙門   學習小京官                    10.0  1911.00\n",
      "2961626  農工商部衙門   學習小京官                    10.0  1911.25\n",
      "2961627  農工商部衙門   學習小京官                    10.0  1911.50\n",
      "2961628  農工商部衙門     小京官                    10.0  1911.75\n",
      "2961629  農工商部衙門   七品小京官                     7.0  1912.00\n",
      "        jigou_1 guanzhi  pinji_detailed_numeric     year\n",
      "2961630  農工商部衙門   學習小京官                    10.0  1910.75\n",
      "2961631  農工商部衙門   學習小京官                    10.0  1911.00\n",
      "2961632  農工商部衙門   學習小京官                    10.0  1911.25\n",
      "2961633  農工商部衙門   學習小京官                    10.0  1911.50\n",
      "2961634  農工商部衙門     小京官                    10.0  1911.75\n",
      "2961635  農工商部衙門   七品小京官                     7.0  1912.00\n",
      "        jigou_1 guanzhi  pinji_detailed_numeric     year\n",
      "2961640  農工商部衙門   學習小京官                    10.0  1910.75\n",
      "2961641  農工商部衙門   學習小京官                    10.0  1911.00\n",
      "2961642  農工商部衙門   學習小京官                    10.0  1911.25\n",
      "2961643  農工商部衙門   學習小京官                    10.0  1911.50\n",
      "2961644  農工商部衙門     小京官                    10.0  1911.75\n",
      "2961645  農工商部衙門   七品小京官                     7.0  1912.00\n",
      "        jigou_1 guanzhi  pinji_detailed_numeric     year\n",
      "2961650  農工商部衙門   學習小京官                    10.0  1910.75\n",
      "2961651  農工商部衙門   學習小京官                    10.0  1911.00\n",
      "2961652  農工商部衙門   學習小京官                    10.0  1911.25\n",
      "2961653  農工商部衙門   學習小京官                    10.0  1911.50\n",
      "2961654  農工商部衙門     小京官                    10.0  1911.75\n",
      "2961655  農工商部衙門   七品小京官                     7.0  1912.00\n",
      "        jigou_1 guanzhi  pinji_detailed_numeric     year\n",
      "2961656  農工商部衙門   學習小京官                    10.0  1910.75\n",
      "2961657  農工商部衙門   學習小京官                    10.0  1911.00\n",
      "2961658  農工商部衙門   學習小京官                    10.0  1911.25\n",
      "2961659  農工商部衙門   學習小京官                    10.0  1911.50\n",
      "2961660  農工商部衙門     小京官                    10.0  1911.75\n",
      "        jigou_1 guanzhi  pinji_detailed_numeric     year\n",
      "2961661  農工商部衙門   學習小京官                    10.0  1910.75\n",
      "2961662  農工商部衙門   學習小京官                    10.0  1911.00\n",
      "2961663  農工商部衙門   學習小京官                    10.0  1911.25\n",
      "2961664  農工商部衙門   學習小京官                    10.0  1911.50\n",
      "2961665  農工商部衙門     小京官                    10.0  1911.75\n",
      "2961666  農工商部衙門   七品小京官                     7.0  1912.00\n",
      "        jigou_1 guanzhi  pinji_detailed_numeric     year\n",
      "2961667  農工商部衙門   學習小京官                    10.0  1910.75\n",
      "2961668  農工商部衙門   學習小京官                    10.0  1911.00\n",
      "2961669  農工商部衙門   學習小京官                    10.0  1911.25\n",
      "2961670  農工商部衙門   學習小京官                    10.0  1911.50\n",
      "2961671  農工商部衙門     小京官                    10.0  1911.75\n",
      "2961672  農工商部衙門   七品小京官                     7.0  1912.00\n",
      "        jigou_1 guanzhi  pinji_detailed_numeric     year\n",
      "2961673  農工商部衙門   學習小京官                    10.0  1910.75\n",
      "2961674  農工商部衙門   學習小京官                    10.0  1911.00\n",
      "2961675  農工商部衙門   學習小京官                    10.0  1911.25\n",
      "2961676  農工商部衙門   學習小京官                    10.0  1911.50\n",
      "2961677  農工商部衙門     小京官                    10.0  1911.75\n",
      "2961678  農工商部衙門   七品小京官                     7.0  1912.00\n",
      "        jigou_1 guanzhi  pinji_detailed_numeric     year\n",
      "2961679  農工商部衙門   學習小京官                    10.0  1910.75\n",
      "2961680  農工商部衙門   學習小京官                    10.0  1911.00\n",
      "2961681  農工商部衙門   學習小京官                    10.0  1911.25\n",
      "2961682  農工商部衙門   學習小京官                    10.0  1911.50\n"
     ]
    },
    {
     "name": "stdout",
     "output_type": "stream",
     "text": [
      "2961683  農工商部衙門     小京官                    10.0  1911.75\n",
      "        jigou_1 guanzhi  pinji_detailed_numeric     year\n",
      "2961684  農工商部衙門   學習小京官                    10.0  1910.75\n",
      "2961685  農工商部衙門   學習小京官                    10.0  1911.00\n",
      "2961686  農工商部衙門   學習小京官                    10.0  1911.25\n",
      "2961687  農工商部衙門   學習小京官                    10.0  1911.50\n",
      "2961688  農工商部衙門     小京官                    10.0  1911.75\n",
      "2961689  農工商部衙門   七品小京官                     7.0  1912.00\n",
      "        jigou_1 guanzhi  pinji_detailed_numeric     year\n",
      "2965585  農工商部衙門   候補小京官                    10.0  1911.25\n",
      "2965586  農工商部衙門   候補小京官                    10.0  1911.50\n",
      "2965587  農工商部衙門     小京官                    10.0  1911.75\n",
      "2965588  農工商部衙門   七品小京官                     7.0  1912.00\n",
      "        jigou_1 guanzhi  pinji_detailed_numeric     year\n",
      "2965589  農工商部衙門   學習小京官                    10.0  1911.25\n",
      "2965590  農工商部衙門   學習小京官                    10.0  1911.50\n",
      "2965591  農工商部衙門     小京官                    10.0  1911.75\n",
      "2965592  農工商部衙門   七品小京官                     7.0  1912.00\n",
      "        jigou_1 guanzhi  pinji_detailed_numeric     year\n",
      "2965593  農工商部衙門   學習小京官                    10.0  1911.25\n",
      "2965594  農工商部衙門   學習小京官                    10.0  1911.50\n",
      "2965595  農工商部衙門     小京官                    10.0  1911.75\n",
      "2965596  農工商部衙門   七品小京官                     7.0  1912.00\n",
      "        jigou_1  guanzhi  pinji_detailed_numeric     year\n",
      "2968609  農工商部衙門  原陸軍部小京官                    10.0  1911.50\n",
      "2968610  農工商部衙門      小京官                    10.0  1911.75\n",
      "2968611  農工商部衙門    七品小京官                     7.0  1912.00\n",
      "        jigou_1 guanzhi  pinji_detailed_numeric     year\n",
      "2968612  農工商部衙門   學習小京官                    10.0  1911.50\n",
      "2968613  農工商部衙門   學習小京官                    10.0  1911.50\n",
      "2968614  農工商部衙門     小京官                    10.0  1911.75\n",
      "2968615  農工商部衙門   七品小京官                     7.0  1912.00\n",
      "        jigou_1 guanzhi  pinji_detailed_numeric     year\n",
      "2968616  農工商部衙門   學習小京官                    10.0  1911.50\n",
      "2968617  農工商部衙門     小京官                    10.0  1911.75\n",
      "        jigou_1 guanzhi  pinji_detailed_numeric     year\n",
      "2968618  農工商部衙門   學習小京官                    10.0  1911.50\n",
      "2968619  農工商部衙門     小京官                    10.0  1911.75\n",
      "2968620  農工商部衙門   七品小京官                     7.0  1912.00\n",
      "        jigou_1 guanzhi  pinji_detailed_numeric     year\n",
      "2968622  農工商部衙門   學習小京官                    10.0  1911.50\n",
      "2968623  農工商部衙門     小京官                    10.0  1911.75\n",
      "2968624  農工商部衙門   七品小京官                     7.0  1912.00\n",
      "        jigou_1 guanzhi  pinji_detailed_numeric     year\n",
      "2968625  農工商部衙門   學習小京官                    10.0  1911.50\n",
      "2968626  農工商部衙門     小京官                    10.0  1911.75\n",
      "2968627  農工商部衙門   七品小京官                     7.0  1912.00\n",
      "        jigou_1 guanzhi  pinji_detailed_numeric     year\n",
      "2968628  農工商部衙門   學習小京官                    10.0  1911.50\n",
      "2968629  農工商部衙門     小京官                    10.0  1911.75\n",
      "2968630  農工商部衙門   七品小京官                     7.0  1912.00\n",
      "        jigou_1 guanzhi  pinji_detailed_numeric     year\n",
      "2968631  農工商部衙門   學習小京官                    10.0  1911.50\n",
      "2968632  農工商部衙門     小京官                    10.0  1911.75\n",
      "2968633  農工商部衙門   七品小京官                     7.0  1912.00\n",
      "        jigou_1 guanzhi  pinji_detailed_numeric     year\n",
      "2968634  農工商部衙門   學習小京官                    10.0  1911.50\n",
      "2968635  農工商部衙門     小京官                    10.0  1911.75\n",
      "2968636  農工商部衙門   七品小京官                     7.0  1912.00\n",
      "        jigou_1 guanzhi  pinji_detailed_numeric     year\n",
      "2968637  農工商部衙門   學習小京官                    10.0  1911.50\n",
      "2968638  農工商部衙門     小京官                    10.0  1911.75\n",
      "2968639  農工商部衙門   七品小京官                     7.0  1912.00\n",
      "        jigou_1 guanzhi  pinji_detailed_numeric     year\n",
      "2968640  農工商部衙門   學習小京官                    10.0  1911.50\n",
      "2968641  農工商部衙門     小京官                    10.0  1911.75\n",
      "2968642  農工商部衙門   七品小京官                     7.0  1912.00\n",
      "        jigou_1 guanzhi  pinji_detailed_numeric     year\n",
      "2968643  農工商部衙門   學習小京官                    10.0  1911.50\n",
      "2968644  農工商部衙門     小京官                    10.0  1911.75\n",
      "2968645  農工商部衙門   七品小京官                     7.0  1912.00\n",
      "        jigou_1 guanzhi  pinji_detailed_numeric     year\n",
      "2968646  農工商部衙門   學習小京官                    10.0  1911.50\n",
      "2968647  農工商部衙門     小京官                    10.0  1911.75\n",
      "2968648  農工商部衙門   七品小京官                     7.0  1912.00\n",
      "        jigou_1 guanzhi  pinji_detailed_numeric     year\n",
      "2968649  農工商部衙門   學習小京官                    10.0  1911.50\n",
      "2968650  農工商部衙門     小京官                    10.0  1911.75\n",
      "2968651  農工商部衙門   七品小京官                     7.0  1912.00\n",
      "        jigou_1 guanzhi  pinji_detailed_numeric     year\n",
      "2968652  農工商部衙門   學習小京官                    10.0  1911.50\n",
      "2968653  農工商部衙門     小京官                    10.0  1911.75\n",
      "2968654  農工商部衙門   七品小京官                     7.0  1912.00\n",
      "        jigou_1 guanzhi  pinji_detailed_numeric     year\n",
      "2968655  農工商部衙門   學習小京官                    10.0  1911.50\n",
      "2968656  農工商部衙門     小京官                    10.0  1911.75\n",
      "2968657  農工商部衙門   七品小京官                     7.0  1912.00\n",
      "        jigou_1 guanzhi  pinji_detailed_numeric     year\n",
      "2968658  農工商部衙門   學習小京官                    10.0  1911.50\n",
      "2968659  農工商部衙門     小京官                    10.0  1911.75\n",
      "2968660  農工商部衙門   七品小京官                     7.0  1912.00\n",
      "        jigou_1 guanzhi  pinji_detailed_numeric     year\n",
      "2968661  農工商部衙門   學習小京官                    10.0  1911.50\n",
      "2968662  農工商部衙門     小京官                    10.0  1911.75\n",
      "2968663  農工商部衙門   七品小京官                     7.0  1912.00\n",
      "        jigou_1 guanzhi  pinji_detailed_numeric     year\n",
      "2968664  農工商部衙門   學習小京官                    10.0  1911.50\n",
      "2968665  農工商部衙門     小京官                    10.0  1911.75\n",
      "2968666  農工商部衙門   七品小京官                     7.0  1912.00\n",
      "        jigou_1 guanzhi  pinji_detailed_numeric     year\n",
      "2968667  農工商部衙門   學習小京官                    10.0  1911.50\n",
      "2968668  農工商部衙門     小京官                    10.0  1911.75\n",
      "2968669  農工商部衙門   七品小京官                     7.0  1912.00\n",
      "        jigou_1 guanzhi  pinji_detailed_numeric     year\n",
      "2968670  農工商部衙門   學習小京官                    10.0  1911.50\n",
      "2968671  農工商部衙門     小京官                    10.0  1911.75\n",
      "2968672  農工商部衙門   七品小京官                     7.0  1912.00\n",
      "        jigou_1 guanzhi  pinji_detailed_numeric     year\n",
      "2968673  農工商部衙門   學習小京官                    10.0  1911.50\n",
      "2968674  農工商部衙門     小京官                    10.0  1911.75\n",
      "2968675  農工商部衙門   七品小京官                     7.0  1912.00\n",
      "        jigou_1 guanzhi  pinji_detailed_numeric     year\n",
      "2968676  農工商部衙門   學習小京官                    10.0  1911.50\n",
      "2968677  農工商部衙門     小京官                    10.0  1911.75\n",
      "2968678  農工商部衙門   七品小京官                     7.0  1912.00\n",
      "        jigou_1 guanzhi  pinji_detailed_numeric     year\n",
      "2968679  農工商部衙門   學習小京官                    10.0  1911.50\n",
      "2968680  農工商部衙門     小京官                    10.0  1911.75\n",
      "2968681  農工商部衙門   七品小京官                     7.0  1912.00\n",
      "        jigou_1 guanzhi  pinji_detailed_numeric     year\n",
      "2968682  農工商部衙門   學習小京官                    10.0  1911.50\n",
      "2968683  農工商部衙門     小京官                    10.0  1911.75\n",
      "2968684  農工商部衙門   七品小京官                     7.0  1912.00\n",
      "        jigou_1 guanzhi  pinji_detailed_numeric     year\n",
      "2968685  農工商部衙門   學習小京官                    10.0  1911.50\n",
      "2968686  農工商部衙門     小京官                    10.0  1911.75\n",
      "2968687  農工商部衙門   七品小京官                     7.0  1912.00\n",
      "        jigou_1 guanzhi  pinji_detailed_numeric     year\n",
      "2968688  農工商部衙門   學習小京官                    10.0  1911.50\n",
      "2968689  農工商部衙門     小京官                    10.0  1911.75\n",
      "2968690  農工商部衙門   七品小京官                     7.0  1912.00\n",
      "        jigou_1 guanzhi  pinji_detailed_numeric     year\n",
      "2968691  農工商部衙門   學習小京官                    10.0  1911.50\n",
      "2968692  農工商部衙門     小京官                    10.0  1911.75\n",
      "2968693  農工商部衙門   七品小京官                     7.0  1912.00\n",
      "        jigou_1 guanzhi  pinji_detailed_numeric     year\n",
      "2968694  農工商部衙門   學習小京官                    10.0  1911.50\n",
      "2968695  農工商部衙門     小京官                    10.0  1911.75\n",
      "2968696  農工商部衙門   七品小京官                     7.0  1912.00\n",
      "        jigou_1 guanzhi  pinji_detailed_numeric     year\n",
      "2968697  農工商部衙門   學習小京官                    10.0  1911.50\n",
      "2968698  農工商部衙門     小京官                    10.0  1911.75\n",
      "2968699  農工商部衙門   七品小京官                     7.0  1912.00\n",
      "        jigou_1 guanzhi  pinji_detailed_numeric     year\n",
      "2968700  農工商部衙門   學習小京官                    10.0  1911.50\n",
      "2968701  農工商部衙門     小京官                    10.0  1911.75\n"
     ]
    },
    {
     "name": "stdout",
     "output_type": "stream",
     "text": [
      "2968702  農工商部衙門   七品小京官                     7.0  1912.00\n",
      "        jigou_1 guanzhi  pinji_detailed_numeric     year\n",
      "2968703  農工商部衙門   學習小京官                    10.0  1911.50\n",
      "2968704  農工商部衙門     小京官                    10.0  1911.75\n",
      "2968705  農工商部衙門   七品小京官                     7.0  1912.00\n",
      "        jigou_1 guanzhi  pinji_detailed_numeric     year\n",
      "2968706  農工商部衙門   學習小京官                    10.0  1911.50\n",
      "2968707  農工商部衙門     小京官                    10.0  1911.75\n",
      "2968708  農工商部衙門   七品小京官                     7.0  1912.00\n",
      "        jigou_1 guanzhi  pinji_detailed_numeric     year\n",
      "2968709  農工商部衙門   學習小京官                    10.0  1911.50\n",
      "2968710  農工商部衙門     小京官                    10.0  1911.75\n",
      "2968711  農工商部衙門   七品小京官                     7.0  1912.00\n",
      "        jigou_1 guanzhi  pinji_detailed_numeric     year\n",
      "2968712  農工商部衙門   學習小京官                    10.0  1911.50\n",
      "2968713  農工商部衙門     小京官                    10.0  1911.75\n",
      "2968714  農工商部衙門   七品小京官                     7.0  1912.00\n",
      "        jigou_1 guanzhi  pinji_detailed_numeric     year\n",
      "2968715  農工商部衙門   學習小京官                    10.0  1911.50\n",
      "2968716  農工商部衙門     小京官                    10.0  1911.75\n",
      "2968717  農工商部衙門   七品小京官                     7.0  1912.00\n",
      "        jigou_1 guanzhi  pinji_detailed_numeric     year\n",
      "2968718  農工商部衙門   學習小京官                    10.0  1911.50\n",
      "2968719  農工商部衙門     小京官                    10.0  1911.75\n",
      "2968720  農工商部衙門   七品小京官                     7.0  1912.00\n",
      "        jigou_1 guanzhi  pinji_detailed_numeric     year\n",
      "2968721  農工商部衙門   學習小京官                    10.0  1911.50\n",
      "2968722  農工商部衙門     小京官                    10.0  1911.75\n",
      "2968723  農工商部衙門   七品小京官                     7.0  1912.00\n",
      "        jigou_1 guanzhi  pinji_detailed_numeric     year\n",
      "2968724  農工商部衙門   學習小京官                    10.0  1911.50\n",
      "2968725  農工商部衙門     小京官                    10.0  1911.75\n",
      "2968726  農工商部衙門   七品小京官                     7.0  1912.00\n",
      "        jigou_1 guanzhi  pinji_detailed_numeric     year\n",
      "2968727  農工商部衙門   學習小京官                    10.0  1911.50\n",
      "2968728  農工商部衙門     小京官                    10.0  1911.75\n",
      "2968729  農工商部衙門   七品小京官                     7.0  1912.00\n",
      "        jigou_1 guanzhi  pinji_detailed_numeric     year\n",
      "2968730  農工商部衙門   學習小京官                    10.0  1911.50\n",
      "2968731  農工商部衙門     小京官                    10.0  1911.75\n",
      "2968732  農工商部衙門   七品小京官                     7.0  1912.00\n",
      "        jigou_1 guanzhi  pinji_detailed_numeric     year\n",
      "2968733  農工商部衙門   學習小京官                    10.0  1911.50\n",
      "2968734  農工商部衙門     小京官                    10.0  1911.75\n",
      "2968735  農工商部衙門   七品小京官                     7.0  1912.00\n",
      "        jigou_1 guanzhi  pinji_detailed_numeric     year\n",
      "2968736  農工商部衙門   學習小京官                    10.0  1911.50\n",
      "2968737  農工商部衙門     小京官                    10.0  1911.75\n",
      "2968738  農工商部衙門   七品小京官                     7.0  1912.00\n",
      "        jigou_1 guanzhi  pinji_detailed_numeric     year\n",
      "2968739  農工商部衙門   學習小京官                    10.0  1911.50\n",
      "2968740  農工商部衙門     小京官                    10.0  1911.75\n",
      "2968741  農工商部衙門   七品小京官                     7.0  1912.00\n",
      "        jigou_1 guanzhi  pinji_detailed_numeric     year\n",
      "2968742  農工商部衙門   學習小京官                    10.0  1911.50\n",
      "2968743  農工商部衙門     小京官                    10.0  1911.75\n",
      "        jigou_1 guanzhi  pinji_detailed_numeric     year\n",
      "2968744  農工商部衙門   學習小京官                    10.0  1911.50\n",
      "2968745  農工商部衙門     小京官                    10.0  1911.75\n",
      "2968746  農工商部衙門   七品小京官                     7.0  1912.00\n",
      "        jigou_1 guanzhi  pinji_detailed_numeric     year\n",
      "2968747  農工商部衙門   學習小京官                    10.0  1911.50\n",
      "2968748  農工商部衙門     小京官                    10.0  1911.75\n",
      "2968749  農工商部衙門   七品小京官                     7.0  1912.00\n",
      "        jigou_1 guanzhi  pinji_detailed_numeric     year\n",
      "2968750  農工商部衙門   學習小京官                    10.0  1911.50\n",
      "2968751  農工商部衙門     小京官                    10.0  1911.75\n",
      "2968752  農工商部衙門   七品小京官                     7.0  1912.00\n",
      "        jigou_1 guanzhi  pinji_detailed_numeric     year\n",
      "2968753  農工商部衙門   學習小京官                    10.0  1911.50\n",
      "2968754  農工商部衙門     小京官                    10.0  1911.75\n",
      "2968755  農工商部衙門   七品小京官                     7.0  1912.00\n",
      "        jigou_1 guanzhi  pinji_detailed_numeric     year\n",
      "2968756  農工商部衙門   學習小京官                    10.0  1911.50\n",
      "2968757  農工商部衙門     小京官                    10.0  1911.75\n",
      "2968758  農工商部衙門   七品小京官                     7.0  1912.00\n",
      "        jigou_1 guanzhi  pinji_detailed_numeric     year\n",
      "2968759  農工商部衙門   學習小京官                    10.0  1911.50\n",
      "2968760  農工商部衙門     小京官                    10.0  1911.75\n",
      "2968761  農工商部衙門   七品小京官                     7.0  1912.00\n",
      "        jigou_1 guanzhi  pinji_detailed_numeric     year\n",
      "2968762  農工商部衙門   學習小京官                    10.0  1911.50\n",
      "2968763  農工商部衙門     小京官                    10.0  1911.75\n",
      "2968764  農工商部衙門   七品小京官                     7.0  1912.00\n",
      "        jigou_1 guanzhi  pinji_detailed_numeric     year\n",
      "2968765  農工商部衙門   學習小京官                    10.0  1911.50\n",
      "2968766  農工商部衙門     小京官                    10.0  1911.75\n",
      "2968767  農工商部衙門   七品小京官                     7.0  1912.00\n",
      "        jigou_1 guanzhi  pinji_detailed_numeric     year\n",
      "2968768  農工商部衙門   學習小京官                    10.0  1911.50\n",
      "2968769  農工商部衙門     小京官                    10.0  1911.75\n",
      "2968770  農工商部衙門   七品小京官                     7.0  1912.00\n",
      "        jigou_1 guanzhi  pinji_detailed_numeric     year\n",
      "2970305  農工商部衙門     小京官                    10.0  1911.75\n",
      "2970306   民政部衙門   七品小京官                     7.0  1911.75\n",
      "2970307  農工商部衙門   七品小京官                     7.0  1912.00\n",
      "2970308   民政部衙門   七品小京官                     7.0  1912.00\n",
      "        jigou_1 guanzhi  pinji_detailed_numeric     year\n",
      "2971902  農工商部衙門     小京官                    10.0  1911.75\n",
      "        jigou_1 guanzhi  pinji_detailed_numeric     year\n",
      "2971903  農工商部衙門     小京官                    10.0  1911.75\n",
      "2971904  農工商部衙門   七品小京官                     7.0  1912.00\n",
      "        jigou_1 guanzhi  pinji_detailed_numeric     year\n",
      "2971905  農工商部衙門     小京官                    10.0  1911.75\n",
      "2971906  農工商部衙門   七品小京官                     7.0  1912.00\n",
      "        jigou_1 guanzhi  pinji_detailed_numeric     year\n",
      "2971907  農工商部衙門     小京官                    10.0  1911.75\n",
      "2971908  農工商部衙門   七品小京官                     7.0  1912.00\n",
      "        jigou_1 guanzhi  pinji_detailed_numeric     year\n",
      "2971909  農工商部衙門     小京官                    10.0  1911.75\n",
      "2971910  農工商部衙門   七品小京官                     7.0  1912.00\n",
      "        jigou_1 guanzhi  pinji_detailed_numeric     year\n",
      "2971911  農工商部衙門     小京官                    10.0  1911.75\n",
      "2971912  農工商部衙門   七品小京官                     7.0  1912.00\n",
      "        jigou_1 guanzhi  pinji_detailed_numeric     year\n",
      "2971913  農工商部衙門     小京官                    10.0  1911.75\n",
      "2971914  農工商部衙門   七品小京官                     7.0  1912.00\n",
      "        jigou_1 guanzhi  pinji_detailed_numeric     year\n",
      "2971915  農工商部衙門     小京官                    10.0  1911.75\n",
      "        jigou_1 guanzhi  pinji_detailed_numeric     year\n",
      "2971916  農工商部衙門     小京官                    10.0  1911.75\n",
      "2971917  農工商部衙門   七品小京官                     7.0  1912.00\n",
      "        jigou_1 guanzhi  pinji_detailed_numeric     year\n",
      "2971918  農工商部衙門     小京官                    10.0  1911.75\n",
      "2971919  農工商部衙門   七品小京官                     7.0  1912.00\n",
      "        jigou_1 guanzhi  pinji_detailed_numeric     year\n",
      "2971920  農工商部衙門     小京官                    10.0  1911.75\n",
      "2971921  農工商部衙門   七品小京官                     7.0  1912.00\n",
      "        jigou_1 guanzhi  pinji_detailed_numeric     year\n",
      "2971922  農工商部衙門     小京官                    10.0  1911.75\n",
      "        jigou_1 guanzhi  pinji_detailed_numeric     year\n",
      "2971923  農工商部衙門     小京官                    10.0  1911.75\n",
      "2971924  農工商部衙門   七品小京官                     7.0  1912.00\n",
      "        jigou_1 guanzhi  pinji_detailed_numeric     year\n",
      "2971925  農工商部衙門     小京官                    10.0  1911.75\n",
      "2971926  農工商部衙門   七品小京官                     7.0  1912.00\n",
      "        jigou_1 guanzhi  pinji_detailed_numeric     year\n",
      "2971927  農工商部衙門     小京官                    10.0  1911.75\n",
      "2971928  農工商部衙門   七品小京官                     7.0  1912.00\n",
      "        jigou_1 guanzhi  pinji_detailed_numeric     year\n",
      "2971929  農工商部衙門     小京官                    10.0  1911.75\n",
      "2971930  農工商部衙門   七品小京官                     7.0  1912.00\n",
      "        jigou_1 guanzhi  pinji_detailed_numeric     year\n",
      "2971931  農工商部衙門     小京官                    10.0  1911.75\n"
     ]
    },
    {
     "name": "stdout",
     "output_type": "stream",
     "text": [
      "2971932  農工商部衙門   七品小京官                     7.0  1912.00\n",
      "        jigou_1 guanzhi  pinji_detailed_numeric     year\n",
      "2971933  農工商部衙門     小京官                    10.0  1911.75\n",
      "2971934  農工商部衙門   七品小京官                     7.0  1912.00\n",
      "        jigou_1 guanzhi  pinji_detailed_numeric     year\n",
      "2971935  農工商部衙門     小京官                    10.0  1911.75\n",
      "2971936  農工商部衙門   七品小京官                     7.0  1912.00\n",
      "        jigou_1 guanzhi  pinji_detailed_numeric     year\n",
      "2971937  農工商部衙門     小京官                    10.0  1911.75\n",
      "2971938  農工商部衙門   七品小京官                     7.0  1912.00\n",
      "        jigou_1 guanzhi  pinji_detailed_numeric     year\n",
      "2971939  農工商部衙門     小京官                    10.0  1911.75\n",
      "2971940  農工商部衙門   七品小京官                     7.0  1912.00\n",
      "        jigou_1 guanzhi  pinji_detailed_numeric     year\n",
      "2971941  農工商部衙門     小京官                    10.0  1911.75\n",
      "2971942  農工商部衙門   七品小京官                     7.0  1912.00\n",
      "        jigou_1 guanzhi  pinji_detailed_numeric     year\n",
      "2971943  農工商部衙門     小京官                    10.0  1911.75\n",
      "2971944  農工商部衙門   七品小京官                     7.0  1912.00\n",
      "        jigou_1 guanzhi  pinji_detailed_numeric     year\n",
      "2971945  農工商部衙門     小京官                    10.0  1911.75\n",
      "        jigou_1 guanzhi  pinji_detailed_numeric     year\n",
      "2971946  農工商部衙門     小京官                    10.0  1911.75\n",
      "2971947  農工商部衙門   七品小京官                     7.0  1912.00\n",
      "        jigou_1 guanzhi  pinji_detailed_numeric     year\n",
      "2971948  農工商部衙門     小京官                    10.0  1911.75\n",
      "2971949  農工商部衙門   七品小京官                     7.0  1912.00\n",
      "        jigou_1 guanzhi  pinji_detailed_numeric     year\n",
      "2971950  農工商部衙門     小京官                    10.0  1911.75\n",
      "2971951  農工商部衙門   七品小京官                     7.0  1912.00\n",
      "        jigou_1 guanzhi  pinji_detailed_numeric     year\n",
      "2971952  農工商部衙門     小京官                    10.0  1911.75\n",
      "2971953  農工商部衙門   七品小京官                     7.0  1912.00\n",
      "        jigou_1 guanzhi  pinji_detailed_numeric     year\n",
      "2971954  農工商部衙門     小京官                    10.0  1911.75\n",
      "2971955  農工商部衙門   七品小京官                     7.0  1912.00\n",
      "        jigou_1 guanzhi  pinji_detailed_numeric     year\n",
      "2971956  農工商部衙門     小京官                    10.0  1911.75\n",
      "2971957  農工商部衙門   七品小京官                     7.0  1912.00\n",
      "        jigou_1 guanzhi  pinji_detailed_numeric     year\n",
      "2971958  農工商部衙門     小京官                    10.0  1911.75\n",
      "        jigou_1 guanzhi  pinji_detailed_numeric     year\n",
      "2971959  農工商部衙門     小京官                    10.0  1911.75\n",
      "2971960  農工商部衙門   七品小京官                     7.0  1912.00\n",
      "        jigou_1 guanzhi  pinji_detailed_numeric     year\n",
      "2971961  農工商部衙門     小京官                    10.0  1911.75\n",
      "2971962  農工商部衙門   七品小京官                     7.0  1912.00\n",
      "        jigou_1 guanzhi  pinji_detailed_numeric     year\n",
      "2971963  農工商部衙門     小京官                    10.0  1911.75\n",
      "        jigou_1 guanzhi  pinji_detailed_numeric     year\n",
      "2971964  農工商部衙門     小京官                    10.0  1911.75\n",
      "2971965  農工商部衙門   七品小京官                     7.0  1912.00\n",
      "        jigou_1 guanzhi  pinji_detailed_numeric     year\n",
      "2971966  農工商部衙門     小京官                    10.0  1911.75\n",
      "2971967  農工商部衙門   七品小京官                     7.0  1912.00\n",
      "        jigou_1 guanzhi  pinji_detailed_numeric     year\n",
      "2971968  農工商部衙門     小京官                    10.0  1911.75\n",
      "2971969  農工商部衙門   七品小京官                     7.0  1912.00\n",
      "        jigou_1 guanzhi  pinji_detailed_numeric     year\n",
      "2971970  農工商部衙門     小京官                    10.0  1911.75\n",
      "2971971  農工商部衙門   七品小京官                     7.0  1912.00\n",
      "        jigou_1 guanzhi  pinji_detailed_numeric     year\n",
      "2971972  農工商部衙門     小京官                    10.0  1911.75\n",
      "2971973  農工商部衙門   七品小京官                     7.0  1912.00\n",
      "        jigou_1 guanzhi  pinji_detailed_numeric     year\n",
      "2971974  農工商部衙門     小京官                    10.0  1911.75\n",
      "2971975  農工商部衙門   七品小京官                     7.0  1912.00\n",
      "        jigou_1 guanzhi  pinji_detailed_numeric     year\n",
      "2971976  農工商部衙門     小京官                    10.0  1911.75\n",
      "2971977  農工商部衙門   七品小京官                     7.0  1912.00\n",
      "        jigou_1 guanzhi  pinji_detailed_numeric     year\n",
      "2971978  農工商部衙門     小京官                    10.0  1911.75\n",
      "2971979  農工商部衙門   七品小京官                     7.0  1912.00\n",
      "        jigou_1 guanzhi  pinji_detailed_numeric     year\n",
      "2971980  農工商部衙門     小京官                    10.0  1911.75\n",
      "        jigou_1 guanzhi  pinji_detailed_numeric     year\n",
      "2971981  農工商部衙門     小京官                    10.0  1911.75\n",
      "2971982  農工商部衙門   七品小京官                     7.0  1912.00\n",
      "        jigou_1 guanzhi  pinji_detailed_numeric     year\n",
      "2971983  農工商部衙門     小京官                    10.0  1911.75\n",
      "2971984  農工商部衙門   七品小京官                     7.0  1912.00\n",
      "        jigou_1 guanzhi  pinji_detailed_numeric     year\n",
      "2971985  農工商部衙門     小京官                    10.0  1911.75\n",
      "2971986  農工商部衙門   七品小京官                     7.0  1912.00\n",
      "        jigou_1 guanzhi  pinji_detailed_numeric     year\n",
      "2971987  農工商部衙門     小京官                    10.0  1911.75\n",
      "        jigou_1 guanzhi  pinji_detailed_numeric     year\n",
      "2971988  農工商部衙門     小京官                    10.0  1911.75\n",
      "2971989  農工商部衙門   七品小京官                     7.0  1912.00\n",
      "        jigou_1 guanzhi  pinji_detailed_numeric     year\n",
      "2971990  農工商部衙門     小京官                    10.0  1911.75\n",
      "2971991  農工商部衙門   七品小京官                     7.0  1912.00\n",
      "        jigou_1 guanzhi  pinji_detailed_numeric     year\n",
      "2971992  農工商部衙門     小京官                    10.0  1911.75\n",
      "2971993  農工商部衙門   七品小京官                     7.0  1912.00\n",
      "        jigou_1 guanzhi  pinji_detailed_numeric     year\n",
      "2971994  農工商部衙門     小京官                    10.0  1911.75\n",
      "2971995  農工商部衙門   七品小京官                     7.0  1912.00\n",
      "        jigou_1 guanzhi  pinji_detailed_numeric     year\n",
      "2971996  農工商部衙門     小京官                    10.0  1911.75\n",
      "2971997  農工商部衙門   七品小京官                     7.0  1912.00\n",
      "        jigou_1 guanzhi  pinji_detailed_numeric     year\n",
      "2971998  農工商部衙門     小京官                    10.0  1911.75\n",
      "2971999  農工商部衙門   七品小京官                     7.0  1912.00\n",
      "        jigou_1 guanzhi  pinji_detailed_numeric     year\n",
      "2972000  農工商部衙門     小京官                    10.0  1911.75\n",
      "2972001  農工商部衙門   七品小京官                     7.0  1912.00\n",
      "        jigou_1 guanzhi  pinji_detailed_numeric     year\n",
      "2972002  農工商部衙門     小京官                    10.0  1911.75\n",
      "2972003  農工商部衙門   七品小京官                     7.0  1912.00\n",
      "        jigou_1 guanzhi  pinji_detailed_numeric     year\n",
      "2972004  農工商部衙門     小京官                    10.0  1911.75\n",
      "2972005  農工商部衙門   七品小京官                     7.0  1912.00\n",
      "        jigou_1 guanzhi  pinji_detailed_numeric     year\n",
      "2972006  農工商部衙門     小京官                    10.0  1911.75\n",
      "2972007  農工商部衙門   七品小京官                     7.0  1912.00\n",
      "        jigou_1 guanzhi  pinji_detailed_numeric     year\n",
      "2972008  農工商部衙門     小京官                    10.0  1911.75\n",
      "2972009  農工商部衙門   七品小京官                     7.0  1912.00\n",
      "        jigou_1 guanzhi  pinji_detailed_numeric     year\n",
      "2972010  農工商部衙門     小京官                    10.0  1911.75\n",
      "2972011  農工商部衙門   七品小京官                     7.0  1912.00\n",
      "        jigou_1 guanzhi  pinji_detailed_numeric     year\n",
      "2972012  農工商部衙門     小京官                    10.0  1911.75\n",
      "2972013  農工商部衙門   七品小京官                     7.0  1912.00\n",
      "        jigou_1 guanzhi  pinji_detailed_numeric     year\n",
      "2972014  農工商部衙門     小京官                    10.0  1911.75\n",
      "2972015  農工商部衙門   七品小京官                     7.0  1912.00\n",
      "        jigou_1 guanzhi  pinji_detailed_numeric     year\n",
      "2972016  農工商部衙門     小京官                    10.0  1911.75\n",
      "2972017  農工商部衙門   七品小京官                     7.0  1912.00\n",
      "        jigou_1 guanzhi  pinji_detailed_numeric     year\n",
      "2972018  農工商部衙門     小京官                    10.0  1911.75\n",
      "2972019  農工商部衙門   七品小京官                     7.0  1912.00\n",
      "        jigou_1 guanzhi  pinji_detailed_numeric     year\n",
      "2972020  農工商部衙門     小京官                    10.0  1911.75\n",
      "2972021  農工商部衙門   七品小京官                     7.0  1912.00\n",
      "        jigou_1 guanzhi  pinji_detailed_numeric     year\n",
      "2972022  農工商部衙門     小京官                    10.0  1911.75\n",
      "2972023  農工商部衙門   七品小京官                     7.0  1912.00\n",
      "        jigou_1 guanzhi  pinji_detailed_numeric     year\n",
      "2972024  農工商部衙門     小京官                    10.0  1911.75\n",
      "2972025  農工商部衙門   七品小京官                     7.0  1912.00\n",
      "        jigou_1 guanzhi  pinji_detailed_numeric     year\n",
      "2972026  農工商部衙門     小京官                    10.0  1911.75\n"
     ]
    },
    {
     "name": "stdout",
     "output_type": "stream",
     "text": [
      "2972027  農工商部衙門   七品小京官                     7.0  1912.00\n",
      "        jigou_1 guanzhi  pinji_detailed_numeric     year\n",
      "2972028  農工商部衙門     小京官                    10.0  1911.75\n",
      "2972029  農工商部衙門   七品小京官                     7.0  1912.00\n",
      "        jigou_1 guanzhi  pinji_detailed_numeric     year\n",
      "2972030  農工商部衙門     小京官                    10.0  1911.75\n",
      "2972031  農工商部衙門   七品小京官                     7.0  1912.00\n",
      "        jigou_1 guanzhi  pinji_detailed_numeric     year\n",
      "2972032  農工商部衙門     小京官                    10.0  1911.75\n",
      "2972033  農工商部衙門   七品小京官                     7.0  1912.00\n",
      "        jigou_1 guanzhi  pinji_detailed_numeric     year\n",
      "2972034  農工商部衙門     小京官                    10.0  1911.75\n",
      "2972035  農工商部衙門   七品小京官                     7.0  1912.00\n",
      "        jigou_1 guanzhi  pinji_detailed_numeric     year\n",
      "2972036  農工商部衙門     小京官                    10.0  1911.75\n",
      "2972037  農工商部衙門   七品小京官                     7.0  1912.00\n",
      "        jigou_1 guanzhi  pinji_detailed_numeric     year\n",
      "2972038  農工商部衙門     小京官                    10.0  1911.75\n",
      "2972039  農工商部衙門   七品小京官                     7.0  1912.00\n",
      "        jigou_1 guanzhi  pinji_detailed_numeric     year\n",
      "2972040  農工商部衙門     小京官                    10.0  1911.75\n",
      "2972041  農工商部衙門   七品小京官                     7.0  1912.00\n",
      "        jigou_1 guanzhi  pinji_detailed_numeric     year\n",
      "2972042  農工商部衙門     小京官                    10.0  1911.75\n",
      "2972043  農工商部衙門   七品小京官                     7.0  1912.00\n",
      "        jigou_1 guanzhi  pinji_detailed_numeric     year\n",
      "2972044  農工商部衙門     小京官                    10.0  1911.75\n",
      "2972045  農工商部衙門   七品小京官                     7.0  1912.00\n",
      "        jigou_1 guanzhi  pinji_detailed_numeric     year\n",
      "2972046  農工商部衙門     小京官                    10.0  1911.75\n",
      "2972047  農工商部衙門   七品小京官                     7.0  1912.00\n",
      "        jigou_1 guanzhi  pinji_detailed_numeric     year\n",
      "2972048  農工商部衙門     小京官                    10.0  1911.75\n",
      "2972049  農工商部衙門   七品小京官                     7.0  1912.00\n",
      "        jigou_1 guanzhi  pinji_detailed_numeric     year\n",
      "2972050  農工商部衙門     小京官                    10.0  1911.75\n",
      "2972051  農工商部衙門   七品小京官                     7.0  1912.00\n",
      "        jigou_1 guanzhi  pinji_detailed_numeric     year\n",
      "2972052  農工商部衙門     小京官                    10.0  1911.75\n",
      "2972053  農工商部衙門   七品小京官                     7.0  1912.00\n",
      "        jigou_1 guanzhi  pinji_detailed_numeric     year\n",
      "2972054  農工商部衙門     小京官                    10.0  1911.75\n",
      "2972055  農工商部衙門   七品小京官                     7.0  1912.00\n",
      "        jigou_1 guanzhi  pinji_detailed_numeric     year\n",
      "2972056  農工商部衙門     小京官                    10.0  1911.75\n",
      "2972057  農工商部衙門   七品小京官                     7.0  1912.00\n",
      "        jigou_1 guanzhi  pinji_detailed_numeric     year\n",
      "2972058  農工商部衙門     小京官                    10.0  1911.75\n",
      "2972059  農工商部衙門   七品小京官                     7.0  1912.00\n",
      "        jigou_1 guanzhi  pinji_detailed_numeric     year\n",
      "2972060  農工商部衙門     小京官                    10.0  1911.75\n",
      "2972061  農工商部衙門   七品小京官                     7.0  1912.00\n",
      "        jigou_1 guanzhi  pinji_detailed_numeric     year\n",
      "2972062  農工商部衙門     小京官                    10.0  1911.75\n",
      "2972063  農工商部衙門   七品小京官                     7.0  1912.00\n",
      "        jigou_1 guanzhi  pinji_detailed_numeric     year\n",
      "2972064  農工商部衙門     小京官                    10.0  1911.75\n",
      "2972065  農工商部衙門   七品小京官                     7.0  1912.00\n",
      "        jigou_1 guanzhi  pinji_detailed_numeric     year\n",
      "2972066  農工商部衙門     小京官                    10.0  1911.75\n",
      "2972067  農工商部衙門   七品小京官                     7.0  1912.00\n",
      "        jigou_1 guanzhi  pinji_detailed_numeric     year\n",
      "2972068  農工商部衙門     小京官                    10.0  1911.75\n",
      "2972069  農工商部衙門   七品小京官                     7.0  1912.00\n",
      "        jigou_1 guanzhi  pinji_detailed_numeric     year\n",
      "2972070  農工商部衙門     小京官                    10.0  1911.75\n",
      "2972071  農工商部衙門   七品小京官                     7.0  1912.00\n",
      "        jigou_1 guanzhi  pinji_detailed_numeric     year\n",
      "2972072  農工商部衙門     小京官                    10.0  1911.75\n",
      "2972073  農工商部衙門   七品小京官                     7.0  1912.00\n",
      "        jigou_1 guanzhi  pinji_detailed_numeric     year\n",
      "2972074  農工商部衙門     小京官                    10.0  1911.75\n",
      "2972075  農工商部衙門   七品小京官                     7.0  1912.00\n",
      "        jigou_1 guanzhi  pinji_detailed_numeric     year\n",
      "2972076  農工商部衙門     小京官                    10.0  1911.75\n",
      "2972077  農工商部衙門   七品小京官                     7.0  1912.00\n",
      "        jigou_1 guanzhi  pinji_detailed_numeric     year\n",
      "2972078  農工商部衙門     小京官                    10.0  1911.75\n",
      "2972079  農工商部衙門   七品小京官                     7.0  1912.00\n",
      "        jigou_1 guanzhi  pinji_detailed_numeric     year\n",
      "2972080  農工商部衙門     小京官                    10.0  1911.75\n",
      "2972081  農工商部衙門   七品小京官                     7.0  1912.00\n",
      "        jigou_1 guanzhi  pinji_detailed_numeric     year\n",
      "2972082  農工商部衙門     小京官                    10.0  1911.75\n",
      "2972083  農工商部衙門   七品小京官                     7.0  1912.00\n",
      "        jigou_1 guanzhi  pinji_detailed_numeric     year\n",
      "2972084  農工商部衙門     小京官                    10.0  1911.75\n",
      "2972085  農工商部衙門   七品小京官                     7.0  1912.00\n",
      "        jigou_1 guanzhi  pinji_detailed_numeric     year\n",
      "2972086  農工商部衙門     小京官                    10.0  1911.75\n",
      "2972087  農工商部衙門   七品小京官                     7.0  1912.00\n",
      "        jigou_1 guanzhi  pinji_detailed_numeric     year\n",
      "2972088  農工商部衙門     小京官                    10.0  1911.75\n",
      "2972089  農工商部衙門   七品小京官                     7.0  1912.00\n"
     ]
    }
   ],
   "source": [
    "count=0\n",
    "for id_, subtable in tqdm(ppry.groupby('unique_id')):\n",
    "    if '小京官' in subtable['guanzhi'].unique() and '農工商部衙門' in subtable['jigou_1'].unique():\n",
    "        print(subtable.sort_values(by='year')[['jigou_1','guanzhi' ,'pinji_detailed_numeric', 'year']])\n",
    "        count+=1\n",
    "#     if count>3:\n",
    "#         break"
   ]
  },
  {
   "cell_type": "code",
   "execution_count": null,
   "metadata": {},
   "outputs": [],
   "source": []
  }
 ],
 "metadata": {
  "kernelspec": {
   "display_name": "Python 3",
   "language": "python",
   "name": "python3"
  },
  "language_info": {
   "codemirror_mode": {
    "name": "ipython",
    "version": 3
   },
   "file_extension": ".py",
   "mimetype": "text/x-python",
   "name": "python",
   "nbconvert_exporter": "python",
   "pygments_lexer": "ipython3",
   "version": "3.6.5"
  }
 },
 "nbformat": 4,
 "nbformat_minor": 2
}
