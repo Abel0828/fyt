{
 "cells": [
  {
   "cell_type": "code",
   "execution_count": 1,
   "metadata": {},
   "outputs": [],
   "source": [
    "import numpy as np\n",
    "import pandas as pd"
   ]
  },
  {
   "cell_type": "code",
   "execution_count": 2,
   "metadata": {
    "scrolled": true
   },
   "outputs": [],
   "source": [
    "columns=['xuhao', 'interpol', 'jicheng_hao', 'juanhao', 'banben', \n",
    "         'banben_niandai', 'pdf_yema', 'wenjian_yema', 'jiaji','jiaji_jungong','quanxuan_niandai','shuoming',\n",
    "         'assigned_edition','xuanren_fangshi','year','season','cehao','shuming',\n",
    "         'banben_ganzhi','banben_jijie','diqu','diming_titou', 'jigou_1','jigou_2','jigou_3',\n",
    "         'diyu_yaojin','diyu_pinan_chengdu','guanzhi','guanzhi_2','guanxian_yaojin','guanxian_pinan_chengdu',\n",
    "         'shenfen','xing','ming','zihao','ji_sheng','ji_xian','ren_sheng','ren_xian','minzu',\n",
    "         'qifen','chushen_1','ganzhi_1','chushen_2','ganzhi_2','quanxuan_nianhao','quanxuan_run',\n",
    "         'quanxuan_yue','quanxuan_fangshi','juewei','quanxuan_year','record_number','year_next',\n",
    "         'year_prev','lxuhao3','linterpol3','lxuhao4','other_title','ming_py','xing_py','ren_xian_py','core_guanzhi',\n",
    "         'pinji_from_guanzhi','ganzhi_year_1','ganzhi_year_2','jiaji_numeric','pinji_detailed','pinji_numeric',\n",
    "         'pinji_category','unique_id','entrance_id','unique_id_qiren','repeats_within_edition','unique_in_every_edition',\n",
    "         'linked_record_count','first_record','entrance_year','c_personid','c_birthyear',\n",
    "         'c_deathyear','age','chushen_1_original','jinshi_original_jsl','jinshi_ever_jsl','xitong',\n",
    "         'banner','exam','jigou_fu','jigou_zhouxian','jigou_zhouxian_type','jigou_zhili_zhou',\n",
    "         'jigou_zhili_ting','fangkeben_only','new_in_1911','qiren','qiren_jigou'\n",
    "]\n",
    "\n"
   ]
  },
  {
   "cell_type": "code",
   "execution_count": 8,
   "metadata": {},
   "outputs": [],
   "source": [
    "subset_col=['year','diqu','jigou_1','jigou_2', 'jigou_3', 'guanzhi','chushen_1','pinji_numeric', 'xitong']"
   ]
  },
  {
   "cell_type": "code",
   "execution_count": 18,
   "metadata": {},
   "outputs": [],
   "source": [
    "df=pd.read_csv('../data/Jinshenlu.txt',sep='\\t',\n",
    "               usecols=subset_col, \n",
    "              error_bad_lines=False)\n",
    "# ,dtype={ 'pinji_numeric': float,'year': float,}"
   ]
  },
  {
   "cell_type": "code",
   "execution_count": 19,
   "metadata": {},
   "outputs": [
    {
     "data": {
      "text/plain": [
       "array([1760.75, 1761.5, 1765.0, 1765.75, 1777.5, 1788.0, 1796.0, 1797.75,\n",
       "       1798.5, 1798.75, 1800.75, 1802.25, 1803.0, 1804.0, 1806.0, 1806.25,\n",
       "       1812.5, 1816.75, 1817.0, 1817.75, 1820.25, 1824.25, 1826.5, 1827.0,\n",
       "       1830.75, 1833.25, 1834.0, 1850.5, 1851.25, 1851.75, 1852.5,\n",
       "       1852.75, 1854.0, 1854.75, 1855.0, 1855.5, 1856.0, 1856.25, 1857.0,\n",
       "       1857.5, 1857.75, 1858.75, 1859.25, 1859.75, 1860.0, 1860.5,\n",
       "       1861.25, 1864.25, 1864.5, 1865.25, 1866.0, 1866.25, 1867.0,\n",
       "       1867.25, 1867.5, 1868.5, 1868.75, 1869.0, 1869.75, 1870.0, 1870.25,\n",
       "       1870.5, 1870.75, 1871.0, 1871.25, 1872.25, 1872.5, 1873.75, 1874.0,\n",
       "       1874.25, 1874.5, 1874.75, 1875.25, 1875.5, 1876.25, 1876.5,\n",
       "       1876.75, 1877.25, 1877.5, 1877.75, 1878.25, 1878.5, 1878.75,\n",
       "       1879.0, 1879.5, 1879.75, 1881.0, 1881.75, 1882.25, 1882.75, 1883.0,\n",
       "       1883.5, 1884.25, 1884.5, 1885.0, 1885.25, 1885.5, 1886.0, 1886.25,\n",
       "       1886.5, 1886.75, 1887.0, 1887.25, 1887.75, 1888.25, 1888.5,\n",
       "       1888.75, 1889.0, 1889.25, 1889.5, 1889.75, 1890.0, 1890.25, 1890.5,\n",
       "       1890.75, 1891.0, 1891.25, 1891.5, 1892.0, 1892.25, 1892.5, 1892.75,\n",
       "       1893.0, 1893.25, 1893.5, 1893.75, 1894.25, 1894.5, 1894.75, 1895.0,\n",
       "       1895.25, 1895.5, 1895.75, 1896.0, 1896.25, 1896.5, 1896.75,\n",
       "       1897.25, 1897.5, 1897.75, 1898.0, 1898.5, 1898.75, 1899.0, 1899.25,\n",
       "       1899.5, 1899.75, 1900.0, 1900.25, 1900.5, 1901.0, 1901.75, 1902.0,\n",
       "       1902.25, 1902.5, 1902.75, 1903.0, 1903.25, 1903.5, 1903.75, 1904.0,\n",
       "       1904.25, 1904.75, 1905.0, 1905.25, 1905.5, 1905.75, 1906.0,\n",
       "       1906.25, 1906.5, 1906.75, 1907.0, 1907.25, 1907.5, 1907.75, 1908.0,\n",
       "       1908.25, 1908.5, 1908.75, 1909.0, 1909.25, 1909.5, 1909.75, 1910.0,\n",
       "       1910.25, 1910.5, 1910.75, 1911.0, 1911.25, 1911.5, 1911.75, 1912.0,\n",
       "       '1820.25', '1817.75', '1833.25', '1826.5', '1827', '1830.75',\n",
       "       '1834', '1824.25', '1861.25', '1864.25', '1864.5', '1865.25',\n",
       "       '1866', '1866.25', '1867', '1867.25', '1867.5', '1868.5',\n",
       "       '1870.25', '1870.75', '1871', '1871.25', '1872.25', '1872.5',\n",
       "       '1873.75', '1874', '1874.5', '1858.75', '1859.25', '1859.75',\n",
       "       '1868.75', '1870.5', '1850.5', '1851.25', '1851.75', '1852.5',\n",
       "       '1852.75', '1854', '1854.75', '1855.5', '1856', '1856.25', '1857',\n",
       "       '1860', '1860.5', '1857.5', '1857.75', '1855', '1869', '1869.75',\n",
       "       '1876.25', '1876.5', '1877.25', '1877.5', '1878.25', '1878.5',\n",
       "       '1879', '1879.5', '1879.75', '1881', '1882.25', '1882.75', '1883',\n",
       "       '1883.5', '1886', '1886.5', '1886.75', '1887.25', '1887.75',\n",
       "       '1888.25', '1888.5', '1889', '1890', '1890.25', '1890.5',\n",
       "       '1890.75', '1891', '1891.25', '1891.5', '1892.25', '1893',\n",
       "       '1893.5', '1894.25', '1894.75', '1895.75', '1896', '1897.5',\n",
       "       '1899.5', '1899.75', '1900', '1900.25', '1901', '1902.5',\n",
       "       '1902.75', '1903', '1903.25', '1903.5', '1904', '1904.25',\n",
       "       '1904.75', '1905', '1905.5', '1906.25', '1906.5', '1907.25',\n",
       "       '1870', '1875.25', '1875.5', '1876.75', '1877.75', '1878.75',\n",
       "       '1881.75', '1884.25', '1884.5', '1885', '1885.25', '1885.5',\n",
       "       '1886.25', '1887', '1888.75', '1889.25', '1889.5', '1889.75',\n",
       "       '1892', '1892.5', '1892.75', '1893.25', '1893.75', '1894.5',\n",
       "       '1895', '1895.25', '1895.5', '1896.25', '1896.5', '1896.75',\n",
       "       '1897.25', '1897.75', '1898', '1898.5', '1898.75', '1899',\n",
       "       '1899.25', '1900.5', '1901.75', '1902', '1905.25', '1874.25',\n",
       "       '1874.75', '1902.25', '1903.75', '1905.75', '1906', '1906.75',\n",
       "       '1907', '1907.5', '1907.75', '1908', '1908.25', '1908.5',\n",
       "       '1908.75', '1909', '1909.25', '1909.5', '1909.75', '1910',\n",
       "       '1910.25', '1910.5', '1910.75', '1911', '1911.25', '1911.5',\n",
       "       '1911.75', '1912', nan, '銀庫', '蒙古', 7.0], dtype=object)"
      ]
     },
     "execution_count": 19,
     "metadata": {},
     "output_type": "execute_result"
    }
   ],
   "source": [
    "df['year'].unique()"
   ]
  },
  {
   "cell_type": "code",
   "execution_count": 20,
   "metadata": {},
   "outputs": [
    {
     "data": {
      "text/plain": [
       "array([5.0, nan, 0.0, 7.0, 2.0, 6.0, 8.0, 4.0, 9.0, 1.0, 3.0, '8', '5',\n",
       "       '6', '7', '0', '9', '2', '1', '4', '州', '3'], dtype=object)"
      ]
     },
     "execution_count": 20,
     "metadata": {},
     "output_type": "execute_result"
    }
   ],
   "source": [
    "df['pinji_numeric'].unique()"
   ]
  },
  {
   "cell_type": "code",
   "execution_count": null,
   "metadata": {},
   "outputs": [],
   "source": []
  }
 ],
 "metadata": {
  "kernelspec": {
   "display_name": "Python 3",
   "language": "python",
   "name": "python3"
  },
  "language_info": {
   "codemirror_mode": {
    "name": "ipython",
    "version": 3
   },
   "file_extension": ".py",
   "mimetype": "text/x-python",
   "name": "python",
   "nbconvert_exporter": "python",
   "pygments_lexer": "ipython3",
   "version": "3.5.4"
  }
 },
 "nbformat": 4,
 "nbformat_minor": 2
}
