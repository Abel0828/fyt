{
 "cells": [
  {
   "cell_type": "code",
   "execution_count": 2,
   "metadata": {},
   "outputs": [],
   "source": [
    "import numpy as np\n",
    "import pandas as pd"
   ]
  },
  {
   "cell_type": "code",
   "execution_count": 3,
   "metadata": {},
   "outputs": [],
   "source": [
    "import matplotlib.pyplot as plt\n",
    "from tqdm import tqdm_notebook as tqdm"
   ]
  },
  {
   "cell_type": "code",
   "execution_count": 4,
   "metadata": {},
   "outputs": [
    {
     "name": "stderr",
     "output_type": "stream",
     "text": [
      "e:\\hkust\\learning\\fyp\\venv_fyt\\lib\\site-packages\\IPython\\core\\interactiveshell.py:3018: DtypeWarning: Columns (0,1,2,3,4,5,6,7,8,9,10,11,14,15,16,25,27,29,30,31,32,33,35,36,37,43,44,45,46,47,48,49,50,51,54,55,56,57,58,60,63,66,68,71,73,74,84,89,90,91,92) have mixed types. Specify dtype option on import or set low_memory=False.\n",
      "  interactivity=interactivity, compiler=compiler, result=result)\n"
     ]
    }
   ],
   "source": [
    "# subset_col=['year','diqu','jigou_1','jigou_2', 'jigou_3', 'guanzhi','chushen_1','pinji_numeric', 'xitong']\n",
    "df=pd.read_csv('../data/Jinshenlu.txt',sep='\\t',\n",
    "#                usecols=subset_col, \n",
    "              error_bad_lines=False)\n",
    "# df.sample(frac=0.01).to_csv('../data/Jinshenlu_sample.csv', encoding='utf-8')"
   ]
  },
  {
   "cell_type": "markdown",
   "metadata": {},
   "source": [
    "## Curate the database: filter out the malformed for the moment.\n",
    "1. Calculate the portion of malformed and some basic stats\n",
    "2. remove malformed and irrelevant(fangkeben_only=0 qiren=0 exclude people without names)"
   ]
  },
  {
   "cell_type": "code",
   "execution_count": 1,
   "metadata": {
    "scrolled": true
   },
   "outputs": [
    {
     "ename": "NameError",
     "evalue": "name 'df' is not defined",
     "output_type": "error",
     "traceback": [
      "\u001b[1;31m---------------------------------------------------------------------------\u001b[0m",
      "\u001b[1;31mNameError\u001b[0m                                 Traceback (most recent call last)",
      "\u001b[1;32m<ipython-input-1-ea8415b8a3ee>\u001b[0m in \u001b[0;36m<module>\u001b[1;34m\u001b[0m\n\u001b[1;32m----> 1\u001b[1;33m \u001b[0mdf\u001b[0m\u001b[1;33m.\u001b[0m\u001b[0mdescribe\u001b[0m\u001b[1;33m(\u001b[0m\u001b[1;33m)\u001b[0m\u001b[1;33m\u001b[0m\u001b[0m\n\u001b[0m",
      "\u001b[1;31mNameError\u001b[0m: name 'df' is not defined"
     ]
    }
   ],
   "source": [
    "df.describe()"
   ]
  },
  {
   "cell_type": "markdown",
   "metadata": {},
   "source": [
    "Count how much are machu civilians"
   ]
  },
  {
   "cell_type": "code",
   "execution_count": 5,
   "metadata": {},
   "outputs": [
    {
     "data": {
      "text/plain": [
       "0.21570111636069703"
      ]
     },
     "execution_count": 5,
     "metadata": {},
     "output_type": "execute_result"
    }
   ],
   "source": [
    "# df['qiren'].isnull().sum()\n",
    "# (df['qiren']=='1').sum()\n",
    "# df[df['qiren'].isnull()]\n",
    "(df['qiren']=='旗人').sum()/df.shape[0]"
   ]
  },
  {
   "cell_type": "code",
   "execution_count": 6,
   "metadata": {},
   "outputs": [
    {
     "data": {
      "text/plain": [
       "0.04625493778798516"
      ]
     },
     "execution_count": 6,
     "metadata": {},
     "output_type": "execute_result"
    }
   ],
   "source": [
    "(df['fangkeben_only']==1).sum()/df.shape[0]"
   ]
  },
  {
   "cell_type": "code",
   "execution_count": 7,
   "metadata": {
    "scrolled": true
   },
   "outputs": [
    {
     "name": "stdout",
     "output_type": "stream",
     "text": [
      "no surname 782335\n",
      "no last name 194191\n",
      "no zihao 2727832\n",
      "no name at all 193626\n"
     ]
    }
   ],
   "source": [
    "print('no surname',df['xing'].isnull().sum())\n",
    "print('no last name', df['ming'].isnull().sum())\n",
    "print('no zihao', df['zihao'].isnull().sum())\n",
    "print('no name at all', (df['xing'].isnull() & df['ming'].isnull() & df[ 'zihao'].isnull()).sum())\n"
   ]
  },
  {
   "cell_type": "markdown",
   "metadata": {},
   "source": [
    "Now remove all the irrelevant/malformed"
   ]
  },
  {
   "cell_type": "code",
   "execution_count": 5,
   "metadata": {},
   "outputs": [],
   "source": [
    "irr_idx=df[(df['qiren']=='旗人')|(df['fangkeben_only']==1) |\n",
    "           (df['xing'].isnull() & df['ming'].isnull() & df[ 'zihao'].isnull())].index.tolist()\n",
    "malformed_idx=df[(df['year'].isin(['銀庫', '蒙古',7.0])) | \n",
    "                 (df['pinji_numeric']=='州') | df['year'].isnull() |\n",
    "                df['qiren'].isnull()].index.tolist()\n",
    "to_remove=set(irr_idx)|set(malformed_idx)"
   ]
  },
  {
   "cell_type": "code",
   "execution_count": 11,
   "metadata": {},
   "outputs": [
    {
     "name": "stdout",
     "output_type": "stream",
     "text": [
      "918912\n"
     ]
    }
   ],
   "source": [
    "print(len(to_remove))"
   ]
  },
  {
   "cell_type": "code",
   "execution_count": 6,
   "metadata": {},
   "outputs": [],
   "source": [
    "df.drop(to_remove, inplace=True)\n",
    "df['year']=df['year'].astype(float)\n",
    "df['pinji_numeric']=df['pinji_numeric'].astype(float)"
   ]
  },
  {
   "cell_type": "markdown",
   "metadata": {},
   "source": [
    "Weird: 1880-1882 no records?"
   ]
  },
  {
   "cell_type": "code",
   "execution_count": 19,
   "metadata": {
    "scrolled": false
   },
   "outputs": [
    {
     "data": {
      "text/plain": [
       "Text(0,0.5,'#Records')"
      ]
     },
     "execution_count": 19,
     "metadata": {},
     "output_type": "execute_result"
    },
    {
     "data": {
      "image/png": "[encoded data removed]",
      "text/plain": [
       "<Figure size 1080x576 with 1 Axes>"
      ]
     },
     "metadata": {
      "needs_background": "light"
     },
     "output_type": "display_data"
    }
   ],
   "source": [
    "plt.figure(figsize=(15,8))\n",
    "counts_ends=plt.hist(df['year'].dropna(), bins=np.arange(1760,1913))\n",
    "plt.xlabel('year')\n",
    "plt.ylabel('#Records')"
   ]
  },
  {
   "cell_type": "markdown",
   "metadata": {},
   "source": [
    "Is that the real distribution of Qing civil servant's rankings?"
   ]
  },
  {
   "cell_type": "code",
   "execution_count": 20,
   "metadata": {},
   "outputs": [
    {
     "data": {
      "text/plain": [
       "Text(0,0.5,'#records')"
      ]
     },
     "execution_count": 20,
     "metadata": {},
     "output_type": "execute_result"
    },
    {
     "data": {
      "image/png": "[encoded data removed]",
      "text/plain": [
       "<Figure size 576x360 with 1 Axes>"
      ]
     },
     "metadata": {
      "needs_background": "light"
     },
     "output_type": "display_data"
    }
   ],
   "source": [
    "plt.figure(figsize=(8,5))\n",
    "plt.hist(df['pinji_numeric'].dropna().astype(float), bins=9, align='right')\n",
    "plt.xticks(np.arange(10))\n",
    "plt.xlabel('position ranking')\n",
    "plt.ylabel('#records')"
   ]
  },
  {
   "cell_type": "code",
   "execution_count": 21,
   "metadata": {},
   "outputs": [
    {
     "data": {
      "text/plain": [
       "array([1.0, 2.0, 3.0, nan, 4.0, 5.0, 6, 7, '3', '4', '2', '5', '6', '7'],\n",
       "      dtype=object)"
      ]
     },
     "execution_count": 21,
     "metadata": {},
     "output_type": "execute_result"
    }
   ],
   "source": [
    "# plt.hist(df['jicheng_hao'].dropna())\n",
    "# plt.hist(df['jicheng_hao'].astype(float))\n",
    "df['jicheng_hao'].unique()"
   ]
  },
  {
   "cell_type": "code",
   "execution_count": null,
   "metadata": {},
   "outputs": [],
   "source": [
    "tmp_df1=df[['xing', 'ming', 'zihao', ]]"
   ]
  },
  {
   "cell_type": "code",
   "execution_count": 22,
   "metadata": {},
   "outputs": [
    {
     "name": "stdout",
     "output_type": "stream",
     "text": [
      "256819\n",
      "(2058889, 97)\n"
     ]
    }
   ],
   "source": [
    "print(len(df['unique_id'].unique()))\n",
    "print(df.shape)"
   ]
  },
  {
   "cell_type": "code",
   "execution_count": 23,
   "metadata": {},
   "outputs": [
    {
     "data": {
      "text/plain": [
       "298"
      ]
     },
     "execution_count": 23,
     "metadata": {},
     "output_type": "execute_result"
    }
   ],
   "source": [
    "df['unique_id'].isnull().sum()"
   ]
  },
  {
   "cell_type": "code",
   "execution_count": 25,
   "metadata": {
    "scrolled": false
   },
   "outputs": [
    {
     "data": {
      "text/plain": [
       "(array([0.0000e+00, 7.9147e+04, 3.6388e+04, 2.1620e+04, 1.6289e+04,\n",
       "        1.2357e+04, 9.9780e+03, 7.4920e+03, 6.3330e+03, 5.5240e+03,\n",
       "        5.5460e+03, 4.2760e+03, 3.6000e+03, 3.6490e+03, 3.1900e+03,\n",
       "        3.4470e+03, 3.1860e+03, 2.3770e+03, 2.0630e+03, 2.0100e+03,\n",
       "        1.7330e+03, 1.4670e+03, 1.4260e+03, 1.2830e+03, 1.1750e+03,\n",
       "        1.1160e+03, 1.2600e+03, 1.1210e+03, 1.0430e+03, 8.8400e+02,\n",
       "        9.7200e+02, 8.2500e+02, 8.5100e+02, 6.5500e+02, 6.4000e+02,\n",
       "        6.4700e+02, 6.0400e+02, 5.9900e+02, 5.1200e+02, 5.6200e+02,\n",
       "        4.5300e+02, 4.1100e+02, 4.3500e+02, 3.9200e+02, 3.5900e+02,\n",
       "        3.7600e+02, 3.4200e+02, 3.2100e+02, 3.5300e+02, 2.7500e+02,\n",
       "        2.5200e+02, 2.5400e+02, 2.6100e+02, 2.2900e+02, 2.4100e+02,\n",
       "        2.4600e+02, 1.9100e+02, 2.2000e+02, 1.8300e+02, 1.8100e+02,\n",
       "        1.5300e+02, 1.6500e+02, 1.7500e+02, 1.4500e+02, 1.4900e+02,\n",
       "        1.2900e+02, 1.2800e+02, 1.4200e+02, 1.0300e+02, 9.6000e+01,\n",
       "        7.9000e+01, 9.5000e+01, 1.0200e+02, 6.9000e+01, 7.7000e+01,\n",
       "        5.7000e+01, 7.2000e+01, 5.8000e+01, 4.9000e+01, 5.5000e+01,\n",
       "        5.5000e+01, 6.2000e+01, 4.6000e+01, 3.6000e+01, 2.9000e+01,\n",
       "        2.9000e+01, 5.8000e+01, 3.7000e+01, 3.5000e+01, 3.2000e+01,\n",
       "        2.1000e+01, 3.8000e+01, 3.4000e+01, 2.5000e+01, 3.7000e+01,\n",
       "        2.3000e+01, 1.7000e+01, 2.5000e+01, 1.9000e+01, 1.9000e+01,\n",
       "        1.6000e+01, 1.9000e+01, 1.1000e+01, 1.6000e+01, 1.1000e+01,\n",
       "        1.1000e+01, 1.5000e+01, 1.1000e+01, 8.0000e+00, 7.0000e+00,\n",
       "        9.0000e+00, 8.0000e+00, 9.0000e+00, 9.0000e+00, 5.0000e+00,\n",
       "        0.0000e+00, 4.0000e+00, 3.0000e+00, 4.0000e+00, 1.0000e+00,\n",
       "        2.0000e+00, 1.0000e+00, 6.0000e+00, 2.0000e+00, 1.0000e+00,\n",
       "        0.0000e+00, 5.0000e+00, 3.0000e+00, 1.0000e+00, 2.0000e+00,\n",
       "        1.0000e+00, 0.0000e+00, 1.0000e+00, 0.0000e+00, 0.0000e+00,\n",
       "        0.0000e+00, 1.0000e+00, 5.0000e+00, 2.0000e+00, 1.0000e+00,\n",
       "        0.0000e+00, 1.0000e+00, 0.0000e+00, 0.0000e+00, 0.0000e+00,\n",
       "        1.0000e+00, 0.0000e+00, 0.0000e+00, 0.0000e+00, 0.0000e+00,\n",
       "        1.0000e+00, 0.0000e+00, 0.0000e+00, 0.0000e+00, 0.0000e+00,\n",
       "        0.0000e+00, 1.0000e+00, 0.0000e+00, 0.0000e+00, 0.0000e+00,\n",
       "        0.0000e+00, 1.0000e+00, 0.0000e+00, 0.0000e+00, 0.0000e+00,\n",
       "        1.0000e+00, 0.0000e+00, 0.0000e+00, 0.0000e+00, 0.0000e+00,\n",
       "        0.0000e+00, 0.0000e+00, 0.0000e+00, 0.0000e+00, 0.0000e+00,\n",
       "        0.0000e+00, 0.0000e+00, 0.0000e+00, 0.0000e+00, 0.0000e+00,\n",
       "        0.0000e+00, 0.0000e+00, 0.0000e+00, 0.0000e+00, 0.0000e+00,\n",
       "        0.0000e+00, 0.0000e+00, 0.0000e+00, 0.0000e+00, 0.0000e+00,\n",
       "        0.0000e+00, 0.0000e+00, 0.0000e+00, 0.0000e+00, 0.0000e+00,\n",
       "        2.0000e+00, 0.0000e+00, 0.0000e+00, 0.0000e+00, 0.0000e+00,\n",
       "        0.0000e+00, 0.0000e+00, 0.0000e+00, 0.0000e+00, 0.0000e+00,\n",
       "        0.0000e+00, 0.0000e+00, 0.0000e+00, 0.0000e+00, 0.0000e+00,\n",
       "        0.0000e+00, 0.0000e+00, 0.0000e+00, 0.0000e+00, 0.0000e+00,\n",
       "        0.0000e+00, 0.0000e+00, 0.0000e+00, 0.0000e+00, 0.0000e+00,\n",
       "        0.0000e+00, 0.0000e+00, 0.0000e+00, 0.0000e+00, 0.0000e+00,\n",
       "        0.0000e+00, 0.0000e+00, 0.0000e+00, 1.0000e+00, 0.0000e+00,\n",
       "        0.0000e+00, 0.0000e+00, 0.0000e+00, 0.0000e+00, 0.0000e+00,\n",
       "        0.0000e+00, 0.0000e+00, 0.0000e+00, 0.0000e+00, 0.0000e+00,\n",
       "        0.0000e+00, 0.0000e+00, 0.0000e+00, 0.0000e+00, 0.0000e+00,\n",
       "        0.0000e+00, 0.0000e+00, 0.0000e+00, 0.0000e+00, 0.0000e+00,\n",
       "        0.0000e+00, 0.0000e+00, 0.0000e+00, 0.0000e+00, 0.0000e+00,\n",
       "        0.0000e+00, 0.0000e+00, 0.0000e+00, 0.0000e+00, 0.0000e+00,\n",
       "        0.0000e+00, 0.0000e+00, 0.0000e+00, 0.0000e+00, 0.0000e+00,\n",
       "        0.0000e+00, 0.0000e+00, 0.0000e+00, 0.0000e+00, 0.0000e+00,\n",
       "        0.0000e+00, 0.0000e+00, 0.0000e+00, 0.0000e+00, 0.0000e+00,\n",
       "        0.0000e+00, 0.0000e+00, 0.0000e+00, 0.0000e+00, 0.0000e+00,\n",
       "        0.0000e+00, 0.0000e+00, 0.0000e+00, 0.0000e+00, 0.0000e+00,\n",
       "        0.0000e+00, 1.0000e+00, 0.0000e+00, 0.0000e+00, 0.0000e+00,\n",
       "        0.0000e+00, 0.0000e+00, 0.0000e+00, 0.0000e+00, 0.0000e+00,\n",
       "        0.0000e+00, 0.0000e+00, 0.0000e+00, 0.0000e+00]),\n",
       " array([  0,   1,   2,   3,   4,   5,   6,   7,   8,   9,  10,  11,  12,\n",
       "         13,  14,  15,  16,  17,  18,  19,  20,  21,  22,  23,  24,  25,\n",
       "         26,  27,  28,  29,  30,  31,  32,  33,  34,  35,  36,  37,  38,\n",
       "         39,  40,  41,  42,  43,  44,  45,  46,  47,  48,  49,  50,  51,\n",
       "         52,  53,  54,  55,  56,  57,  58,  59,  60,  61,  62,  63,  64,\n",
       "         65,  66,  67,  68,  69,  70,  71,  72,  73,  74,  75,  76,  77,\n",
       "         78,  79,  80,  81,  82,  83,  84,  85,  86,  87,  88,  89,  90,\n",
       "         91,  92,  93,  94,  95,  96,  97,  98,  99, 100, 101, 102, 103,\n",
       "        104, 105, 106, 107, 108, 109, 110, 111, 112, 113, 114, 115, 116,\n",
       "        117, 118, 119, 120, 121, 122, 123, 124, 125, 126, 127, 128, 129,\n",
       "        130, 131, 132, 133, 134, 135, 136, 137, 138, 139, 140, 141, 142,\n",
       "        143, 144, 145, 146, 147, 148, 149, 150, 151, 152, 153, 154, 155,\n",
       "        156, 157, 158, 159, 160, 161, 162, 163, 164, 165, 166, 167, 168,\n",
       "        169, 170, 171, 172, 173, 174, 175, 176, 177, 178, 179, 180, 181,\n",
       "        182, 183, 184, 185, 186, 187, 188, 189, 190, 191, 192, 193, 194,\n",
       "        195, 196, 197, 198, 199, 200, 201, 202, 203, 204, 205, 206, 207,\n",
       "        208, 209, 210, 211, 212, 213, 214, 215, 216, 217, 218, 219, 220,\n",
       "        221, 222, 223, 224, 225, 226, 227, 228, 229, 230, 231, 232, 233,\n",
       "        234, 235, 236, 237, 238, 239, 240, 241, 242, 243, 244, 245, 246,\n",
       "        247, 248, 249, 250, 251, 252, 253, 254, 255, 256, 257, 258, 259,\n",
       "        260, 261, 262, 263, 264, 265, 266, 267, 268, 269, 270, 271, 272,\n",
       "        273, 274, 275, 276, 277, 278, 279, 280, 281, 282, 283, 284, 285,\n",
       "        286, 287, 288, 289, 290, 291, 292, 293, 294, 295, 296, 297, 298,\n",
       "        299]),\n",
       " <a list of 299 Patch objects>)"
      ]
     },
     "execution_count": 25,
     "metadata": {},
     "output_type": "execute_result"
    },
    {
     "data": {
      "image/png": "[encoded data removed]",
      "text/plain": [
       "<Figure size 1080x576 with 1 Axes>"
      ]
     },
     "metadata": {
      "needs_background": "light"
     },
     "output_type": "display_data"
    }
   ],
   "source": [
    "plt.figure(figsize=(15,8))\n",
    "plt.hist(df['unique_id'].value_counts(), bins=np.arange(0,300))"
   ]
  },
  {
   "cell_type": "code",
   "execution_count": 29,
   "metadata": {
    "scrolled": false
   },
   "outputs": [
    {
     "data": {
      "text/plain": [
       "(array([0.0000e+00, 7.8318e+04, 3.6107e+04, 2.1525e+04, 1.6194e+04,\n",
       "        1.2359e+04, 1.0010e+04, 7.4940e+03, 6.3780e+03, 5.5400e+03,\n",
       "        5.5260e+03, 4.2830e+03, 3.6080e+03, 3.6640e+03, 3.2170e+03,\n",
       "        3.4710e+03, 3.1810e+03, 2.3890e+03, 2.0930e+03, 2.0220e+03,\n",
       "        1.7620e+03, 1.5060e+03, 1.4310e+03, 1.2850e+03, 1.1910e+03,\n",
       "        1.1540e+03, 1.3060e+03, 1.1410e+03, 1.0640e+03, 9.0800e+02,\n",
       "        9.7800e+02, 8.6400e+02, 8.8200e+02, 6.9500e+02, 6.7600e+02,\n",
       "        6.7800e+02, 6.3500e+02, 6.2700e+02, 5.2300e+02, 5.9100e+02,\n",
       "        4.8000e+02, 4.2800e+02, 4.6600e+02, 3.9600e+02, 3.6600e+02,\n",
       "        3.9400e+02, 3.6000e+02, 3.4700e+02, 3.5600e+02, 2.8500e+02,\n",
       "        2.8300e+02, 2.7300e+02, 2.6800e+02, 2.4400e+02, 2.4800e+02,\n",
       "        2.7100e+02, 2.0700e+02, 2.2900e+02, 2.0700e+02, 2.0200e+02,\n",
       "        1.7400e+02, 1.6500e+02, 1.9700e+02, 1.4900e+02, 1.6000e+02,\n",
       "        1.2700e+02, 1.3000e+02, 1.5300e+02, 1.0800e+02, 9.6000e+01,\n",
       "        8.7000e+01, 9.6000e+01, 1.0400e+02, 7.5000e+01, 8.2000e+01,\n",
       "        6.6000e+01, 7.2000e+01, 5.4000e+01, 5.3000e+01, 6.3000e+01,\n",
       "        6.2000e+01, 5.9000e+01, 5.1000e+01, 4.9000e+01, 3.5000e+01,\n",
       "        2.9000e+01, 6.5000e+01, 3.8000e+01, 4.2000e+01, 3.6000e+01,\n",
       "        2.9000e+01, 4.0000e+01, 3.5000e+01, 2.7000e+01, 3.6000e+01,\n",
       "        2.2000e+01, 1.7000e+01, 2.3000e+01, 2.2000e+01, 2.2000e+01,\n",
       "        1.9000e+01, 2.2000e+01, 1.8000e+01, 1.7000e+01, 1.9000e+01,\n",
       "        9.0000e+00, 1.5000e+01, 1.0000e+01, 6.0000e+00, 1.1000e+01,\n",
       "        9.0000e+00, 1.0000e+01, 8.0000e+00, 1.1000e+01, 5.0000e+00,\n",
       "        0.0000e+00, 6.0000e+00, 2.0000e+00, 5.0000e+00, 3.0000e+00,\n",
       "        2.0000e+00, 3.0000e+00, 7.0000e+00, 4.0000e+00, 2.0000e+00,\n",
       "        1.0000e+00, 4.0000e+00, 1.0000e+00, 4.0000e+00, 6.0000e+00,\n",
       "        1.0000e+00, 0.0000e+00, 2.0000e+00, 2.0000e+00, 0.0000e+00,\n",
       "        3.0000e+00, 3.0000e+00, 5.0000e+00, 1.0000e+00, 3.0000e+00,\n",
       "        0.0000e+00, 0.0000e+00, 0.0000e+00, 1.0000e+00, 0.0000e+00,\n",
       "        1.0000e+00, 1.0000e+00, 1.0000e+00, 1.0000e+00, 1.0000e+00,\n",
       "        1.0000e+00, 0.0000e+00, 0.0000e+00, 1.0000e+00, 0.0000e+00,\n",
       "        0.0000e+00, 0.0000e+00, 1.0000e+00, 1.0000e+00, 2.0000e+00,\n",
       "        1.0000e+00, 0.0000e+00, 1.0000e+00, 2.0000e+00, 0.0000e+00,\n",
       "        1.0000e+00, 1.0000e+00, 0.0000e+00, 0.0000e+00, 0.0000e+00,\n",
       "        0.0000e+00, 0.0000e+00, 0.0000e+00, 0.0000e+00, 0.0000e+00,\n",
       "        0.0000e+00, 0.0000e+00, 0.0000e+00, 0.0000e+00, 0.0000e+00,\n",
       "        0.0000e+00, 0.0000e+00, 1.0000e+00, 0.0000e+00, 0.0000e+00,\n",
       "        0.0000e+00, 0.0000e+00, 0.0000e+00, 0.0000e+00, 0.0000e+00,\n",
       "        0.0000e+00, 0.0000e+00, 0.0000e+00, 0.0000e+00, 0.0000e+00,\n",
       "        0.0000e+00, 0.0000e+00, 0.0000e+00, 0.0000e+00, 0.0000e+00,\n",
       "        0.0000e+00, 1.0000e+00, 0.0000e+00, 0.0000e+00, 0.0000e+00,\n",
       "        0.0000e+00, 0.0000e+00, 0.0000e+00, 0.0000e+00, 0.0000e+00,\n",
       "        0.0000e+00, 0.0000e+00, 0.0000e+00, 0.0000e+00, 0.0000e+00,\n",
       "        0.0000e+00, 0.0000e+00, 0.0000e+00, 0.0000e+00, 0.0000e+00,\n",
       "        0.0000e+00, 0.0000e+00, 1.0000e+00, 0.0000e+00, 0.0000e+00,\n",
       "        0.0000e+00, 0.0000e+00, 0.0000e+00, 1.0000e+00, 0.0000e+00,\n",
       "        0.0000e+00, 0.0000e+00, 0.0000e+00, 0.0000e+00, 0.0000e+00,\n",
       "        0.0000e+00, 0.0000e+00, 0.0000e+00, 0.0000e+00, 0.0000e+00,\n",
       "        0.0000e+00, 0.0000e+00, 0.0000e+00, 0.0000e+00, 0.0000e+00,\n",
       "        0.0000e+00, 0.0000e+00, 0.0000e+00, 0.0000e+00, 0.0000e+00,\n",
       "        0.0000e+00, 0.0000e+00, 0.0000e+00, 0.0000e+00, 0.0000e+00,\n",
       "        0.0000e+00, 0.0000e+00, 0.0000e+00, 0.0000e+00, 0.0000e+00,\n",
       "        0.0000e+00, 0.0000e+00, 0.0000e+00, 0.0000e+00, 0.0000e+00,\n",
       "        0.0000e+00, 0.0000e+00, 0.0000e+00, 0.0000e+00, 0.0000e+00,\n",
       "        0.0000e+00, 0.0000e+00, 0.0000e+00, 0.0000e+00, 0.0000e+00,\n",
       "        0.0000e+00, 0.0000e+00, 0.0000e+00, 0.0000e+00, 0.0000e+00,\n",
       "        0.0000e+00, 0.0000e+00, 0.0000e+00, 0.0000e+00, 0.0000e+00,\n",
       "        0.0000e+00, 0.0000e+00, 0.0000e+00, 0.0000e+00, 0.0000e+00,\n",
       "        0.0000e+00, 0.0000e+00, 0.0000e+00, 0.0000e+00, 1.0000e+00,\n",
       "        0.0000e+00, 0.0000e+00, 0.0000e+00, 0.0000e+00]),\n",
       " array([  0,   1,   2,   3,   4,   5,   6,   7,   8,   9,  10,  11,  12,\n",
       "         13,  14,  15,  16,  17,  18,  19,  20,  21,  22,  23,  24,  25,\n",
       "         26,  27,  28,  29,  30,  31,  32,  33,  34,  35,  36,  37,  38,\n",
       "         39,  40,  41,  42,  43,  44,  45,  46,  47,  48,  49,  50,  51,\n",
       "         52,  53,  54,  55,  56,  57,  58,  59,  60,  61,  62,  63,  64,\n",
       "         65,  66,  67,  68,  69,  70,  71,  72,  73,  74,  75,  76,  77,\n",
       "         78,  79,  80,  81,  82,  83,  84,  85,  86,  87,  88,  89,  90,\n",
       "         91,  92,  93,  94,  95,  96,  97,  98,  99, 100, 101, 102, 103,\n",
       "        104, 105, 106, 107, 108, 109, 110, 111, 112, 113, 114, 115, 116,\n",
       "        117, 118, 119, 120, 121, 122, 123, 124, 125, 126, 127, 128, 129,\n",
       "        130, 131, 132, 133, 134, 135, 136, 137, 138, 139, 140, 141, 142,\n",
       "        143, 144, 145, 146, 147, 148, 149, 150, 151, 152, 153, 154, 155,\n",
       "        156, 157, 158, 159, 160, 161, 162, 163, 164, 165, 166, 167, 168,\n",
       "        169, 170, 171, 172, 173, 174, 175, 176, 177, 178, 179, 180, 181,\n",
       "        182, 183, 184, 185, 186, 187, 188, 189, 190, 191, 192, 193, 194,\n",
       "        195, 196, 197, 198, 199, 200, 201, 202, 203, 204, 205, 206, 207,\n",
       "        208, 209, 210, 211, 212, 213, 214, 215, 216, 217, 218, 219, 220,\n",
       "        221, 222, 223, 224, 225, 226, 227, 228, 229, 230, 231, 232, 233,\n",
       "        234, 235, 236, 237, 238, 239, 240, 241, 242, 243, 244, 245, 246,\n",
       "        247, 248, 249, 250, 251, 252, 253, 254, 255, 256, 257, 258, 259,\n",
       "        260, 261, 262, 263, 264, 265, 266, 267, 268, 269, 270, 271, 272,\n",
       "        273, 274, 275, 276, 277, 278, 279, 280, 281, 282, 283, 284, 285,\n",
       "        286, 287, 288, 289, 290, 291, 292, 293, 294, 295, 296, 297, 298,\n",
       "        299]),\n",
       " <a list of 299 Patch objects>)"
      ]
     },
     "execution_count": 29,
     "metadata": {},
     "output_type": "execute_result"
    },
    {
     "data": {
      "image/png": "[encoded data removed]",
      "text/plain": [
       "<Figure size 1080x576 with 1 Axes>"
      ]
     },
     "metadata": {
      "needs_background": "light"
     },
     "output_type": "display_data"
    }
   ],
   "source": [
    "plt.figure(figsize=(15,8))\n",
    "plt.hist(df[['unique_id', 'linked_record_count']].drop_duplicates()['linked_record_count'].dropna(), bins=np.arange(0,300))\n",
    "# plt.hist(df['linked_record_count'].dropna(), )"
   ]
  },
  {
   "cell_type": "markdown",
   "metadata": {},
   "source": [
    "Examine rankings in detail"
   ]
  },
  {
   "cell_type": "code",
   "execution_count": 38,
   "metadata": {},
   "outputs": [
    {
     "data": {
      "text/plain": [
       "array([nan, '正八品', '正七品', '從九品', '正六品', '從五品', '正五品', '從七品', '未入流', '從六品',\n",
       "       '正二品', '從四品', '正九品', '從三品', '從一品', '正四品', '正三品', '八品', '正一品',\n",
       "       '從二品', '從八品', '從一品(應為正四品)', '三品', '九品', '四品', '不入流', '六品', '一品',\n",
       "       '二品', '七品', '五品'], dtype=object)"
      ]
     },
     "execution_count": 38,
     "metadata": {},
     "output_type": "execute_result"
    }
   ],
   "source": [
    "df['pinji_detailed'].unique()"
   ]
  },
  {
   "cell_type": "code",
   "execution_count": 33,
   "metadata": {},
   "outputs": [
    {
     "data": {
      "text/plain": [
       "(320167, 97)"
      ]
     },
     "execution_count": 33,
     "metadata": {},
     "output_type": "execute_result"
    }
   ],
   "source": [
    "df[df['pinji_detailed'].isnull()].shape"
   ]
  },
  {
   "cell_type": "code",
   "execution_count": 7,
   "metadata": {
    "scrolled": false
   },
   "outputs": [
    {
     "name": "stdout",
     "output_type": "stream",
     "text": [
      "nan converted into 10.0\n",
      "正八品 converted into 8.0\n",
      "正七品 converted into 7.0\n",
      "從九品 converted into 9.5\n",
      "正六品 converted into 6.0\n",
      "從五品 converted into 5.5\n",
      "正五品 converted into 5.0\n",
      "從七品 converted into 7.5\n",
      "未入流 converted into 10.0\n",
      "從六品 converted into 6.5\n",
      "正二品 converted into 2.0\n",
      "從四品 converted into 4.5\n",
      "正九品 converted into 9.0\n",
      "從三品 converted into 3.5\n",
      "從一品 converted into 1.5\n",
      "正四品 converted into 4.0\n",
      "正三品 converted into 3.0\n",
      "八品 converted into 8.0\n",
      "正一品 converted into 1.0\n",
      "從二品 converted into 2.5\n",
      "從八品 converted into 8.5\n",
      "從一品(應為正四品) converted into 4.0\n",
      "三品 converted into 3.0\n",
      "九品 converted into 9.0\n",
      "四品 converted into 4.0\n",
      "不入流 converted into 10.0\n",
      "六品 converted into 6.0\n",
      "一品 converted into 1.0\n",
      "二品 converted into 2.0\n",
      "七品 converted into 7.0\n",
      "五品 converted into 5.0\n"
     ]
    }
   ],
   "source": [
    "def str2float(s):\n",
    "    if s in [np.nan, '不入流', '未入流']:\n",
    "        return 10.0\n",
    "    if s=='從一品(應為正四品)':\n",
    "        return 4.0\n",
    "    dic=dict(zip(['一', '二','三','四','五', '六','七','八','九'], np.arange(1,10)))\n",
    "    base = dic[s[-2]]\n",
    "    base+=0.5*('從' in s)\n",
    "    return float(base)\n",
    "for i in df['pinji_detailed'].unique():\n",
    "    print(i, 'converted into', str2float(i))"
   ]
  },
  {
   "cell_type": "code",
   "execution_count": 8,
   "metadata": {},
   "outputs": [],
   "source": [
    "df['pinjin_detailed_numeric']=df['pinji_detailed'].apply(str2float)"
   ]
  },
  {
   "cell_type": "code",
   "execution_count": null,
   "metadata": {},
   "outputs": [
    {
     "data": {
      "application/vnd.jupyter.widget-view+json": {
       "model_id": "39b903ef069343a084abd3f137a08ab8",
       "version_major": 2,
       "version_minor": 0
      },
      "text/plain": [
       "HBox(children=(IntProgress(value=0, max=256818), HTML(value='')))"
      ]
     },
     "metadata": {},
     "output_type": "display_data"
    }
   ],
   "source": [
    "min_arr=[]\n",
    "for id, subtable in tqdm(df[['unique_id','pinjin_detailed_numeric']].groupby('unique_id')):\n",
    "    if subtable['pinjin_detailed_numeric'].isnull().all():\n",
    "        continue\n",
    "    key=subtable['pinjin_detailed_numeric'].max()\n",
    "    arr=subtable['pinjin_detailed_numeric'].dropna().values\n",
    "    min_arr.append((key, arr))\n",
    "sorted_min_arr=sorted(min_arr, key=lambda x:x[0])"
   ]
  },
  {
   "cell_type": "code",
   "execution_count": null,
   "metadata": {
    "scrolled": true
   },
   "outputs": [],
   "source": [
    "points=[]\n",
    "colors=[]\n",
    "for i, (start,rankings) in tqdm(enumerate(sorted_min_arr)):\n",
    "    for ranking in rankings:\n",
    "        points.append([ranking, i])\n",
    "        colors.append(start)\n",
    "#     for itp in np.arange(rankings.min(), rankings.max(), 0.2):\n",
    "#         points.append([itp, i])\n",
    "points=np.array(points)"
   ]
  },
  {
   "cell_type": "code",
   "execution_count": null,
   "metadata": {
    "scrolled": false
   },
   "outputs": [],
   "source": [
    "plt.style.use('white-grid')\n",
    "plt.figure(figsize=(15,15))\n",
    "plt.scatter(points[:,0],points[:,1],s=0.01, c=colors, cmap='rainbow')\n",
    "plt.colorbar(label='Ranking')\n",
    "plt.xlabel('Ranking')\n",
    "plt.xticks(np.arange(1, 10.1,0.5))"
   ]
  },
  {
   "cell_type": "code",
   "execution_count": 18,
   "metadata": {},
   "outputs": [
    {
     "data": {
      "application/vnd.jupyter.widget-view+json": {
       "model_id": "a3371230a35c4fe5bf924621af18ace3",
       "version_major": 2,
       "version_minor": 0
      },
      "text/plain": [
       "HBox(children=(IntProgress(value=0, max=256818), HTML(value='')))"
      ]
     },
     "metadata": {},
     "output_type": "display_data"
    },
    {
     "name": "stdout",
     "output_type": "stream",
     "text": [
      "\n",
      "256818\n",
      "(2058889, 98)\n",
      "0.12473620481725824\n"
     ]
    }
   ],
   "source": [
    "count=0\n",
    "for id, subtable in tqdm(df[['unique_id','pinjin_detailed_numeric']].groupby('unique_id')):\n",
    "    if subtable['pinjin_detailed_numeric'].notnull().any():\n",
    "        count+=1\n"
   ]
  },
  {
   "cell_type": "code",
   "execution_count": 1,
   "metadata": {},
   "outputs": [
    {
     "ename": "NameError",
     "evalue": "name 'count' is not defined",
     "output_type": "error",
     "traceback": [
      "\u001b[1;31m---------------------------------------------------------------------------\u001b[0m",
      "\u001b[1;31mNameError\u001b[0m                                 Traceback (most recent call last)",
      "\u001b[1;32m<ipython-input-1-cd5ec6cab1dc>\u001b[0m in \u001b[0;36m<module>\u001b[1;34m\u001b[0m\n\u001b[1;32m----> 1\u001b[1;33m \u001b[0mprint\u001b[0m\u001b[1;33m(\u001b[0m\u001b[0mcount\u001b[0m\u001b[1;33m)\u001b[0m\u001b[1;33m\u001b[0m\u001b[0m\n\u001b[0m\u001b[0;32m      2\u001b[0m \u001b[0mprint\u001b[0m\u001b[1;33m(\u001b[0m\u001b[0mdf\u001b[0m\u001b[1;33m[\u001b[0m\u001b[1;34m'unique_id'\u001b[0m\u001b[1;33m]\u001b[0m\u001b[1;33m.\u001b[0m\u001b[0munique\u001b[0m\u001b[1;33m(\u001b[0m\u001b[1;33m)\u001b[0m\u001b[1;33m.\u001b[0m\u001b[0mshape\u001b[0m\u001b[1;33m[\u001b[0m\u001b[1;36m0\u001b[0m\u001b[1;33m]\u001b[0m\u001b[1;33m)\u001b[0m\u001b[1;33m\u001b[0m\u001b[0m\n\u001b[0;32m      3\u001b[0m \u001b[0mprint\u001b[0m\u001b[1;33m(\u001b[0m\u001b[0mcount\u001b[0m\u001b[1;33m/\u001b[0m\u001b[0mdf\u001b[0m\u001b[1;33m[\u001b[0m\u001b[1;34m'unique_id'\u001b[0m\u001b[1;33m]\u001b[0m\u001b[1;33m.\u001b[0m\u001b[0munique\u001b[0m\u001b[1;33m(\u001b[0m\u001b[1;33m)\u001b[0m\u001b[1;33m.\u001b[0m\u001b[0mshape\u001b[0m\u001b[1;33m[\u001b[0m\u001b[1;36m0\u001b[0m\u001b[1;33m]\u001b[0m\u001b[1;33m)\u001b[0m\u001b[1;33m\u001b[0m\u001b[0m\n",
      "\u001b[1;31mNameError\u001b[0m: name 'count' is not defined"
     ]
    }
   ],
   "source": [
    "print(count)\n",
    "print(df['unique_id'].unique().shape[0])\n",
    "print(count/df['unique_id'].unique().shape[0])"
   ]
  },
  {
   "cell_type": "code",
   "execution_count": null,
   "metadata": {},
   "outputs": [],
   "source": []
  }
 ],
 "metadata": {
  "kernelspec": {
   "display_name": "Python 3",
   "language": "python",
   "name": "python3"
  },
  "language_info": {
   "codemirror_mode": {
    "name": "ipython",
    "version": 3
   },
   "file_extension": ".py",
   "mimetype": "text/x-python",
   "name": "python",
   "nbconvert_exporter": "python",
   "pygments_lexer": "ipython3",
   "version": "3.5.4"
  }
 },
 "nbformat": 4,
 "nbformat_minor": 2
}
